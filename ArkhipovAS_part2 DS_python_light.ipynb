{
 "cells": [
  {
   "cell_type": "code",
   "execution_count": 165,
   "id": "ab73bf95",
   "metadata": {},
   "outputs": [],
   "source": [
    "import pandas as pd\n",
    "import numpy as np\n",
    "import scipy.stats as sts\n",
    "import seaborn as sns"
   ]
  },
  {
   "cell_type": "code",
   "execution_count": 353,
   "id": "a651e723",
   "metadata": {},
   "outputs": [],
   "source": [
    "df = pd.read_csv('/Users/artemarhipov/Downloads/churn_dataset.csv')"
   ]
  },
  {
   "cell_type": "markdown",
   "id": "9fb58079",
   "metadata": {},
   "source": [
    "# Data Observing"
   ]
  },
  {
   "cell_type": "code",
   "execution_count": 354,
   "id": "fdc6f736",
   "metadata": {},
   "outputs": [
    {
     "data": {
      "text/html": [
       "<div>\n",
       "<style scoped>\n",
       "    .dataframe tbody tr th:only-of-type {\n",
       "        vertical-align: middle;\n",
       "    }\n",
       "\n",
       "    .dataframe tbody tr th {\n",
       "        vertical-align: top;\n",
       "    }\n",
       "\n",
       "    .dataframe thead th {\n",
       "        text-align: right;\n",
       "    }\n",
       "</style>\n",
       "<table border=\"1\" class=\"dataframe\">\n",
       "  <thead>\n",
       "    <tr style=\"text-align: right;\">\n",
       "      <th></th>\n",
       "      <th>rev_Mean</th>\n",
       "      <th>mou_Mean</th>\n",
       "      <th>totmrc_Mean</th>\n",
       "      <th>da_Mean</th>\n",
       "      <th>ovrmou_Mean</th>\n",
       "      <th>ovrrev_Mean</th>\n",
       "      <th>vceovr_Mean</th>\n",
       "      <th>datovr_Mean</th>\n",
       "      <th>roam_Mean</th>\n",
       "      <th>change_mou</th>\n",
       "      <th>...</th>\n",
       "      <th>forgntvl</th>\n",
       "      <th>ethnic</th>\n",
       "      <th>kid0_2</th>\n",
       "      <th>kid3_5</th>\n",
       "      <th>kid6_10</th>\n",
       "      <th>kid11_15</th>\n",
       "      <th>kid16_17</th>\n",
       "      <th>creditcd</th>\n",
       "      <th>eqpdays</th>\n",
       "      <th>Customer_ID</th>\n",
       "    </tr>\n",
       "  </thead>\n",
       "  <tbody>\n",
       "    <tr>\n",
       "      <th>0</th>\n",
       "      <td>23.9975</td>\n",
       "      <td>219.25</td>\n",
       "      <td>22.500</td>\n",
       "      <td>0.2475</td>\n",
       "      <td>0.00</td>\n",
       "      <td>0.0</td>\n",
       "      <td>0.0</td>\n",
       "      <td>0.0</td>\n",
       "      <td>0.0</td>\n",
       "      <td>-157.25</td>\n",
       "      <td>...</td>\n",
       "      <td>0.0</td>\n",
       "      <td>N</td>\n",
       "      <td>U</td>\n",
       "      <td>U</td>\n",
       "      <td>U</td>\n",
       "      <td>U</td>\n",
       "      <td>U</td>\n",
       "      <td>Y</td>\n",
       "      <td>361.0</td>\n",
       "      <td>1000001</td>\n",
       "    </tr>\n",
       "    <tr>\n",
       "      <th>1</th>\n",
       "      <td>57.4925</td>\n",
       "      <td>482.75</td>\n",
       "      <td>37.425</td>\n",
       "      <td>0.2475</td>\n",
       "      <td>22.75</td>\n",
       "      <td>9.1</td>\n",
       "      <td>9.1</td>\n",
       "      <td>0.0</td>\n",
       "      <td>0.0</td>\n",
       "      <td>532.25</td>\n",
       "      <td>...</td>\n",
       "      <td>0.0</td>\n",
       "      <td>Z</td>\n",
       "      <td>U</td>\n",
       "      <td>U</td>\n",
       "      <td>U</td>\n",
       "      <td>U</td>\n",
       "      <td>U</td>\n",
       "      <td>Y</td>\n",
       "      <td>240.0</td>\n",
       "      <td>1000002</td>\n",
       "    </tr>\n",
       "    <tr>\n",
       "      <th>2</th>\n",
       "      <td>16.9900</td>\n",
       "      <td>10.25</td>\n",
       "      <td>16.990</td>\n",
       "      <td>0.0000</td>\n",
       "      <td>0.00</td>\n",
       "      <td>0.0</td>\n",
       "      <td>0.0</td>\n",
       "      <td>0.0</td>\n",
       "      <td>0.0</td>\n",
       "      <td>-4.25</td>\n",
       "      <td>...</td>\n",
       "      <td>0.0</td>\n",
       "      <td>N</td>\n",
       "      <td>U</td>\n",
       "      <td>Y</td>\n",
       "      <td>U</td>\n",
       "      <td>U</td>\n",
       "      <td>U</td>\n",
       "      <td>Y</td>\n",
       "      <td>1504.0</td>\n",
       "      <td>1000003</td>\n",
       "    </tr>\n",
       "    <tr>\n",
       "      <th>3</th>\n",
       "      <td>38.0000</td>\n",
       "      <td>7.50</td>\n",
       "      <td>38.000</td>\n",
       "      <td>0.0000</td>\n",
       "      <td>0.00</td>\n",
       "      <td>0.0</td>\n",
       "      <td>0.0</td>\n",
       "      <td>0.0</td>\n",
       "      <td>0.0</td>\n",
       "      <td>-1.50</td>\n",
       "      <td>...</td>\n",
       "      <td>0.0</td>\n",
       "      <td>U</td>\n",
       "      <td>Y</td>\n",
       "      <td>U</td>\n",
       "      <td>U</td>\n",
       "      <td>U</td>\n",
       "      <td>U</td>\n",
       "      <td>Y</td>\n",
       "      <td>1812.0</td>\n",
       "      <td>1000004</td>\n",
       "    </tr>\n",
       "    <tr>\n",
       "      <th>4</th>\n",
       "      <td>55.2300</td>\n",
       "      <td>570.50</td>\n",
       "      <td>71.980</td>\n",
       "      <td>0.0000</td>\n",
       "      <td>0.00</td>\n",
       "      <td>0.0</td>\n",
       "      <td>0.0</td>\n",
       "      <td>0.0</td>\n",
       "      <td>0.0</td>\n",
       "      <td>38.50</td>\n",
       "      <td>...</td>\n",
       "      <td>0.0</td>\n",
       "      <td>I</td>\n",
       "      <td>U</td>\n",
       "      <td>U</td>\n",
       "      <td>U</td>\n",
       "      <td>U</td>\n",
       "      <td>U</td>\n",
       "      <td>Y</td>\n",
       "      <td>434.0</td>\n",
       "      <td>1000005</td>\n",
       "    </tr>\n",
       "  </tbody>\n",
       "</table>\n",
       "<p>5 rows × 100 columns</p>\n",
       "</div>"
      ],
      "text/plain": [
       "   rev_Mean  mou_Mean  totmrc_Mean  da_Mean  ovrmou_Mean  ovrrev_Mean  \\\n",
       "0   23.9975    219.25       22.500   0.2475         0.00          0.0   \n",
       "1   57.4925    482.75       37.425   0.2475        22.75          9.1   \n",
       "2   16.9900     10.25       16.990   0.0000         0.00          0.0   \n",
       "3   38.0000      7.50       38.000   0.0000         0.00          0.0   \n",
       "4   55.2300    570.50       71.980   0.0000         0.00          0.0   \n",
       "\n",
       "   vceovr_Mean  datovr_Mean  roam_Mean  change_mou  ...  forgntvl  ethnic  \\\n",
       "0          0.0          0.0        0.0     -157.25  ...       0.0       N   \n",
       "1          9.1          0.0        0.0      532.25  ...       0.0       Z   \n",
       "2          0.0          0.0        0.0       -4.25  ...       0.0       N   \n",
       "3          0.0          0.0        0.0       -1.50  ...       0.0       U   \n",
       "4          0.0          0.0        0.0       38.50  ...       0.0       I   \n",
       "\n",
       "   kid0_2  kid3_5  kid6_10  kid11_15  kid16_17  creditcd  eqpdays  Customer_ID  \n",
       "0       U       U        U         U         U         Y    361.0      1000001  \n",
       "1       U       U        U         U         U         Y    240.0      1000002  \n",
       "2       U       Y        U         U         U         Y   1504.0      1000003  \n",
       "3       Y       U        U         U         U         Y   1812.0      1000004  \n",
       "4       U       U        U         U         U         Y    434.0      1000005  \n",
       "\n",
       "[5 rows x 100 columns]"
      ]
     },
     "execution_count": 354,
     "metadata": {},
     "output_type": "execute_result"
    }
   ],
   "source": [
    "df.head()"
   ]
  },
  {
   "cell_type": "code",
   "execution_count": 64,
   "id": "d4b55451",
   "metadata": {},
   "outputs": [
    {
     "name": "stdout",
     "output_type": "stream",
     "text": [
      "count strs: 100000 ,count columns: 100\n"
     ]
    }
   ],
   "source": [
    "print('count strs:', df.shape[0], ',count columns:',df.shape[1])"
   ]
  },
  {
   "cell_type": "markdown",
   "id": "57a642d1",
   "metadata": {},
   "source": [
    "### Посмотрим на таргет (churn)"
   ]
  },
  {
   "cell_type": "code",
   "execution_count": 65,
   "id": "baa157f6",
   "metadata": {},
   "outputs": [
    {
     "data": {
      "text/plain": [
       "0"
      ]
     },
     "execution_count": 65,
     "metadata": {},
     "output_type": "execute_result"
    }
   ],
   "source": [
    "df.churn.isna().sum() # пустых значений целевой переменной нет"
   ]
  },
  {
   "cell_type": "markdown",
   "id": "d7f3ee33",
   "metadata": {},
   "source": [
    "#### Перекоса классов в таргете нет, бинарная классификация -> для валидации можем использовать accuracy, однако очевидно, что мы не можем находить всех уходящих в отток клиентов и только их. Но, определив стратегию и ресурс для удержания клиентов, мы можем подобрать нужные пороги по precision и recall. Например, можно сосредоточиться на удержании только высокодоходных клиентов или тех, кто уйдет с большей вероятностью, так как мы ограничены в ресурсах колл-центра, например "
   ]
  },
  {
   "cell_type": "code",
   "execution_count": 67,
   "id": "505504b2",
   "metadata": {},
   "outputs": [
    {
     "name": "stdout",
     "output_type": "stream",
     "text": [
      "записей 1 класса: 49562 ,нулевого: 50438\n"
     ]
    }
   ],
   "source": [
    "print('записей 1 класса:',df.churn.sum(), ',нулевого:', df.shape[0] - df.churn.sum())"
   ]
  },
  {
   "cell_type": "markdown",
   "id": "421f71ba",
   "metadata": {},
   "source": [
    "### Типы данных в столбцах"
   ]
  },
  {
   "cell_type": "code",
   "execution_count": 100,
   "id": "b8ebfcd0",
   "metadata": {},
   "outputs": [
    {
     "data": {
      "text/plain": [
       "float64    69\n",
       "object     21\n",
       "int64      10\n",
       "dtype: int64"
      ]
     },
     "execution_count": 100,
     "metadata": {},
     "output_type": "execute_result"
    }
   ],
   "source": [
    "df.dtypes.value_counts()"
   ]
  },
  {
   "cell_type": "code",
   "execution_count": 103,
   "id": "96ffeb84",
   "metadata": {},
   "outputs": [
    {
     "data": {
      "text/plain": [
       "Index(['new_cell', 'crclscod', 'asl_flag', 'prizm_social_one', 'area',\n",
       "       'dualband', 'refurb_new', 'hnd_webcap', 'ownrent', 'dwlltype',\n",
       "       'marital', 'infobase', 'HHstatin', 'dwllsize', 'ethnic', 'kid0_2',\n",
       "       'kid3_5', 'kid6_10', 'kid11_15', 'kid16_17', 'creditcd'],\n",
       "      dtype='object')"
      ]
     },
     "execution_count": 103,
     "metadata": {},
     "output_type": "execute_result"
    }
   ],
   "source": [
    "df.select_dtypes(include=['object']).columns"
   ]
  },
  {
   "cell_type": "code",
   "execution_count": 114,
   "id": "0dff8752",
   "metadata": {},
   "outputs": [
    {
     "data": {
      "text/html": [
       "<div>\n",
       "<style scoped>\n",
       "    .dataframe tbody tr th:only-of-type {\n",
       "        vertical-align: middle;\n",
       "    }\n",
       "\n",
       "    .dataframe tbody tr th {\n",
       "        vertical-align: top;\n",
       "    }\n",
       "\n",
       "    .dataframe thead th {\n",
       "        text-align: right;\n",
       "    }\n",
       "</style>\n",
       "<table border=\"1\" class=\"dataframe\">\n",
       "  <thead>\n",
       "    <tr style=\"text-align: right;\">\n",
       "      <th></th>\n",
       "      <th>new_cell</th>\n",
       "      <th>crclscod</th>\n",
       "      <th>asl_flag</th>\n",
       "      <th>prizm_social_one</th>\n",
       "      <th>area</th>\n",
       "      <th>dualband</th>\n",
       "      <th>refurb_new</th>\n",
       "      <th>hnd_webcap</th>\n",
       "      <th>ownrent</th>\n",
       "      <th>dwlltype</th>\n",
       "      <th>...</th>\n",
       "      <th>infobase</th>\n",
       "      <th>HHstatin</th>\n",
       "      <th>dwllsize</th>\n",
       "      <th>ethnic</th>\n",
       "      <th>kid0_2</th>\n",
       "      <th>kid3_5</th>\n",
       "      <th>kid6_10</th>\n",
       "      <th>kid11_15</th>\n",
       "      <th>kid16_17</th>\n",
       "      <th>creditcd</th>\n",
       "    </tr>\n",
       "  </thead>\n",
       "  <tbody>\n",
       "    <tr>\n",
       "      <th>0</th>\n",
       "      <td>U</td>\n",
       "      <td>A</td>\n",
       "      <td>N</td>\n",
       "      <td>S</td>\n",
       "      <td>NORTHWEST/ROCKY MOUNTAIN AREA</td>\n",
       "      <td>Y</td>\n",
       "      <td>N</td>\n",
       "      <td>WCMB</td>\n",
       "      <td>O</td>\n",
       "      <td>S</td>\n",
       "      <td>...</td>\n",
       "      <td>M</td>\n",
       "      <td>C</td>\n",
       "      <td>A</td>\n",
       "      <td>N</td>\n",
       "      <td>U</td>\n",
       "      <td>U</td>\n",
       "      <td>U</td>\n",
       "      <td>U</td>\n",
       "      <td>U</td>\n",
       "      <td>Y</td>\n",
       "    </tr>\n",
       "  </tbody>\n",
       "</table>\n",
       "<p>1 rows × 21 columns</p>\n",
       "</div>"
      ],
      "text/plain": [
       "  new_cell crclscod asl_flag prizm_social_one                           area  \\\n",
       "0        U        A        N                S  NORTHWEST/ROCKY MOUNTAIN AREA   \n",
       "\n",
       "  dualband refurb_new hnd_webcap ownrent dwlltype  ... infobase HHstatin  \\\n",
       "0        Y          N       WCMB       O        S  ...        M        C   \n",
       "\n",
       "  dwllsize ethnic kid0_2 kid3_5 kid6_10 kid11_15 kid16_17 creditcd  \n",
       "0        A      N      U      U       U        U        U        Y  \n",
       "\n",
       "[1 rows x 21 columns]"
      ]
     },
     "execution_count": 114,
     "metadata": {},
     "output_type": "execute_result"
    }
   ],
   "source": [
    "df.select_dtypes(include=['object']).head(1)"
   ]
  },
  {
   "cell_type": "markdown",
   "id": "18e28b15",
   "metadata": {},
   "source": [
    "### Количество пропусков в столбцах"
   ]
  },
  {
   "cell_type": "code",
   "execution_count": 111,
   "id": "37d82add",
   "metadata": {},
   "outputs": [
    {
     "data": {
      "text/plain": [
       "<AxesSubplot:>"
      ]
     },
     "execution_count": 111,
     "metadata": {},
     "output_type": "execute_result"
    },
    {
     "data": {
      "image/png": "[encoded data removed]",
      "text/plain": [
       "<Figure size 1440x576 with 1 Axes>"
      ]
     },
     "metadata": {
      "needs_background": "light"
     },
     "output_type": "display_data"
    }
   ],
   "source": [
    "df.isna().sum().sort_values().plot(figsize = (20,8))"
   ]
  },
  {
   "cell_type": "markdown",
   "id": "25997def",
   "metadata": {},
   "source": [
    "#### Видно, что ~11 столбцов относительно пустые "
   ]
  },
  {
   "cell_type": "code",
   "execution_count": 112,
   "id": "4447ce9f",
   "metadata": {},
   "outputs": [
    {
     "data": {
      "text/plain": [
       "numbcars            49366\n",
       "dwllsize            38308\n",
       "HHstatin            37923\n",
       "ownrent             33706\n",
       "dwlltype            31909\n",
       "lor                 30190\n",
       "income              25436\n",
       "adults              23019\n",
       "infobase            22079\n",
       "hnd_webcap          10189\n",
       "prizm_social_one     7388\n",
       "avg6rev              2839\n",
       "avg6mou              2839\n",
       "avg6qty              2839\n",
       "ethnic               1732\n",
       "dtype: int64"
      ]
     },
     "execution_count": 112,
     "metadata": {},
     "output_type": "execute_result"
    }
   ],
   "source": [
    "df.isna().sum().sort_values(ascending=False).head(15)"
   ]
  },
  {
   "cell_type": "markdown",
   "id": "ff0b6256",
   "metadata": {},
   "source": [
    "#### Подавляющее число признаков в датафрейме - категориальные"
   ]
  },
  {
   "cell_type": "code",
   "execution_count": 120,
   "id": "363610ee",
   "metadata": {},
   "outputs": [
    {
     "data": {
      "text/plain": [
       "<AxesSubplot:>"
      ]
     },
     "execution_count": 120,
     "metadata": {},
     "output_type": "execute_result"
    },
    {
     "data": {
      "image/png": "[encoded data removed]",
      "text/plain": [
       "<Figure size 2880x360 with 1 Axes>"
      ]
     },
     "metadata": {
      "needs_background": "light"
     },
     "output_type": "display_data"
    }
   ],
   "source": [
    "df.nunique().sort_values(ascending=False).plot(figsize = (40,5))"
   ]
  },
  {
   "cell_type": "markdown",
   "id": "71a56196",
   "metadata": {},
   "source": [
    "# Отбор признаков\n",
    "### В имеющихся условиях считаю уместным на начальном этапе отобрать лишь те признаки, которые единолично оказывают наибольшее влияние на цедевую переменную\n",
    "\n",
    "#### Проведем для каждого признака тест Крускела, проверяющий нулевую гипотезу о равенстве средних выборок\n",
    "#### Уровень значимости предлагаю взять = 0.01"
   ]
  },
  {
   "cell_type": "code",
   "execution_count": 355,
   "id": "e364c3e9",
   "metadata": {},
   "outputs": [],
   "source": [
    "statistic_results = {}\n",
    "for i in df.columns:\n",
    "    result = sts.kruskal(list(df[df.churn == 1][i]),\\\n",
    "                   list(df[df.churn == 0][i]), nan_policy = 'omit')[1]\n",
    "    if result < 0.01 and i != 'churn' and i != 'Customer_ID':\n",
    "        statistic_results[i] = result"
   ]
  },
  {
   "cell_type": "markdown",
   "id": "5e61c0e2",
   "metadata": {},
   "source": [
    "#### Получили признаки, для значений которых была принята альтернативная гипотеза"
   ]
  },
  {
   "cell_type": "code",
   "execution_count": 356,
   "id": "66e12cee",
   "metadata": {},
   "outputs": [
    {
     "name": "stdout",
     "output_type": "stream",
     "text": [
      "Отобрано признаков: 79\n"
     ]
    },
    {
     "data": {
      "text/plain": [
       "{'rev_Mean': 1.5837167952171508e-16,\n",
       " 'mou_Mean': 2.2828922990841833e-103,\n",
       " 'totmrc_Mean': 1.1670467318767612e-119,\n",
       " 'da_Mean': 2.7459259629256845e-13,\n",
       " 'ovrmou_Mean': 1.2671746508550341e-11,\n",
       " 'ovrrev_Mean': 2.0215714979657393e-11,\n",
       " 'vceovr_Mean': 2.1365376550111106e-16,\n",
       " 'datovr_Mean': 2.1191668408262245e-13,\n",
       " 'change_mou': 6.058368237588311e-59,\n",
       " 'drop_vce_Mean': 1.177446700798341e-13,\n",
       " 'drop_dat_Mean': 0.005229322407504049,\n",
       " 'blck_vce_Mean': 1.8109254172695666e-19,\n",
       " 'blck_dat_Mean': 1.0842960847185142e-05,\n",
       " 'unan_vce_Mean': 4.160194279463955e-55,\n",
       " 'unan_dat_Mean': 1.821054373332791e-06,\n",
       " 'plcd_vce_Mean': 4.85817093871339e-75,\n",
       " 'plcd_dat_Mean': 1.6335269119432372e-24,\n",
       " 'recv_vce_Mean': 8.151923096575311e-53,\n",
       " 'comp_vce_Mean': 5.398887689344683e-84,\n",
       " 'comp_dat_Mean': 7.025020614896038e-19,\n",
       " 'custcare_Mean': 5.949373674334574e-70,\n",
       " 'ccrndmou_Mean': 2.134578717738037e-66,\n",
       " 'cc_mou_Mean': 1.4133371695704369e-64,\n",
       " 'inonemin_Mean': 2.372206530143368e-44,\n",
       " 'threeway_Mean': 3.576692465549778e-35,\n",
       " 'mou_cvce_Mean': 4.3857095662399503e-110,\n",
       " 'mou_cdat_Mean': 7.235556139411656e-19,\n",
       " 'mou_rvce_Mean': 1.3160074923444558e-67,\n",
       " 'owylis_vce_Mean': 8.91237584106986e-65,\n",
       " 'mouowylisv_Mean': 2.8397671791141166e-66,\n",
       " 'iwylis_vce_Mean': 6.667073661435167e-90,\n",
       " 'mouiwylisv_Mean': 3.164397497610995e-87,\n",
       " 'peak_vce_Mean': 6.374140872826478e-73,\n",
       " 'peak_dat_Mean': 7.581050826714961e-12,\n",
       " 'mou_peav_Mean': 1.4770017493541394e-79,\n",
       " 'mou_pead_Mean': 8.204677943297587e-12,\n",
       " 'opk_vce_Mean': 1.5261953181279522e-84,\n",
       " 'opk_dat_Mean': 2.989067217227593e-15,\n",
       " 'mou_opkv_Mean': 3.209970441973422e-113,\n",
       " 'mou_opkd_Mean': 2.6554462847639433e-15,\n",
       " 'drop_blk_Mean': 4.3346564058837125e-25,\n",
       " 'attempt_Mean': 1.4370198425902223e-75,\n",
       " 'complete_Mean': 1.3144149175384426e-84,\n",
       " 'callwait_Mean': 1.5670167729298921e-38,\n",
       " 'months': 1.6217546937044296e-43,\n",
       " 'uniqsubs': 6.57728776048188e-55,\n",
       " 'actvsubs': 1.0826439170348857e-16,\n",
       " 'crclscod': 9.14479616266583e-47,\n",
       " 'asl_flag': 5.66510819341668e-107,\n",
       " 'totcalls': 8.283592724351616e-10,\n",
       " 'totmou': 9.300541450531195e-05,\n",
       " 'totrev': 4.6418114495999616e-27,\n",
       " 'adjrev': 5.7984038014741185e-28,\n",
       " 'adjmou': 0.0003047366139831006,\n",
       " 'adjqty': 4.744444154325997e-09,\n",
       " 'avgmou': 1.7273940474508245e-07,\n",
       " 'avgqty': 0.0022932940373380692,\n",
       " 'avg3mou': 2.934285957767658e-76,\n",
       " 'avg3qty': 3.4636830634931616e-52,\n",
       " 'avg3rev': 4.926500373833625e-15,\n",
       " 'avg6mou': 1.2684927383625595e-44,\n",
       " 'avg6qty': 1.4490689656264574e-27,\n",
       " 'avg6rev': 1.0981328714921396e-12,\n",
       " 'area': 3.4863731913341774e-06,\n",
       " 'dualband': 1.2631820105200244e-24,\n",
       " 'refurb_new': 1.000339485404885e-23,\n",
       " 'hnd_price': 2.3510910829437055e-229,\n",
       " 'phones': 9.264867434101557e-44,\n",
       " 'models': 5.517164392281815e-54,\n",
       " 'ownrent': 2.093635495882403e-12,\n",
       " 'lor': 2.170089683173277e-34,\n",
       " 'dwlltype': 8.973912442377355e-06,\n",
       " 'marital': 2.5527869037959576e-07,\n",
       " 'infobase': 1.4262838703498428e-14,\n",
       " 'HHstatin': 3.732206095824599e-09,\n",
       " 'dwllsize': 5.2940757074372294e-14,\n",
       " 'ethnic': 2.393809818212552e-10,\n",
       " 'creditcd': 4.905011632099304e-08,\n",
       " 'eqpdays': 0.0}"
      ]
     },
     "execution_count": 356,
     "metadata": {},
     "output_type": "execute_result"
    }
   ],
   "source": [
    "print('Отобрано признаков:', len(statistic_results))\n",
    "statistic_results"
   ]
  },
  {
   "cell_type": "markdown",
   "id": "6d1cc0f1",
   "metadata": {},
   "source": [
    "#### Заметим, что, например, признак с названием \"eqpdays\" выбивается из всех со значением 0. Посмотрим почему"
   ]
  },
  {
   "cell_type": "code",
   "execution_count": 176,
   "id": "8cedc960",
   "metadata": {},
   "outputs": [
    {
     "data": {
      "text/plain": [
       "<AxesSubplot:>"
      ]
     },
     "execution_count": 176,
     "metadata": {},
     "output_type": "execute_result"
    },
    {
     "data": {
      "image/png": "[encoded data removed]",
      "text/plain": [
       "<Figure size 432x288 with 1 Axes>"
      ]
     },
     "metadata": {
      "needs_background": "light"
     },
     "output_type": "display_data"
    }
   ],
   "source": [
    "df[df.churn == 0].eqpdays.plot()"
   ]
  },
  {
   "cell_type": "code",
   "execution_count": 180,
   "id": "84cf3c5d",
   "metadata": {},
   "outputs": [
    {
     "data": {
      "text/plain": [
       "count    50437.000000\n",
       "mean       363.280925\n",
       "std        249.986138\n",
       "min         -5.000000\n",
       "25%        196.000000\n",
       "50%        310.000000\n",
       "75%        492.000000\n",
       "max       1823.000000\n",
       "Name: eqpdays, dtype: float64"
      ]
     },
     "execution_count": 180,
     "metadata": {},
     "output_type": "execute_result"
    }
   ],
   "source": [
    "df[df.churn == 0].eqpdays.describe()"
   ]
  },
  {
   "cell_type": "markdown",
   "id": "75beec4a",
   "metadata": {},
   "source": [
    "#### Визуально на графиках заметно, что \"спуск\" при таргете = 1 более пологий и в среднем больше по значениям -> получается такая сильная разница в выборочном среднем при, как кажется, одинаковом виде распределении."
   ]
  },
  {
   "cell_type": "code",
   "execution_count": 177,
   "id": "a4c7cfe2",
   "metadata": {},
   "outputs": [
    {
     "data": {
      "text/plain": [
       "<AxesSubplot:>"
      ]
     },
     "execution_count": 177,
     "metadata": {},
     "output_type": "execute_result"
    },
    {
     "data": {
      "image/png": "[encoded data removed]",
      "text/plain": [
       "<Figure size 432x288 with 1 Axes>"
      ]
     },
     "metadata": {
      "needs_background": "light"
     },
     "output_type": "display_data"
    }
   ],
   "source": [
    "df[df.churn == 1].eqpdays.plot()"
   ]
  },
  {
   "cell_type": "code",
   "execution_count": 181,
   "id": "8e449dd8",
   "metadata": {},
   "outputs": [
    {
     "data": {
      "text/plain": [
       "count    49562.000000\n",
       "mean       421.089524\n",
       "std        259.705607\n",
       "min         -4.000000\n",
       "25%        245.000000\n",
       "50%        366.000000\n",
       "75%        566.000000\n",
       "max       1779.000000\n",
       "Name: eqpdays, dtype: float64"
      ]
     },
     "execution_count": 181,
     "metadata": {},
     "output_type": "execute_result"
    }
   ],
   "source": [
    "df[df.churn == 1].eqpdays.describe()"
   ]
  },
  {
   "cell_type": "markdown",
   "id": "430da7ef",
   "metadata": {},
   "source": [
    "#### Для признака hnd_price с аналогично малым значением p-value получим следующее:\n",
    "#### Аналагочино визуальный анализ не дает качественной интерпретации, \"видимого\" разделения на классы"
   ]
  },
  {
   "cell_type": "code",
   "execution_count": 324,
   "id": "15ce1b89",
   "metadata": {},
   "outputs": [
    {
     "data": {
      "text/plain": [
       "<AxesSubplot:>"
      ]
     },
     "execution_count": 324,
     "metadata": {},
     "output_type": "execute_result"
    },
    {
     "data": {
      "image/png": "[encoded data removed]",
      "text/plain": [
       "<Figure size 432x288 with 1 Axes>"
      ]
     },
     "metadata": {
      "needs_background": "light"
     },
     "output_type": "display_data"
    }
   ],
   "source": [
    "df.hnd_price.plot()"
   ]
  },
  {
   "cell_type": "code",
   "execution_count": 322,
   "id": "67691324",
   "metadata": {},
   "outputs": [
    {
     "data": {
      "text/plain": [
       "count    49902.000000\n",
       "mean       108.129344\n",
       "std         61.123188\n",
       "min          9.989998\n",
       "25%         59.989990\n",
       "50%        129.989990\n",
       "75%        149.989990\n",
       "max        499.989990\n",
       "Name: hnd_price, dtype: float64"
      ]
     },
     "execution_count": 322,
     "metadata": {},
     "output_type": "execute_result"
    }
   ],
   "source": [
    "df[df.churn == 0].hnd_price.describe()"
   ]
  },
  {
   "cell_type": "code",
   "execution_count": 323,
   "id": "c0f26d7b",
   "metadata": {},
   "outputs": [
    {
     "data": {
      "text/plain": [
       "count    49251.000000\n",
       "mean        95.539523\n",
       "std         60.228330\n",
       "min          9.989998\n",
       "25%         29.989990\n",
       "50%         99.989990\n",
       "75%        149.989990\n",
       "max        499.989990\n",
       "Name: hnd_price, dtype: float64"
      ]
     },
     "execution_count": 323,
     "metadata": {},
     "output_type": "execute_result"
    }
   ],
   "source": [
    "df[df.churn == 1].hnd_price.describe()"
   ]
  },
  {
   "cell_type": "markdown",
   "id": "22527d76",
   "metadata": {},
   "source": [
    "#### Посмотрим на категориальные признаки, которые мы отобрали"
   ]
  },
  {
   "cell_type": "code",
   "execution_count": 357,
   "id": "90e6c080",
   "metadata": {},
   "outputs": [],
   "source": [
    "cat_features = []\n",
    "for i in statistic_results.keys():\n",
    "    if i in df.select_dtypes(include=['object']).columns:\n",
    "        cat_features.append([i,statistic_results[i]])"
   ]
  },
  {
   "cell_type": "code",
   "execution_count": 358,
   "id": "ecedcdd0",
   "metadata": {},
   "outputs": [
    {
     "data": {
      "text/plain": [
       "[['crclscod', 9.14479616266583e-47],\n",
       " ['asl_flag', 5.66510819341668e-107],\n",
       " ['area', 3.4863731913341774e-06],\n",
       " ['dualband', 1.2631820105200244e-24],\n",
       " ['refurb_new', 1.000339485404885e-23],\n",
       " ['ownrent', 2.093635495882403e-12],\n",
       " ['dwlltype', 8.973912442377355e-06],\n",
       " ['marital', 2.5527869037959576e-07],\n",
       " ['infobase', 1.4262838703498428e-14],\n",
       " ['HHstatin', 3.732206095824599e-09],\n",
       " ['dwllsize', 5.2940757074372294e-14],\n",
       " ['ethnic', 2.393809818212552e-10],\n",
       " ['creditcd', 4.905011632099304e-08]]"
      ]
     },
     "execution_count": 358,
     "metadata": {},
     "output_type": "execute_result"
    }
   ],
   "source": [
    "cat_features"
   ]
  },
  {
   "cell_type": "markdown",
   "id": "03c7af3d",
   "metadata": {},
   "source": [
    "#### Помотрим на признак asl_flag"
   ]
  },
  {
   "cell_type": "code",
   "execution_count": 192,
   "id": "0fd841be",
   "metadata": {},
   "outputs": [
    {
     "data": {
      "text/plain": [
       "N    86064\n",
       "Y    13936\n",
       "Name: asl_flag, dtype: int64"
      ]
     },
     "execution_count": 192,
     "metadata": {},
     "output_type": "execute_result"
    }
   ],
   "source": [
    "df.asl_flag.value_counts()"
   ]
  },
  {
   "cell_type": "code",
   "execution_count": 193,
   "id": "b74b8cb9",
   "metadata": {},
   "outputs": [
    {
     "data": {
      "text/html": [
       "<div>\n",
       "<style scoped>\n",
       "    .dataframe tbody tr th:only-of-type {\n",
       "        vertical-align: middle;\n",
       "    }\n",
       "\n",
       "    .dataframe tbody tr th {\n",
       "        vertical-align: top;\n",
       "    }\n",
       "\n",
       "    .dataframe thead th {\n",
       "        text-align: right;\n",
       "    }\n",
       "</style>\n",
       "<table border=\"1\" class=\"dataframe\">\n",
       "  <thead>\n",
       "    <tr style=\"text-align: right;\">\n",
       "      <th></th>\n",
       "      <th></th>\n",
       "      <th>Customer_ID</th>\n",
       "    </tr>\n",
       "    <tr>\n",
       "      <th>churn</th>\n",
       "      <th>asl_flag</th>\n",
       "      <th></th>\n",
       "    </tr>\n",
       "  </thead>\n",
       "  <tbody>\n",
       "    <tr>\n",
       "      <th rowspan=\"2\" valign=\"top\">0</th>\n",
       "      <th>N</th>\n",
       "      <td>42206</td>\n",
       "    </tr>\n",
       "    <tr>\n",
       "      <th>Y</th>\n",
       "      <td>8232</td>\n",
       "    </tr>\n",
       "    <tr>\n",
       "      <th rowspan=\"2\" valign=\"top\">1</th>\n",
       "      <th>N</th>\n",
       "      <td>43858</td>\n",
       "    </tr>\n",
       "    <tr>\n",
       "      <th>Y</th>\n",
       "      <td>5704</td>\n",
       "    </tr>\n",
       "  </tbody>\n",
       "</table>\n",
       "</div>"
      ],
      "text/plain": [
       "                Customer_ID\n",
       "churn asl_flag             \n",
       "0     N               42206\n",
       "      Y                8232\n",
       "1     N               43858\n",
       "      Y                5704"
      ]
     },
     "execution_count": 193,
     "metadata": {},
     "output_type": "execute_result"
    }
   ],
   "source": [
    "df.groupby(['churn','asl_flag']).agg({'Customer_ID':'count'})"
   ]
  },
  {
   "cell_type": "markdown",
   "id": "9afd7c6f",
   "metadata": {},
   "source": [
    "#### Полученные данные явным образом не отображают закономерностей, вызванных влиянием целевого признака на остальные"
   ]
  },
  {
   "cell_type": "markdown",
   "id": "e1f3a0f3",
   "metadata": {},
   "source": [
    "#### Преобразуем категориальные признаки типа object в численные"
   ]
  },
  {
   "cell_type": "code",
   "execution_count": 380,
   "id": "366e5e6d",
   "metadata": {},
   "outputs": [],
   "source": [
    "without_obj_feat_df = df.copy()\n",
    "for i in df.select_dtypes(include=['object']).columns:\n",
    "    uniques = df[i].unique()\n",
    "    dictionary = {}\n",
    "    for j in range(len(uniques)):\n",
    "        dictionary[uniques[j]] = str(j)\n",
    "    #print(dictionary)\n",
    "    without_obj_feat_df[i] = df[i].map(dictionary).astype(float)   "
   ]
  },
  {
   "cell_type": "code",
   "execution_count": 378,
   "id": "243e5470",
   "metadata": {},
   "outputs": [
    {
     "data": {
      "text/html": [
       "<div>\n",
       "<style scoped>\n",
       "    .dataframe tbody tr th:only-of-type {\n",
       "        vertical-align: middle;\n",
       "    }\n",
       "\n",
       "    .dataframe tbody tr th {\n",
       "        vertical-align: top;\n",
       "    }\n",
       "\n",
       "    .dataframe thead th {\n",
       "        text-align: right;\n",
       "    }\n",
       "</style>\n",
       "<table border=\"1\" class=\"dataframe\">\n",
       "  <thead>\n",
       "    <tr style=\"text-align: right;\">\n",
       "      <th></th>\n",
       "      <th>rev_Mean</th>\n",
       "      <th>mou_Mean</th>\n",
       "      <th>totmrc_Mean</th>\n",
       "      <th>da_Mean</th>\n",
       "      <th>ovrmou_Mean</th>\n",
       "      <th>ovrrev_Mean</th>\n",
       "      <th>vceovr_Mean</th>\n",
       "      <th>datovr_Mean</th>\n",
       "      <th>roam_Mean</th>\n",
       "      <th>change_mou</th>\n",
       "      <th>...</th>\n",
       "      <th>forgntvl</th>\n",
       "      <th>ethnic</th>\n",
       "      <th>kid0_2</th>\n",
       "      <th>kid3_5</th>\n",
       "      <th>kid6_10</th>\n",
       "      <th>kid11_15</th>\n",
       "      <th>kid16_17</th>\n",
       "      <th>creditcd</th>\n",
       "      <th>eqpdays</th>\n",
       "      <th>Customer_ID</th>\n",
       "    </tr>\n",
       "  </thead>\n",
       "  <tbody>\n",
       "    <tr>\n",
       "      <th>0</th>\n",
       "      <td>23.9975</td>\n",
       "      <td>219.25</td>\n",
       "      <td>22.500</td>\n",
       "      <td>0.2475</td>\n",
       "      <td>0.00</td>\n",
       "      <td>0.0</td>\n",
       "      <td>0.0</td>\n",
       "      <td>0.0</td>\n",
       "      <td>0.0</td>\n",
       "      <td>-157.25</td>\n",
       "      <td>...</td>\n",
       "      <td>0.0</td>\n",
       "      <td>0.0</td>\n",
       "      <td>0.0</td>\n",
       "      <td>0.0</td>\n",
       "      <td>0.0</td>\n",
       "      <td>0.0</td>\n",
       "      <td>0.0</td>\n",
       "      <td>0.0</td>\n",
       "      <td>361.0</td>\n",
       "      <td>1000001</td>\n",
       "    </tr>\n",
       "    <tr>\n",
       "      <th>1</th>\n",
       "      <td>57.4925</td>\n",
       "      <td>482.75</td>\n",
       "      <td>37.425</td>\n",
       "      <td>0.2475</td>\n",
       "      <td>22.75</td>\n",
       "      <td>9.1</td>\n",
       "      <td>9.1</td>\n",
       "      <td>0.0</td>\n",
       "      <td>0.0</td>\n",
       "      <td>532.25</td>\n",
       "      <td>...</td>\n",
       "      <td>0.0</td>\n",
       "      <td>1.0</td>\n",
       "      <td>0.0</td>\n",
       "      <td>0.0</td>\n",
       "      <td>0.0</td>\n",
       "      <td>0.0</td>\n",
       "      <td>0.0</td>\n",
       "      <td>0.0</td>\n",
       "      <td>240.0</td>\n",
       "      <td>1000002</td>\n",
       "    </tr>\n",
       "    <tr>\n",
       "      <th>2</th>\n",
       "      <td>16.9900</td>\n",
       "      <td>10.25</td>\n",
       "      <td>16.990</td>\n",
       "      <td>0.0000</td>\n",
       "      <td>0.00</td>\n",
       "      <td>0.0</td>\n",
       "      <td>0.0</td>\n",
       "      <td>0.0</td>\n",
       "      <td>0.0</td>\n",
       "      <td>-4.25</td>\n",
       "      <td>...</td>\n",
       "      <td>0.0</td>\n",
       "      <td>0.0</td>\n",
       "      <td>0.0</td>\n",
       "      <td>1.0</td>\n",
       "      <td>0.0</td>\n",
       "      <td>0.0</td>\n",
       "      <td>0.0</td>\n",
       "      <td>0.0</td>\n",
       "      <td>1504.0</td>\n",
       "      <td>1000003</td>\n",
       "    </tr>\n",
       "    <tr>\n",
       "      <th>3</th>\n",
       "      <td>38.0000</td>\n",
       "      <td>7.50</td>\n",
       "      <td>38.000</td>\n",
       "      <td>0.0000</td>\n",
       "      <td>0.00</td>\n",
       "      <td>0.0</td>\n",
       "      <td>0.0</td>\n",
       "      <td>0.0</td>\n",
       "      <td>0.0</td>\n",
       "      <td>-1.50</td>\n",
       "      <td>...</td>\n",
       "      <td>0.0</td>\n",
       "      <td>2.0</td>\n",
       "      <td>1.0</td>\n",
       "      <td>0.0</td>\n",
       "      <td>0.0</td>\n",
       "      <td>0.0</td>\n",
       "      <td>0.0</td>\n",
       "      <td>0.0</td>\n",
       "      <td>1812.0</td>\n",
       "      <td>1000004</td>\n",
       "    </tr>\n",
       "    <tr>\n",
       "      <th>4</th>\n",
       "      <td>55.2300</td>\n",
       "      <td>570.50</td>\n",
       "      <td>71.980</td>\n",
       "      <td>0.0000</td>\n",
       "      <td>0.00</td>\n",
       "      <td>0.0</td>\n",
       "      <td>0.0</td>\n",
       "      <td>0.0</td>\n",
       "      <td>0.0</td>\n",
       "      <td>38.50</td>\n",
       "      <td>...</td>\n",
       "      <td>0.0</td>\n",
       "      <td>3.0</td>\n",
       "      <td>0.0</td>\n",
       "      <td>0.0</td>\n",
       "      <td>0.0</td>\n",
       "      <td>0.0</td>\n",
       "      <td>0.0</td>\n",
       "      <td>0.0</td>\n",
       "      <td>434.0</td>\n",
       "      <td>1000005</td>\n",
       "    </tr>\n",
       "  </tbody>\n",
       "</table>\n",
       "<p>5 rows × 100 columns</p>\n",
       "</div>"
      ],
      "text/plain": [
       "   rev_Mean  mou_Mean  totmrc_Mean  da_Mean  ovrmou_Mean  ovrrev_Mean  \\\n",
       "0   23.9975    219.25       22.500   0.2475         0.00          0.0   \n",
       "1   57.4925    482.75       37.425   0.2475        22.75          9.1   \n",
       "2   16.9900     10.25       16.990   0.0000         0.00          0.0   \n",
       "3   38.0000      7.50       38.000   0.0000         0.00          0.0   \n",
       "4   55.2300    570.50       71.980   0.0000         0.00          0.0   \n",
       "\n",
       "   vceovr_Mean  datovr_Mean  roam_Mean  change_mou  ...  forgntvl  ethnic  \\\n",
       "0          0.0          0.0        0.0     -157.25  ...       0.0     0.0   \n",
       "1          9.1          0.0        0.0      532.25  ...       0.0     1.0   \n",
       "2          0.0          0.0        0.0       -4.25  ...       0.0     0.0   \n",
       "3          0.0          0.0        0.0       -1.50  ...       0.0     2.0   \n",
       "4          0.0          0.0        0.0       38.50  ...       0.0     3.0   \n",
       "\n",
       "   kid0_2  kid3_5  kid6_10  kid11_15  kid16_17  creditcd  eqpdays  Customer_ID  \n",
       "0     0.0     0.0      0.0       0.0       0.0       0.0    361.0      1000001  \n",
       "1     0.0     0.0      0.0       0.0       0.0       0.0    240.0      1000002  \n",
       "2     0.0     1.0      0.0       0.0       0.0       0.0   1504.0      1000003  \n",
       "3     1.0     0.0      0.0       0.0       0.0       0.0   1812.0      1000004  \n",
       "4     0.0     0.0      0.0       0.0       0.0       0.0    434.0      1000005  \n",
       "\n",
       "[5 rows x 100 columns]"
      ]
     },
     "execution_count": 378,
     "metadata": {},
     "output_type": "execute_result"
    }
   ],
   "source": [
    "without_obj_feat_df.head()"
   ]
  },
  {
   "cell_type": "markdown",
   "id": "9e1f6497",
   "metadata": {},
   "source": [
    "#### Оставим в датафрейме только те 79 фичей, которые отобрали с помощью стат. теста Крускела"
   ]
  },
  {
   "cell_type": "code",
   "execution_count": 381,
   "id": "28224d01",
   "metadata": {},
   "outputs": [],
   "source": [
    "without_obj_feat_df = without_obj_feat_df[statistic_results.keys()]\n",
    "without_obj_feat_df['churn'] = df.churn"
   ]
  },
  {
   "cell_type": "markdown",
   "id": "860e9010",
   "metadata": {},
   "source": [
    "#### Найдем оставшиеся категориальные фичи, являющиеся численными. Тут нужно сказать, что не зная дополнительной семантики невозможно однозначно сказать, какие признаки еще являются категориальными. Поэтому будем отталкиваться только от числа уникальных значений признаков"
   ]
  },
  {
   "cell_type": "markdown",
   "id": "4e3cd386",
   "metadata": {},
   "source": [
    "#### В отсутствии семантической информации, будем считать категориальными признаки, где уникальных значений < (кол-во всех непустых значений)/100 и в названии нет последовательности букв \"mean\""
   ]
  },
  {
   "cell_type": "code",
   "execution_count": 382,
   "id": "39b3178f",
   "metadata": {},
   "outputs": [],
   "source": [
    "cat_features = []\n",
    "for i in without_obj_feat_df.columns:\n",
    "    if without_obj_feat_df[i].nunique() < (len(without_obj_feat_df) - without_obj_feat_df[i].isna().sum()) / 100\\\n",
    "    and i.lower().find('mean') == -1 and i != 'churn':\n",
    "        cat_features.append(i)"
   ]
  },
  {
   "cell_type": "code",
   "execution_count": 383,
   "id": "b402acff",
   "metadata": {},
   "outputs": [
    {
     "name": "stdout",
     "output_type": "stream",
     "text": [
      "категориальных: 22 вот некоторые: ['months', 'uniqsubs', 'actvsubs', 'crclscod', 'asl_flag']\n"
     ]
    }
   ],
   "source": [
    "print('категориальных:',len(cat_features),'вот некоторые:',cat_features[:5])"
   ]
  },
  {
   "cell_type": "markdown",
   "id": "11cfb5ef",
   "metadata": {},
   "source": [
    "#### Построим кореляционную матрицу, хоть она и не очень показательна при таком большом наборе фичей"
   ]
  },
  {
   "cell_type": "code",
   "execution_count": 384,
   "id": "dbf2c117",
   "metadata": {},
   "outputs": [],
   "source": [
    "corr_matrix = without_obj_feat_df.corr()"
   ]
  },
  {
   "cell_type": "code",
   "execution_count": 385,
   "id": "2f54f7fb",
   "metadata": {},
   "outputs": [
    {
     "data": {
      "text/plain": [
       "<AxesSubplot:>"
      ]
     },
     "execution_count": 385,
     "metadata": {},
     "output_type": "execute_result"
    },
    {
     "data": {
      "image/png": "[encoded data removed]",
      "text/plain": [
       "<Figure size 432x288 with 2 Axes>"
      ]
     },
     "metadata": {
      "needs_background": "light"
     },
     "output_type": "display_data"
    }
   ],
   "source": [
    "sns.heatmap(corr_matrix)"
   ]
  },
  {
   "cell_type": "code",
   "execution_count": 386,
   "id": "d3470cac",
   "metadata": {},
   "outputs": [
    {
     "data": {
      "text/html": [
       "<div>\n",
       "<style scoped>\n",
       "    .dataframe tbody tr th:only-of-type {\n",
       "        vertical-align: middle;\n",
       "    }\n",
       "\n",
       "    .dataframe tbody tr th {\n",
       "        vertical-align: top;\n",
       "    }\n",
       "\n",
       "    .dataframe thead th {\n",
       "        text-align: right;\n",
       "    }\n",
       "</style>\n",
       "<table border=\"1\" class=\"dataframe\">\n",
       "  <thead>\n",
       "    <tr style=\"text-align: right;\">\n",
       "      <th></th>\n",
       "      <th>pearson_value</th>\n",
       "    </tr>\n",
       "  </thead>\n",
       "  <tbody>\n",
       "    <tr>\n",
       "      <th>rev_Mean</th>\n",
       "      <td>-0.010883</td>\n",
       "    </tr>\n",
       "    <tr>\n",
       "      <th>mou_Mean</th>\n",
       "      <td>-0.057027</td>\n",
       "    </tr>\n",
       "    <tr>\n",
       "      <th>totmrc_Mean</th>\n",
       "      <td>-0.068558</td>\n",
       "    </tr>\n",
       "    <tr>\n",
       "      <th>da_Mean</th>\n",
       "      <td>-0.013551</td>\n",
       "    </tr>\n",
       "    <tr>\n",
       "      <th>ovrmou_Mean</th>\n",
       "      <td>0.019720</td>\n",
       "    </tr>\n",
       "    <tr>\n",
       "      <th>...</th>\n",
       "      <td>...</td>\n",
       "    </tr>\n",
       "    <tr>\n",
       "      <th>dwllsize</th>\n",
       "      <td>0.011326</td>\n",
       "    </tr>\n",
       "    <tr>\n",
       "      <th>ethnic</th>\n",
       "      <td>0.025067</td>\n",
       "    </tr>\n",
       "    <tr>\n",
       "      <th>creditcd</th>\n",
       "      <td>0.013090</td>\n",
       "    </tr>\n",
       "    <tr>\n",
       "      <th>eqpdays</th>\n",
       "      <td>0.112691</td>\n",
       "    </tr>\n",
       "    <tr>\n",
       "      <th>churn</th>\n",
       "      <td>1.000000</td>\n",
       "    </tr>\n",
       "  </tbody>\n",
       "</table>\n",
       "<p>80 rows × 1 columns</p>\n",
       "</div>"
      ],
      "text/plain": [
       "             pearson_value\n",
       "rev_Mean         -0.010883\n",
       "mou_Mean         -0.057027\n",
       "totmrc_Mean      -0.068558\n",
       "da_Mean          -0.013551\n",
       "ovrmou_Mean       0.019720\n",
       "...                    ...\n",
       "dwllsize          0.011326\n",
       "ethnic            0.025067\n",
       "creditcd          0.013090\n",
       "eqpdays           0.112691\n",
       "churn             1.000000\n",
       "\n",
       "[80 rows x 1 columns]"
      ]
     },
     "execution_count": 386,
     "metadata": {},
     "output_type": "execute_result"
    }
   ],
   "source": [
    "corr_matrix = without_obj_feat_df.corr(method='pearson')\n",
    "taget_corrs = corr_matrix.loc[corr_matrix.index == 'churn']\n",
    "taget_corrs_df = pd.DataFrame(index = taget_corrs.columns)\n",
    "taget_corrs_df['pearson_value'] = list(taget_corrs.iloc[0])\n",
    "taget_corrs_df.sort_values('pearson_value')\n",
    "taget_corrs_df"
   ]
  },
  {
   "cell_type": "markdown",
   "id": "259154ff",
   "metadata": {},
   "source": [
    "#### Как видно, значимых корреляций по Пирсону с таргетом нет"
   ]
  },
  {
   "cell_type": "markdown",
   "id": "5fe9adc1",
   "metadata": {},
   "source": [
    "#### Позже при помощи catboost планирую оценить важность фичей для предсказательной модели и на основе этого отобрать признаки"
   ]
  },
  {
   "cell_type": "markdown",
   "id": "9f7c52dc",
   "metadata": {},
   "source": [
    "# Подготовка данных для обучения CatBoostClassifier\n",
    "#### Градиентный бустинг на деревьях решений"
   ]
  },
  {
   "cell_type": "code",
   "execution_count": 330,
   "id": "e06f2e41",
   "metadata": {},
   "outputs": [],
   "source": [
    "from catboost import CatBoostClassifier\n",
    "from sklearn.model_selection import train_test_split\n",
    "from catboost import Pool, cv"
   ]
  },
  {
   "cell_type": "code",
   "execution_count": 387,
   "id": "ad6bfc95",
   "metadata": {},
   "outputs": [],
   "source": [
    "catboost_df = without_obj_feat_df.copy()"
   ]
  },
  {
   "cell_type": "code",
   "execution_count": 410,
   "id": "780f57a1",
   "metadata": {},
   "outputs": [],
   "source": [
    "cat_features_catboost = []\n",
    "k = 0\n",
    "for i in catboost_df.columns:\n",
    "    if catboost_df[i].nunique() < (len(catboost_df) - catboost_df[i].isna().sum()) / 100\\\n",
    "    and i.lower().find('mean') == -1 and i != 'churn':\n",
    "        cat_features_catboost.append(k)\n",
    "        catboost_df[i] = catboost_df[i].apply(str)\n",
    "    k+=1"
   ]
  },
  {
   "cell_type": "code",
   "execution_count": 411,
   "id": "02a4d947",
   "metadata": {},
   "outputs": [],
   "source": [
    "X_train, X_test, y_train, y_test = \\\n",
    "train_test_split(catboost_df.drop('churn', axis=1), catboost_df.churn,\\\n",
    "                 test_size=0.2, random_state=23)"
   ]
  },
  {
   "cell_type": "code",
   "execution_count": 391,
   "id": "b2459bef",
   "metadata": {},
   "outputs": [],
   "source": [
    "cv_dataset = Pool(data=catboost_df.drop('churn', axis=1),\n",
    "                  label=catboost_df.churn,\n",
    "                  cat_features=cat_features_catboost)"
   ]
  },
  {
   "cell_type": "markdown",
   "id": "f51b503f",
   "metadata": {},
   "source": [
    "## Обучение CatBoostClassifier, сознательно малое количество итераций, модель недообучена, но за метриками мы не гонимся.\n",
    "#### Обучаем по logloss, тк в случае бинарной классификации - эта функкция ошибка позволяет получить максимальный профит"
   ]
  },
  {
   "cell_type": "code",
   "execution_count": 402,
   "id": "12562eff",
   "metadata": {},
   "outputs": [],
   "source": [
    "params = {\"iterations\": 100,\n",
    "          \"learning_rate\":0.01,\n",
    "          \"loss_function\": \"Logloss\",\n",
    "          \"custom_loss\" : \"Accuracy\",\n",
    "          \"verbose\": False}"
   ]
  },
  {
   "cell_type": "markdown",
   "id": "f846eae3",
   "metadata": {},
   "source": [
    "#### Посмотрим на значения на кросс-валидации и затем запустим обучение"
   ]
  },
  {
   "cell_type": "code",
   "execution_count": 403,
   "id": "f4324e59",
   "metadata": {
    "scrolled": false
   },
   "outputs": [
    {
     "data": {
      "application/vnd.jupyter.widget-view+json": {
       "model_id": "ca8e2cd3d5ca4b9eab615638dff18d3d",
       "version_major": 2,
       "version_minor": 0
      },
      "text/plain": [
       "MetricVisualizer(layout=Layout(align_self='stretch', height='500px'))"
      ]
     },
     "metadata": {},
     "output_type": "display_data"
    }
   ],
   "source": [
    "scores = cv(cv_dataset,\n",
    "            params,\n",
    "            fold_count=5, \n",
    "            plot=\"True\")"
   ]
  },
  {
   "cell_type": "code",
   "execution_count": 405,
   "id": "6eec1e0b",
   "metadata": {},
   "outputs": [],
   "source": [
    "model = CatBoostClassifier(\n",
    "    iterations=200,\n",
    "    learning_rate=0.01,\n",
    "    loss_function='Logloss',\n",
    "    #eval_metric='F1',\n",
    "    custom_loss=['AUC','Accuracy','F1'],\n",
    "    early_stopping_rounds=1000,\n",
    ")"
   ]
  },
  {
   "cell_type": "code",
   "execution_count": 412,
   "id": "0cbf8495",
   "metadata": {},
   "outputs": [
    {
     "data": {
      "application/vnd.jupyter.widget-view+json": {
       "model_id": "737016cc623348479d57d6d7100bdf74",
       "version_major": 2,
       "version_minor": 0
      },
      "text/plain": [
       "MetricVisualizer(layout=Layout(align_self='stretch', height='500px'))"
      ]
     },
     "metadata": {},
     "output_type": "display_data"
    },
    {
     "data": {
      "text/plain": [
       "<catboost.core.CatBoostClassifier at 0x7ff4413b0820>"
      ]
     },
     "execution_count": 412,
     "metadata": {},
     "output_type": "execute_result"
    }
   ],
   "source": [
    "model.fit(\n",
    "    X_train, y_train,\n",
    "    cat_features=cat_features_catboost,\n",
    "    eval_set=(X_test, y_test),\n",
    "    verbose=False,\n",
    "    plot=True,\n",
    "    #snapshot_file='/Users/artemarhipov/Downloads/model'\n",
    ")"
   ]
  },
  {
   "cell_type": "markdown",
   "id": "22629bb8",
   "metadata": {},
   "source": [
    "#### Посмотрим на важность фичей для нашей модели"
   ]
  },
  {
   "cell_type": "code",
   "execution_count": 428,
   "id": "d28cb2e9",
   "metadata": {},
   "outputs": [],
   "source": [
    "feature_importances = {}\n",
    "for i in range(X_train.shape[1]):\n",
    "    feature_importances[model.feature_importances_[i]] = X_train.columns[i]"
   ]
  },
  {
   "cell_type": "markdown",
   "id": "d5e21429",
   "metadata": {},
   "source": [
    "#### Посмотрим на распределение важности фичей"
   ]
  },
  {
   "cell_type": "code",
   "execution_count": 435,
   "id": "fcd471f9",
   "metadata": {},
   "outputs": [
    {
     "data": {
      "text/plain": [
       "<AxesSubplot:>"
      ]
     },
     "execution_count": 435,
     "metadata": {},
     "output_type": "execute_result"
    },
    {
     "data": {
      "image/png": "[encoded data removed]",
      "text/plain": [
       "<Figure size 432x288 with 1 Axes>"
      ]
     },
     "metadata": {
      "needs_background": "light"
     },
     "output_type": "display_data"
    }
   ],
   "source": [
    "pd.Series(sorted(feature_importances.keys())).plot()"
   ]
  },
  {
   "cell_type": "markdown",
   "id": "50c53906",
   "metadata": {},
   "source": [
    "### После обучения градиентного бустинга catboost заметили, что почти 70% всей информации приходится на признаки: eqpdays, months, change_mou, mou_Mean, hnd_price, totmrc_Mean, uniqsubs"
   ]
  },
  {
   "cell_type": "code",
   "execution_count": 436,
   "id": "ddd41e22",
   "metadata": {},
   "outputs": [
    {
     "data": {
      "text/plain": [
       "[(1.7100512098471332, 'mou_cvce_Mean'),\n",
       " (1.7948138512390457, 'crclscod'),\n",
       " (1.8166349389374887, 'ovrrev_Mean'),\n",
       " (3.008337773479091, 'uniqsubs'),\n",
       " (4.999200081223082, 'totmrc_Mean'),\n",
       " (6.028615253309432, 'hnd_price'),\n",
       " (8.786379414740724, 'mou_Mean'),\n",
       " (8.95408604638024, 'change_mou'),\n",
       " (20.363307954406743, 'months'),\n",
       " (20.815456928878852, 'eqpdays')]"
      ]
     },
     "execution_count": 436,
     "metadata": {},
     "output_type": "execute_result"
    }
   ],
   "source": [
    "sorted(feature_importances.items())[-10:]"
   ]
  },
  {
   "cell_type": "markdown",
   "id": "308a143a",
   "metadata": {},
   "source": [
    "# Обучение по методу К-ближайших соседей"
   ]
  },
  {
   "cell_type": "markdown",
   "id": "d8463d03",
   "metadata": {},
   "source": [
    "#### На практике не следует выкидывать пустые данные, как минимум потому, что теряется огромнейшая часть наблюдений. Следовало бы заполнить пропуски на худой конец средними наблюдениями по столбцам или по целевым классам. К сожалению я не успел провести подробный анализ и для демонстрации работы с алгаритмами в sklearn просто отброшу записи с пустыми наблюдениями. Хотя тот же catboost хорошо работает как с пропущенными значениями, так и со строковыми типами данных, что не умеют другие представленные тут алгоритмы"
   ]
  },
  {
   "cell_type": "code",
   "execution_count": 438,
   "id": "32920e8a",
   "metadata": {},
   "outputs": [],
   "source": [
    "from sklearn.neighbors import KNeighborsClassifier"
   ]
  },
  {
   "cell_type": "code",
   "execution_count": 442,
   "id": "91c7cc55",
   "metadata": {},
   "outputs": [],
   "source": [
    "knn_df = without_obj_feat_df.dropna()"
   ]
  },
  {
   "cell_type": "code",
   "execution_count": 443,
   "id": "240bd169",
   "metadata": {},
   "outputs": [],
   "source": [
    "X_train, X_test, y_train, y_test = \\\n",
    "train_test_split(knn_df.drop('churn', axis=1), knn_df.churn,\\\n",
    "                 test_size=0.2, random_state=23)"
   ]
  },
  {
   "cell_type": "code",
   "execution_count": 446,
   "id": "de1eecb5",
   "metadata": {},
   "outputs": [],
   "source": [
    "knn = KNeighborsClassifier(n_neighbors=100, n_jobs=-1)"
   ]
  },
  {
   "cell_type": "code",
   "execution_count": 447,
   "id": "f8875e62",
   "metadata": {},
   "outputs": [
    {
     "data": {
      "text/plain": [
       "KNeighborsClassifier(n_jobs=-1, n_neighbors=100)"
      ]
     },
     "execution_count": 447,
     "metadata": {},
     "output_type": "execute_result"
    }
   ],
   "source": [
    "knn.fit(X_train, y_train)"
   ]
  },
  {
   "cell_type": "markdown",
   "id": "c57d4625",
   "metadata": {},
   "source": [
    "#### Стоит разбивать данные на 3 датасета (тренировочный, валидационный(роль которого в моем ноутбуке играет тестовый) и тестовый)"
   ]
  },
  {
   "cell_type": "markdown",
   "id": "bfb72253",
   "metadata": {},
   "source": [
    "#### Валидационный предназначается для максимизации на нем функции потерь, а тестовый подается в модель лишь раз, для оценки уже обученной модели. В противном случае мы получим необъективные результаты итогового качества классификации из-за переобучения на тестовой выборке."
   ]
  },
  {
   "cell_type": "markdown",
   "id": "a15887a6",
   "metadata": {},
   "source": [
    "#### В наших условиях, мы не пытаемся побить значения метрик, поэтому  шаг создания тестового набора для итоговой проверки качества модели я пропустил"
   ]
  },
  {
   "cell_type": "code",
   "execution_count": 450,
   "id": "ddb94594",
   "metadata": {},
   "outputs": [],
   "source": [
    "from sklearn.metrics import accuracy_score"
   ]
  },
  {
   "cell_type": "code",
   "execution_count": 452,
   "id": "a349c3d2",
   "metadata": {},
   "outputs": [
    {
     "data": {
      "text/plain": [
       "0.5571130331046824"
      ]
     },
     "execution_count": 452,
     "metadata": {},
     "output_type": "execute_result"
    }
   ],
   "source": [
    "accuracy_score(y_test, knn.predict(X_test))"
   ]
  },
  {
   "cell_type": "markdown",
   "id": "2e1fb7b0",
   "metadata": {},
   "source": [
    "#### Отметим, что алгоритм К-ближайших демонстрирует большее время работы и обучения, чем бустинг catboost, а также его применение невозможно из-за некоторых специфик распределения входных данных. Вернее применение возможно, однако точность классификации будет низкой"
   ]
  },
  {
   "cell_type": "markdown",
   "id": "12fe358d",
   "metadata": {},
   "source": [
    "# Обучение Random Forest"
   ]
  },
  {
   "cell_type": "code",
   "execution_count": 453,
   "id": "62ce330b",
   "metadata": {},
   "outputs": [],
   "source": [
    "from sklearn.ensemble import RandomForestClassifier"
   ]
  },
  {
   "cell_type": "code",
   "execution_count": 457,
   "id": "b4990171",
   "metadata": {},
   "outputs": [],
   "source": [
    "forest = RandomForestClassifier(n_estimators=100, criterion='gini', max_depth=10, min_samples_split=10, \\\n",
    "                                min_samples_leaf=5, verbose=1, n_jobs=-1)"
   ]
  },
  {
   "cell_type": "code",
   "execution_count": 458,
   "id": "58173b59",
   "metadata": {},
   "outputs": [
    {
     "name": "stderr",
     "output_type": "stream",
     "text": [
      "[Parallel(n_jobs=-1)]: Using backend ThreadingBackend with 10 concurrent workers.\n",
      "[Parallel(n_jobs=-1)]: Done  30 tasks      | elapsed:    0.4s\n",
      "[Parallel(n_jobs=-1)]: Done 100 out of 100 | elapsed:    1.4s finished\n"
     ]
    },
    {
     "data": {
      "text/plain": [
       "RandomForestClassifier(max_depth=10, min_samples_leaf=5, min_samples_split=10,\n",
       "                       n_jobs=-1, verbose=1)"
      ]
     },
     "execution_count": 458,
     "metadata": {},
     "output_type": "execute_result"
    }
   ],
   "source": [
    "forest.fit(X_train, y_train)"
   ]
  },
  {
   "cell_type": "code",
   "execution_count": 459,
   "id": "38c777e1",
   "metadata": {},
   "outputs": [
    {
     "name": "stderr",
     "output_type": "stream",
     "text": [
      "[Parallel(n_jobs=10)]: Using backend ThreadingBackend with 10 concurrent workers.\n",
      "[Parallel(n_jobs=10)]: Done  30 tasks      | elapsed:    0.0s\n",
      "[Parallel(n_jobs=10)]: Done 100 out of 100 | elapsed:    0.0s finished\n"
     ]
    },
    {
     "data": {
      "text/plain": [
       "0.6180286310766477"
      ]
     },
     "execution_count": 459,
     "metadata": {},
     "output_type": "execute_result"
    }
   ],
   "source": [
    "accuracy_score(y_test, forest.predict(X_test))"
   ]
  },
  {
   "cell_type": "code",
   "execution_count": 464,
   "id": "5ee6875f",
   "metadata": {},
   "outputs": [
    {
     "data": {
      "text/plain": [
       "<AxesSubplot:>"
      ]
     },
     "execution_count": 464,
     "metadata": {},
     "output_type": "execute_result"
    },
    {
     "data": {
      "image/png": "[encoded data removed]",
      "text/plain": [
       "<Figure size 432x288 with 1 Axes>"
      ]
     },
     "metadata": {
      "needs_background": "light"
     },
     "output_type": "display_data"
    }
   ],
   "source": [
    "pd.Series(sorted(forest.feature_importances_)).plot()"
   ]
  },
  {
   "cell_type": "code",
   "execution_count": 462,
   "id": "46f2fd70",
   "metadata": {},
   "outputs": [
    {
     "data": {
      "text/plain": [
       "[0.021251517180977997,\n",
       " 0.021421187520075092,\n",
       " 0.02400362716655486,\n",
       " 0.027831226382302402,\n",
       " 0.03159805199128654,\n",
       " 0.035203386387699896,\n",
       " 0.041522868068465134,\n",
       " 0.045026596553470306,\n",
       " 0.0948944822880829,\n",
       " 0.10731277689621749]"
      ]
     },
     "execution_count": 462,
     "metadata": {},
     "output_type": "execute_result"
    }
   ],
   "source": [
    "sorted(forest.feature_importances_)[-10:]"
   ]
  },
  {
   "cell_type": "markdown",
   "id": "22cb73c4",
   "metadata": {},
   "source": [
    "#### Как видим лес не смог выделить некоторые фичи, как наиболее полезные, в отличии от catboost, однако получили схожее качество классификации на сырых (не настроенных) алгоритмах."
   ]
  },
  {
   "cell_type": "markdown",
   "id": "9c8b19c1",
   "metadata": {},
   "source": [
    "# Выводы\n",
    "#### 1. Обчены алгоритмы: градиентный бустинг на деревьях решений catboost, random forest, метод к-ближайших\n",
    "#### 2. После визуального и микро стат. анализа не удалось выявить видимые корреляции целевого признака с остальными.\n",
    "#### 3. Были выбраны 79/100 признаков для обучения моделей по стат. тесту Крускела. На практике стоило бы сравнить скорость работы и качество классификации алгоритмов при использовании всех признаков и только признаков отобранных с помощью стат. теста\n",
    "#### 4. При помощи catboost были выделены признаки eqpdays, months, change_mou, mou_Mean, hnd_price, totmrc_Mean, uniqsubs, несущие в себе более 70% полезной для catboost информации.\n",
    "#### 5. Для дальнейшего улучшения качества классификации стоило бы попробовать сгененрировать новые признаки с использованием выделенных в п. 4 признаков (перемножить, посмотреть на разности, возвести в степень и т.п.)\n",
    "#### 6. При обучении алгоритмов из sklearn были отброшены все строки, содержащие пустые значения. Так делать некорректно в абсолютном большинстве случаев. Пути решения проблемы были описаны выше в ноутбуке но не реализованы, из-за отсутствия времени("
   ]
  },
  {
   "cell_type": "markdown",
   "id": "2aae2482",
   "metadata": {},
   "source": [
    "## Автор: Архипов Артем Сергеевич"
   ]
  }
 ],
 "metadata": {
  "kernelspec": {
   "display_name": "Python 3 (ipykernel)",
   "language": "python",
   "name": "python3"
  },
  "language_info": {
   "codemirror_mode": {
    "name": "ipython",
    "version": 3
   },
   "file_extension": ".py",
   "mimetype": "text/x-python",
   "name": "python",
   "nbconvert_exporter": "python",
   "pygments_lexer": "ipython3",
   "version": "3.9.7"
  }
 },
 "nbformat": 4,
 "nbformat_minor": 5
}
