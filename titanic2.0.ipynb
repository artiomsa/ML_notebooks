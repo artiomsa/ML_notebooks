{
 "cells": [
  {
   "cell_type": "code",
   "execution_count": 1,
   "id": "f524a76d",
   "metadata": {},
   "outputs": [],
   "source": [
    "import pandas as pd\n",
    "from sklearn.tree import DecisionTreeClassifier\n",
    "import seaborn as sns\n",
    "from sklearn.model_selection import GridSearchCV, RandomizedSearchCV\n",
    "from sklearn.ensemble import RandomForestClassifier\n",
    "from sklearn.metrics import f1_score, accuracy_score\n",
    "from sklearn.model_selection import train_test_split"
   ]
  },
  {
   "cell_type": "code",
   "execution_count": 2,
   "id": "065fcb9f",
   "metadata": {},
   "outputs": [],
   "source": [
    "train = pd.read_csv('/Users/artemarhipov/Downloads/titanic/train.csv')\n",
    "test = pd.read_csv('/Users/artemarhipov/Downloads/titanic/test.csv')\n",
    "ans = pd.read_csv('/Users/artemarhipov/Downloads/titanic/gender_submission.csv')"
   ]
  },
  {
   "cell_type": "code",
   "execution_count": 3,
   "id": "26d63981",
   "metadata": {},
   "outputs": [],
   "source": [
    "train = train.drop(['PassengerId', 'Name', 'Ticket', 'Cabin'], axis = 1)\n",
    "train = pd.get_dummies(train)"
   ]
  },
  {
   "cell_type": "code",
   "execution_count": 4,
   "id": "17f50ac5",
   "metadata": {},
   "outputs": [],
   "source": [
    "train = train.dropna()"
   ]
  },
  {
   "cell_type": "code",
   "execution_count": 5,
   "id": "0e842acd",
   "metadata": {},
   "outputs": [],
   "source": [
    "test = test.merge(ans)"
   ]
  },
  {
   "cell_type": "code",
   "execution_count": 6,
   "id": "bad4eb32",
   "metadata": {},
   "outputs": [],
   "source": [
    "test = test.drop(['PassengerId', 'Name', 'Ticket', 'Cabin'], axis = 1)"
   ]
  },
  {
   "cell_type": "code",
   "execution_count": 7,
   "id": "28186150",
   "metadata": {},
   "outputs": [],
   "source": [
    "test = pd.get_dummies(test)"
   ]
  },
  {
   "cell_type": "code",
   "execution_count": 8,
   "id": "10c033bd",
   "metadata": {},
   "outputs": [],
   "source": [
    "test = test.dropna()"
   ]
  },
  {
   "cell_type": "code",
   "execution_count": 9,
   "id": "3f1dadd0",
   "metadata": {},
   "outputs": [],
   "source": [
    "X_train = train.drop('Survived', axis =1)\n",
    "y_train = train.Survived"
   ]
  },
  {
   "cell_type": "code",
   "execution_count": 10,
   "id": "bcbbfbc9",
   "metadata": {},
   "outputs": [],
   "source": [
    "X_test = test.drop('Survived', axis =1)\n",
    "y_test = test.Survived"
   ]
  },
  {
   "cell_type": "code",
   "execution_count": 11,
   "id": "7f341d82",
   "metadata": {},
   "outputs": [],
   "source": [
    "#clf = RandomForestClassifier()"
   ]
  },
  {
   "cell_type": "code",
   "execution_count": 12,
   "id": "da78af7b",
   "metadata": {},
   "outputs": [
    {
     "ename": "IndentationError",
     "evalue": "unexpected indent (2487030805.py, line 2)",
     "output_type": "error",
     "traceback": [
      "\u001b[0;36m  File \u001b[0;32m\"/var/folders/rl/3k7tc9dx08lcx15y_zh2p20r0000gn/T/ipykernel_5449/2487030805.py\"\u001b[0;36m, line \u001b[0;32m2\u001b[0m\n\u001b[0;31m    (\"'max_depth'\", \":\", \"[1,2,3,4,5,6,7,8,9,10,11,12,13,14,15]\", \",\", \"'min_samples_split'\", \":\", \"[2,3,4,5,6,7,8,9,10,11,12,13,14,15]\", \",\", \"'min_samples_leaf'\", \":\", \"[1,2,3,4,5,6,7,8,9,10,11,12,13,14,15]}\")\u001b[0m\n\u001b[0m    ^\u001b[0m\n\u001b[0;31mIndentationError\u001b[0m\u001b[0;31m:\u001b[0m unexpected indent\n"
     ]
    }
   ],
   "source": [
    "#parametrs = {'n_estimators' : [1,2,3,4,5,6,7,8,9,10,11,12,13,14,15] \\\n",
    "             , 'max_depth' : [1,2,3,4,5,6,7,8,9,10,11,12,13,14,15] \\\n",
    "             , 'min_samples_split' : [2,3,4,5,6,7,8,9,10,11,12,13,14,15]\\\n",
    "             , 'min_samples_leaf' : [1,2,3,4,5,6,7,8,9,10,11,12,13,14,15]}"
   ]
  },
  {
   "cell_type": "code",
   "execution_count": null,
   "id": "8720a60b",
   "metadata": {},
   "outputs": [],
   "source": [
    "#selector1 = GridSearchCV(clf,parametrs,cv = 5)"
   ]
  },
  {
   "cell_type": "code",
   "execution_count": null,
   "id": "11745302",
   "metadata": {},
   "outputs": [],
   "source": [
    "#selector2 = RandomizedSearchCV(clf,parametrs,cv = 5)"
   ]
  },
  {
   "cell_type": "code",
   "execution_count": null,
   "id": "d4e31ccb",
   "metadata": {},
   "outputs": [],
   "source": [
    "#selector2.fit(X_train,y_train)"
   ]
  },
  {
   "cell_type": "code",
   "execution_count": null,
   "id": "f8e100c3",
   "metadata": {
    "scrolled": true
   },
   "outputs": [],
   "source": [
    "#selector2.best_params_"
   ]
  },
  {
   "cell_type": "code",
   "execution_count": null,
   "id": "7a852be1",
   "metadata": {},
   "outputs": [],
   "source": [
    "#best2 = selector2.best_estimator_"
   ]
  },
  {
   "cell_type": "code",
   "execution_count": null,
   "id": "9f42df35",
   "metadata": {},
   "outputs": [],
   "source": [
    "#best2"
   ]
  },
  {
   "cell_type": "code",
   "execution_count": null,
   "id": "42c1222d",
   "metadata": {},
   "outputs": [],
   "source": [
    "#best2.score(X_train,y_train)"
   ]
  },
  {
   "cell_type": "code",
   "execution_count": null,
   "id": "ef84356e",
   "metadata": {},
   "outputs": [],
   "source": [
    "#best2.score(X_test,y_test)"
   ]
  },
  {
   "cell_type": "code",
   "execution_count": null,
   "id": "90b88667",
   "metadata": {},
   "outputs": [],
   "source": [
    "#f1_score(y_test,best2.predict(X_test))"
   ]
  },
  {
   "cell_type": "code",
   "execution_count": null,
   "id": "ebd811e3",
   "metadata": {
    "scrolled": true
   },
   "outputs": [],
   "source": [
    "#accuracy_score(y_test,best2.predict(X_test))"
   ]
  },
  {
   "cell_type": "code",
   "execution_count": null,
   "id": "de4fb1de",
   "metadata": {
    "scrolled": true
   },
   "outputs": [],
   "source": [
    "#selector1.fit(X_train,y_train)"
   ]
  },
  {
   "cell_type": "code",
   "execution_count": null,
   "id": "c424d8e6",
   "metadata": {},
   "outputs": [],
   "source": [
    "#selector1.best_params_"
   ]
  },
  {
   "cell_type": "code",
   "execution_count": null,
   "id": "32a5c7f7",
   "metadata": {},
   "outputs": [],
   "source": [
    "#best1 = selector1.best_estimator_"
   ]
  },
  {
   "cell_type": "code",
   "execution_count": null,
   "id": "ba4e5d9f",
   "metadata": {},
   "outputs": [],
   "source": [
    "#f1_score(y_test, best1.predict(X_test))"
   ]
  },
  {
   "cell_type": "code",
   "execution_count": null,
   "id": "1bca461e",
   "metadata": {},
   "outputs": [],
   "source": [
    "#f1_score(y_train, best1.predict(X_train))"
   ]
  },
  {
   "cell_type": "code",
   "execution_count": null,
   "id": "508ea876",
   "metadata": {
    "scrolled": true
   },
   "outputs": [],
   "source": [
    "#accuracy_score(y_test,best1.predict(X_test))"
   ]
  },
  {
   "cell_type": "code",
   "execution_count": 13,
   "id": "5f7d13ac",
   "metadata": {},
   "outputs": [],
   "source": [
    "clf1 = RandomForestClassifier(max_depth = 8, min_samples_leaf = 5, min_samples_split = 11,n_estimators = 10)"
   ]
  },
  {
   "cell_type": "code",
   "execution_count": 14,
   "id": "cfea99c0",
   "metadata": {},
   "outputs": [],
   "source": [
    "clf2 = RandomForestClassifier(max_depth = 7, min_samples_leaf = 1, min_samples_split = 7,n_estimators = 9)"
   ]
  },
  {
   "cell_type": "code",
   "execution_count": 15,
   "id": "d785f6cb",
   "metadata": {},
   "outputs": [
    {
     "data": {
      "text/plain": [
       "RandomForestClassifier(max_depth=7, min_samples_split=7, n_estimators=9)"
      ]
     },
     "execution_count": 15,
     "metadata": {},
     "output_type": "execute_result"
    }
   ],
   "source": [
    "clf2.fit(X_train,y_train)"
   ]
  },
  {
   "cell_type": "code",
   "execution_count": 16,
   "id": "de97c7d6",
   "metadata": {},
   "outputs": [
    {
     "data": {
      "text/plain": [
       "RandomForestClassifier(max_depth=8, min_samples_leaf=5, min_samples_split=11,\n",
       "                       n_estimators=10)"
      ]
     },
     "execution_count": 16,
     "metadata": {},
     "output_type": "execute_result"
    }
   ],
   "source": [
    "clf1.fit(X_train,y_train)"
   ]
  },
  {
   "cell_type": "code",
   "execution_count": 17,
   "id": "c7f58f4e",
   "metadata": {},
   "outputs": [
    {
     "data": {
      "text/plain": [
       "0.864406779661017"
      ]
     },
     "execution_count": 17,
     "metadata": {},
     "output_type": "execute_result"
    }
   ],
   "source": [
    "f1_score(y_test,clf1.predict(X_test))"
   ]
  },
  {
   "cell_type": "code",
   "execution_count": 18,
   "id": "5873111e",
   "metadata": {},
   "outputs": [
    {
     "data": {
      "text/plain": [
       "0.819672131147541"
      ]
     },
     "execution_count": 18,
     "metadata": {},
     "output_type": "execute_result"
    }
   ],
   "source": [
    "f1_score(y_test,clf2.predict(X_test))"
   ]
  },
  {
   "cell_type": "code",
   "execution_count": 19,
   "id": "18858d46",
   "metadata": {},
   "outputs": [
    {
     "data": {
      "text/plain": [
       "0.9033232628398792"
      ]
     },
     "execution_count": 19,
     "metadata": {},
     "output_type": "execute_result"
    }
   ],
   "source": [
    "clf1.score(X_test,y_test)"
   ]
  },
  {
   "cell_type": "code",
   "execution_count": 20,
   "id": "296565fc",
   "metadata": {},
   "outputs": [
    {
     "data": {
      "text/plain": [
       "0.8529411764705882"
      ]
     },
     "execution_count": 20,
     "metadata": {},
     "output_type": "execute_result"
    }
   ],
   "source": [
    "clf1.score(X_train,y_train)"
   ]
  },
  {
   "cell_type": "code",
   "execution_count": 21,
   "id": "c3029b8d",
   "metadata": {},
   "outputs": [
    {
     "data": {
      "text/plain": [
       "0.8670694864048338"
      ]
     },
     "execution_count": 21,
     "metadata": {},
     "output_type": "execute_result"
    }
   ],
   "source": [
    "clf2.score(X_test,y_test)"
   ]
  },
  {
   "cell_type": "code",
   "execution_count": 22,
   "id": "20aca3cf",
   "metadata": {},
   "outputs": [
    {
     "data": {
      "text/plain": [
       "0.8865546218487395"
      ]
     },
     "execution_count": 22,
     "metadata": {},
     "output_type": "execute_result"
    }
   ],
   "source": [
    "clf2.score(X_train,y_train)"
   ]
  },
  {
   "cell_type": "code",
   "execution_count": null,
   "id": "75736e5c",
   "metadata": {},
   "outputs": [],
   "source": []
  }
 ],
 "metadata": {
  "kernelspec": {
   "display_name": "Python 3 (ipykernel)",
   "language": "python",
   "name": "python3"
  },
  "language_info": {
   "codemirror_mode": {
    "name": "ipython",
    "version": 3
   },
   "file_extension": ".py",
   "mimetype": "text/x-python",
   "name": "python",
   "nbconvert_exporter": "python",
   "pygments_lexer": "ipython3",
   "version": "3.8.2"
  }
 },
 "nbformat": 4,
 "nbformat_minor": 5
}
