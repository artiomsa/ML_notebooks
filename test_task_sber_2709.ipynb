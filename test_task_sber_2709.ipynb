{
 "cells": [
  {
   "cell_type": "markdown",
   "id": "5f1e040f",
   "metadata": {},
   "source": [
    "#### Архипов Артем, telegram: @artiomsa"
   ]
  },
  {
   "cell_type": "markdown",
   "id": "30088e14",
   "metadata": {},
   "source": [
    "#### Task: Binary classification\n",
    "#### Key words: Class disbalance, Catboost"
   ]
  },
  {
   "cell_type": "code",
   "execution_count": 106,
   "id": "94bee7f6",
   "metadata": {},
   "outputs": [],
   "source": [
    "import pandas as pd\n",
    "from functools import reduce\n",
    "import numpy as np\n",
    "from scipy.stats import *"
   ]
  },
  {
   "cell_type": "code",
   "execution_count": 17,
   "id": "498d2f8a",
   "metadata": {},
   "outputs": [],
   "source": [
    "def ROC_Curve(X_validation, y_validation, cat_features, model):\n",
    "    from catboost.utils import get_roc_curve\n",
    "    import sklearn\n",
    "    from sklearn import metrics\n",
    "    import matplotlib.pyplot as plt\n",
    "    from catboost import Pool\n",
    "\n",
    "    eval_pool = Pool(X_validation, y_validation, cat_features=cat_features)\n",
    "    curve = get_roc_curve(model, eval_pool)\n",
    "    (fpr, tpr, thresholds) = curve\n",
    "    roc_auc = sklearn.metrics.auc(fpr, tpr)\n",
    "\n",
    "    plt.figure(figsize=(8, 4))\n",
    "    lw = 2\n",
    "\n",
    "    plt.plot(fpr, tpr, color='darkorange',\n",
    "             lw=lw, label='ROC curve (area = %0.2f)' % roc_auc, alpha=0.5)\n",
    "\n",
    "    plt.plot([0, 1], [0, 1], color='navy', lw=lw, linestyle='--', alpha=0.5)\n",
    "\n",
    "    plt.xlim([0.0, 1.0])\n",
    "    plt.ylim([0.0, 1.05])\n",
    "    plt.xticks(fontsize=10)\n",
    "    plt.yticks(fontsize=10)\n",
    "    plt.grid(True)\n",
    "    plt.xlabel('False Positive Rate', fontsize=10)\n",
    "    plt.ylabel('True Positive Rate', fontsize=10)\n",
    "    plt.title('Receiver operating characteristic', fontsize=12)\n",
    "    plt.legend(loc=\"lower right\", fontsize=10)\n",
    "    plt.show()\n",
    "    return curve"
   ]
  },
  {
   "cell_type": "code",
   "execution_count": 18,
   "id": "5c229457",
   "metadata": {},
   "outputs": [],
   "source": [
    "def FPR_FNR_Curve(curve):\n",
    "    import matplotlib.pyplot as plt\n",
    "    from catboost.utils import get_fpr_curve\n",
    "    from catboost.utils import get_fnr_curve\n",
    "\n",
    "    (thresholds, fpr) = get_fpr_curve(curve=curve)\n",
    "    (thresholds, fnr) = get_fnr_curve(curve=curve) \n",
    "    \n",
    "    plt.figure(figsize=(8, 4))\n",
    "    lw = 2\n",
    "\n",
    "    plt.plot(thresholds, fpr, color='blue', lw=lw, label='FPR', alpha=0.5)\n",
    "    plt.plot(thresholds, fnr, color='green', lw=lw, label='FNR', alpha=0.5)\n",
    "\n",
    "    plt.xlim([0.0, 1.0])\n",
    "    plt.ylim([0.0, 1.05])\n",
    "    plt.xticks(fontsize=10)\n",
    "    plt.yticks(fontsize=10)\n",
    "    plt.grid(True)\n",
    "    plt.xlabel('Threshold', fontsize=10)\n",
    "    plt.ylabel('Error Rate', fontsize=10)\n",
    "    plt.title('FPR-FNR curves', fontsize=12)\n",
    "    plt.legend(loc=\"lower left\", fontsize=10)\n",
    "    plt.show()"
   ]
  },
  {
   "cell_type": "code",
   "execution_count": 59,
   "id": "143e7fbc",
   "metadata": {},
   "outputs": [],
   "source": [
    "def GetThresholds(FPR, FNR, model, X, y, cat_features):\n",
    "    \n",
    "    from catboost.utils import select_threshold\n",
    "    from catboost import Pool\n",
    "    \n",
    "    eval_pool = Pool(X, y, cat_features=cat_features)\n",
    "    \n",
    "    print('FNR threshold', select_threshold(model=model, data=eval_pool, FNR=FNR))\n",
    "    print('FPR threshold', select_threshold(model=model, data=eval_pool, FPR=FPR))"
   ]
  },
  {
   "cell_type": "code",
   "execution_count": 375,
   "id": "050df924",
   "metadata": {},
   "outputs": [],
   "source": [
    "url_train = 'https://raw.githubusercontent.com/BKHV/risk_models/master/data/PD-data-train.csv'\n",
    "url_test = 'https://raw.githubusercontent.com/BKHV/risk_models/master/data/PD-data-test.csv'\n",
    "url_desc = 'https://raw.githubusercontent.com/BKHV/risk_models/master/data/PD-data-desc.csv'"
   ]
  },
  {
   "cell_type": "code",
   "execution_count": 376,
   "id": "556d2c8e",
   "metadata": {},
   "outputs": [],
   "source": [
    "train_df = pd.read_csv(url_train, sep = ';')\n",
    "test_df = pd.read_csv(url_test, sep = ';')\n",
    "description_df = pd.read_csv(url_desc, sep = ';')"
   ]
  },
  {
   "cell_type": "markdown",
   "id": "0a73c42c",
   "metadata": {},
   "source": [
    "# Data Observing"
   ]
  },
  {
   "cell_type": "code",
   "execution_count": 4,
   "id": "d4597f07",
   "metadata": {},
   "outputs": [
    {
     "data": {
      "text/html": [
       "<div>\n",
       "<style scoped>\n",
       "    .dataframe tbody tr th:only-of-type {\n",
       "        vertical-align: middle;\n",
       "    }\n",
       "\n",
       "    .dataframe tbody tr th {\n",
       "        vertical-align: top;\n",
       "    }\n",
       "\n",
       "    .dataframe thead th {\n",
       "        text-align: right;\n",
       "    }\n",
       "</style>\n",
       "<table border=\"1\" class=\"dataframe\">\n",
       "  <thead>\n",
       "    <tr style=\"text-align: right;\">\n",
       "      <th></th>\n",
       "      <th>record_id</th>\n",
       "      <th>ar_revenue</th>\n",
       "      <th>ar_total_expenses</th>\n",
       "      <th>ar_sale_cost</th>\n",
       "      <th>ar_selling_expenses</th>\n",
       "      <th>ar_management_expenses</th>\n",
       "      <th>ar_sale_profit</th>\n",
       "      <th>ar_balance_of_rvns_and_expns</th>\n",
       "      <th>ar_profit_before_tax</th>\n",
       "      <th>ar_taxes</th>\n",
       "      <th>...</th>\n",
       "      <th>adr_actual_age</th>\n",
       "      <th>head_actual_age</th>\n",
       "      <th>cap_actual_age</th>\n",
       "      <th>ul_staff_range</th>\n",
       "      <th>ul_capital_sum</th>\n",
       "      <th>ul_founders_cnt</th>\n",
       "      <th>ul_branch_cnt</th>\n",
       "      <th>ul_strategic_flg</th>\n",
       "      <th>ul_systematizing_flg</th>\n",
       "      <th>default_12m</th>\n",
       "    </tr>\n",
       "  </thead>\n",
       "  <tbody>\n",
       "    <tr>\n",
       "      <th>0</th>\n",
       "      <td>7</td>\n",
       "      <td>52996000.0</td>\n",
       "      <td>48344000.0</td>\n",
       "      <td>48344000.0</td>\n",
       "      <td>0.0</td>\n",
       "      <td>0.0</td>\n",
       "      <td>4652000.0</td>\n",
       "      <td>-2608000.0</td>\n",
       "      <td>2044000.0</td>\n",
       "      <td>846000.0</td>\n",
       "      <td>...</td>\n",
       "      <td>3</td>\n",
       "      <td>3</td>\n",
       "      <td>3</td>\n",
       "      <td>[1-100]</td>\n",
       "      <td>50000.0</td>\n",
       "      <td>2</td>\n",
       "      <td>0</td>\n",
       "      <td>0</td>\n",
       "      <td>0</td>\n",
       "      <td>0</td>\n",
       "    </tr>\n",
       "    <tr>\n",
       "      <th>1</th>\n",
       "      <td>13</td>\n",
       "      <td>NaN</td>\n",
       "      <td>NaN</td>\n",
       "      <td>NaN</td>\n",
       "      <td>NaN</td>\n",
       "      <td>NaN</td>\n",
       "      <td>NaN</td>\n",
       "      <td>NaN</td>\n",
       "      <td>NaN</td>\n",
       "      <td>NaN</td>\n",
       "      <td>...</td>\n",
       "      <td>12</td>\n",
       "      <td>12</td>\n",
       "      <td>12</td>\n",
       "      <td>[1-100]</td>\n",
       "      <td>10000.0</td>\n",
       "      <td>5</td>\n",
       "      <td>0</td>\n",
       "      <td>0</td>\n",
       "      <td>0</td>\n",
       "      <td>0</td>\n",
       "    </tr>\n",
       "    <tr>\n",
       "      <th>2</th>\n",
       "      <td>18</td>\n",
       "      <td>NaN</td>\n",
       "      <td>NaN</td>\n",
       "      <td>NaN</td>\n",
       "      <td>NaN</td>\n",
       "      <td>NaN</td>\n",
       "      <td>NaN</td>\n",
       "      <td>NaN</td>\n",
       "      <td>NaN</td>\n",
       "      <td>NaN</td>\n",
       "      <td>...</td>\n",
       "      <td>28</td>\n",
       "      <td>28</td>\n",
       "      <td>28</td>\n",
       "      <td>[1-100]</td>\n",
       "      <td>10000.0</td>\n",
       "      <td>2</td>\n",
       "      <td>0</td>\n",
       "      <td>0</td>\n",
       "      <td>0</td>\n",
       "      <td>0</td>\n",
       "    </tr>\n",
       "    <tr>\n",
       "      <th>3</th>\n",
       "      <td>22</td>\n",
       "      <td>32049000.0</td>\n",
       "      <td>29568000.0</td>\n",
       "      <td>29568000.0</td>\n",
       "      <td>0.0</td>\n",
       "      <td>0.0</td>\n",
       "      <td>2481000.0</td>\n",
       "      <td>-260000.0</td>\n",
       "      <td>2221000.0</td>\n",
       "      <td>302000.0</td>\n",
       "      <td>...</td>\n",
       "      <td>8</td>\n",
       "      <td>8</td>\n",
       "      <td>8</td>\n",
       "      <td>[1-100]</td>\n",
       "      <td>300000.0</td>\n",
       "      <td>1</td>\n",
       "      <td>0</td>\n",
       "      <td>0</td>\n",
       "      <td>0</td>\n",
       "      <td>0</td>\n",
       "    </tr>\n",
       "    <tr>\n",
       "      <th>4</th>\n",
       "      <td>23</td>\n",
       "      <td>16458000.0</td>\n",
       "      <td>14935000.0</td>\n",
       "      <td>14935000.0</td>\n",
       "      <td>0.0</td>\n",
       "      <td>0.0</td>\n",
       "      <td>1523000.0</td>\n",
       "      <td>-274000.0</td>\n",
       "      <td>1249000.0</td>\n",
       "      <td>538000.0</td>\n",
       "      <td>...</td>\n",
       "      <td>27</td>\n",
       "      <td>27</td>\n",
       "      <td>27</td>\n",
       "      <td>[1-100]</td>\n",
       "      <td>10000.0</td>\n",
       "      <td>2</td>\n",
       "      <td>0</td>\n",
       "      <td>0</td>\n",
       "      <td>0</td>\n",
       "      <td>0</td>\n",
       "    </tr>\n",
       "  </tbody>\n",
       "</table>\n",
       "<p>5 rows × 37 columns</p>\n",
       "</div>"
      ],
      "text/plain": [
       "   record_id  ar_revenue  ar_total_expenses  ar_sale_cost  \\\n",
       "0          7  52996000.0         48344000.0    48344000.0   \n",
       "1         13         NaN                NaN           NaN   \n",
       "2         18         NaN                NaN           NaN   \n",
       "3         22  32049000.0         29568000.0    29568000.0   \n",
       "4         23  16458000.0         14935000.0    14935000.0   \n",
       "\n",
       "   ar_selling_expenses  ar_management_expenses  ar_sale_profit  \\\n",
       "0                  0.0                     0.0       4652000.0   \n",
       "1                  NaN                     NaN             NaN   \n",
       "2                  NaN                     NaN             NaN   \n",
       "3                  0.0                     0.0       2481000.0   \n",
       "4                  0.0                     0.0       1523000.0   \n",
       "\n",
       "   ar_balance_of_rvns_and_expns  ar_profit_before_tax  ar_taxes  ...  \\\n",
       "0                    -2608000.0             2044000.0  846000.0  ...   \n",
       "1                           NaN                   NaN       NaN  ...   \n",
       "2                           NaN                   NaN       NaN  ...   \n",
       "3                     -260000.0             2221000.0  302000.0  ...   \n",
       "4                     -274000.0             1249000.0  538000.0  ...   \n",
       "\n",
       "   adr_actual_age  head_actual_age  cap_actual_age  ul_staff_range  \\\n",
       "0               3                3               3         [1-100]   \n",
       "1              12               12              12         [1-100]   \n",
       "2              28               28              28         [1-100]   \n",
       "3               8                8               8         [1-100]   \n",
       "4              27               27              27         [1-100]   \n",
       "\n",
       "   ul_capital_sum  ul_founders_cnt  ul_branch_cnt  ul_strategic_flg  \\\n",
       "0         50000.0                2              0                 0   \n",
       "1         10000.0                5              0                 0   \n",
       "2         10000.0                2              0                 0   \n",
       "3        300000.0                1              0                 0   \n",
       "4         10000.0                2              0                 0   \n",
       "\n",
       "   ul_systematizing_flg  default_12m  \n",
       "0                     0            0  \n",
       "1                     0            0  \n",
       "2                     0            0  \n",
       "3                     0            0  \n",
       "4                     0            0  \n",
       "\n",
       "[5 rows x 37 columns]"
      ]
     },
     "execution_count": 4,
     "metadata": {},
     "output_type": "execute_result"
    }
   ],
   "source": [
    "train_df.head()"
   ]
  },
  {
   "cell_type": "code",
   "execution_count": 5,
   "id": "2c2121c5",
   "metadata": {},
   "outputs": [
    {
     "name": "stdout",
     "output_type": "stream",
     "text": [
      "train (32395, 37)\n",
      "test (200, 36)\n"
     ]
    }
   ],
   "source": [
    "print('train',train_df.shape)\n",
    "print('test',test_df.shape)"
   ]
  },
  {
   "cell_type": "markdown",
   "id": "ca1f0d2f",
   "metadata": {},
   "source": [
    "#### Описание признаков"
   ]
  },
  {
   "cell_type": "code",
   "execution_count": 6,
   "id": "8a612903",
   "metadata": {
    "scrolled": false
   },
   "outputs": [
    {
     "data": {
      "text/html": [
       "<div>\n",
       "<style scoped>\n",
       "    .dataframe tbody tr th:only-of-type {\n",
       "        vertical-align: middle;\n",
       "    }\n",
       "\n",
       "    .dataframe tbody tr th {\n",
       "        vertical-align: top;\n",
       "    }\n",
       "\n",
       "    .dataframe thead th {\n",
       "        text-align: right;\n",
       "    }\n",
       "</style>\n",
       "<table border=\"1\" class=\"dataframe\">\n",
       "  <thead>\n",
       "    <tr style=\"text-align: right;\">\n",
       "      <th></th>\n",
       "      <th>field</th>\n",
       "      <th>desc_eng</th>\n",
       "      <th>desc_rus</th>\n",
       "    </tr>\n",
       "  </thead>\n",
       "  <tbody>\n",
       "    <tr>\n",
       "      <th>0</th>\n",
       "      <td>ar_revenue</td>\n",
       "      <td>Sales revenue (at the end of the last year)</td>\n",
       "      <td>Выручка от реализации (на конец последнего года)</td>\n",
       "    </tr>\n",
       "    <tr>\n",
       "      <th>1</th>\n",
       "      <td>ar_total_expenses</td>\n",
       "      <td>Total expenses for the last year</td>\n",
       "      <td>Общие расходы за последний год</td>\n",
       "    </tr>\n",
       "    <tr>\n",
       "      <th>2</th>\n",
       "      <td>ar_sale_cost</td>\n",
       "      <td>Cost of sales (at the end of the last year)</td>\n",
       "      <td>Себестоимость продаж (на конец последнего года)</td>\n",
       "    </tr>\n",
       "    <tr>\n",
       "      <th>3</th>\n",
       "      <td>ar_selling_expenses</td>\n",
       "      <td>Selling expenses (at the end of the last year)</td>\n",
       "      <td>Коммерческие расходы (на конец последнего года)</td>\n",
       "    </tr>\n",
       "    <tr>\n",
       "      <th>4</th>\n",
       "      <td>ar_management_expenses</td>\n",
       "      <td>Administrative expenses (at the end of the las...</td>\n",
       "      <td>Управленческие расходы (на конец последнего года)</td>\n",
       "    </tr>\n",
       "    <tr>\n",
       "      <th>5</th>\n",
       "      <td>ar_sale_profit</td>\n",
       "      <td>Profit from sales (at the end of the last year)</td>\n",
       "      <td>Прибыль от реализации (на конец последнего года)</td>\n",
       "    </tr>\n",
       "    <tr>\n",
       "      <th>6</th>\n",
       "      <td>ar_balance_of_rvns_and_expns</td>\n",
       "      <td>Balance of income and expenses (at the end of ...</td>\n",
       "      <td>Баланс доходов и расходов (на конец последнего...</td>\n",
       "    </tr>\n",
       "    <tr>\n",
       "      <th>7</th>\n",
       "      <td>ar_profit_before_tax</td>\n",
       "      <td>Gross Profit (end of last year)</td>\n",
       "      <td>Валовая прибыль (на конец последнего года)</td>\n",
       "    </tr>\n",
       "    <tr>\n",
       "      <th>8</th>\n",
       "      <td>ar_taxes</td>\n",
       "      <td>Current income tax (at the end of the last year)</td>\n",
       "      <td>Текущий на налог на прибыль (на конец последне...</td>\n",
       "    </tr>\n",
       "    <tr>\n",
       "      <th>9</th>\n",
       "      <td>ar_other_profit_and_losses</td>\n",
       "      <td>Other income and expenses (at the end of the l...</td>\n",
       "      <td>Прочие доходы и расходы (на конец последнего г...</td>\n",
       "    </tr>\n",
       "    <tr>\n",
       "      <th>10</th>\n",
       "      <td>ar_net_profit</td>\n",
       "      <td>Net profit (at the end of the last year)</td>\n",
       "      <td>Чистая прибыль (на конец последнего года)</td>\n",
       "    </tr>\n",
       "    <tr>\n",
       "      <th>11</th>\n",
       "      <td>ab_immobilized_assets</td>\n",
       "      <td>Fixed assets for the last year</td>\n",
       "      <td>Основные внеоборотные средства за последний год</td>\n",
       "    </tr>\n",
       "    <tr>\n",
       "      <th>12</th>\n",
       "      <td>ab_mobile_current_assets</td>\n",
       "      <td>Current assets (at the end of the last year)</td>\n",
       "      <td>Оборотные активы (на конец последнего года)</td>\n",
       "    </tr>\n",
       "    <tr>\n",
       "      <th>13</th>\n",
       "      <td>ab_inventory</td>\n",
       "      <td>Stocks (at the end of the last year)</td>\n",
       "      <td>Запасы (на конец последнего года)</td>\n",
       "    </tr>\n",
       "    <tr>\n",
       "      <th>14</th>\n",
       "      <td>ab_accounts_receivable</td>\n",
       "      <td>Accounts receivable (at the end of the last year)</td>\n",
       "      <td>Дебиторская задолженность (на конец последнего...</td>\n",
       "    </tr>\n",
       "    <tr>\n",
       "      <th>15</th>\n",
       "      <td>ab_other_current_assets</td>\n",
       "      <td>Other current assets (at the end of the last y...</td>\n",
       "      <td>Прочие оборотные активы (на конец последнего г...</td>\n",
       "    </tr>\n",
       "    <tr>\n",
       "      <th>16</th>\n",
       "      <td>ab_cash_and_securities</td>\n",
       "      <td>Cash and cash equivalents (at the end of the l...</td>\n",
       "      <td>Денежные средства и денежные эквиваленты (на к...</td>\n",
       "    </tr>\n",
       "    <tr>\n",
       "      <th>17</th>\n",
       "      <td>ab_losses</td>\n",
       "      <td>Retained earnings (at the end of the last year)</td>\n",
       "      <td>Нераспределенная прибыль (на конец последнего ...</td>\n",
       "    </tr>\n",
       "    <tr>\n",
       "      <th>18</th>\n",
       "      <td>ab_own_capital</td>\n",
       "      <td>Capital (at the end of the last year)</td>\n",
       "      <td>Капитал (на конец последнего года)</td>\n",
       "    </tr>\n",
       "    <tr>\n",
       "      <th>19</th>\n",
       "      <td>ab_borrowed_capital</td>\n",
       "      <td>Total debt (end of last year)</td>\n",
       "      <td>Общие долговые обязательства (на конец последн...</td>\n",
       "    </tr>\n",
       "    <tr>\n",
       "      <th>20</th>\n",
       "      <td>ab_long_term_liabilities</td>\n",
       "      <td>Long-term liabilities (at the end of the last ...</td>\n",
       "      <td>Долгосрочный обязательства (на конец последнег...</td>\n",
       "    </tr>\n",
       "    <tr>\n",
       "      <th>21</th>\n",
       "      <td>ab_short_term_borrowing</td>\n",
       "      <td>Short-term borrowed funds (at the end of the l...</td>\n",
       "      <td>Краткосрочные заемные средства (на конец после...</td>\n",
       "    </tr>\n",
       "    <tr>\n",
       "      <th>22</th>\n",
       "      <td>ab_accounts_payable</td>\n",
       "      <td>Accounts payable for the last year</td>\n",
       "      <td>Кредиторская задодженность за последний год</td>\n",
       "    </tr>\n",
       "    <tr>\n",
       "      <th>23</th>\n",
       "      <td>ab_other_borrowings</td>\n",
       "      <td>Other liabilities (at the end of the last year)</td>\n",
       "      <td>Прочие обязательства (на конец последнего года)</td>\n",
       "    </tr>\n",
       "    <tr>\n",
       "      <th>24</th>\n",
       "      <td>bus_age</td>\n",
       "      <td>Business duration</td>\n",
       "      <td>Срок ведения бизнеса</td>\n",
       "    </tr>\n",
       "    <tr>\n",
       "      <th>25</th>\n",
       "      <td>ogrn_age</td>\n",
       "      <td>Term from the moment the PSRN was assigned</td>\n",
       "      <td>Срок с момента присваивания ОГРН</td>\n",
       "    </tr>\n",
       "    <tr>\n",
       "      <th>26</th>\n",
       "      <td>adr_actual_age</td>\n",
       "      <td>Term from the date of registration of the lega...</td>\n",
       "      <td>Срок с момента регистрации юридического адреса</td>\n",
       "    </tr>\n",
       "    <tr>\n",
       "      <th>27</th>\n",
       "      <td>head_actual_age</td>\n",
       "      <td>Term since the appointment of the head</td>\n",
       "      <td>Срок с момента назначения руководителя</td>\n",
       "    </tr>\n",
       "    <tr>\n",
       "      <th>28</th>\n",
       "      <td>cap_actual_age</td>\n",
       "      <td>Term from the moment of capital installation</td>\n",
       "      <td>Срок с момента установки капитала</td>\n",
       "    </tr>\n",
       "    <tr>\n",
       "      <th>29</th>\n",
       "      <td>ul_staff_range</td>\n",
       "      <td>The number of employees</td>\n",
       "      <td>Количество сотрудников</td>\n",
       "    </tr>\n",
       "    <tr>\n",
       "      <th>30</th>\n",
       "      <td>ul_capital_sum</td>\n",
       "      <td>Capital amount</td>\n",
       "      <td>Величина капитала</td>\n",
       "    </tr>\n",
       "    <tr>\n",
       "      <th>31</th>\n",
       "      <td>ul_founders_cnt</td>\n",
       "      <td>Number of shareholders</td>\n",
       "      <td>Количество акционеров</td>\n",
       "    </tr>\n",
       "    <tr>\n",
       "      <th>32</th>\n",
       "      <td>ul_branch_cnt</td>\n",
       "      <td>Number of branches</td>\n",
       "      <td>Количество филиалов</td>\n",
       "    </tr>\n",
       "    <tr>\n",
       "      <th>33</th>\n",
       "      <td>ul_strategic_flg</td>\n",
       "      <td>A company of strategic importance</td>\n",
       "      <td>Компания стратегического значения</td>\n",
       "    </tr>\n",
       "    <tr>\n",
       "      <th>34</th>\n",
       "      <td>ul_systematizing_flg</td>\n",
       "      <td>Backbone company</td>\n",
       "      <td>Системообразующая компания</td>\n",
       "    </tr>\n",
       "  </tbody>\n",
       "</table>\n",
       "</div>"
      ],
      "text/plain": [
       "                           field  \\\n",
       "0                     ar_revenue   \n",
       "1              ar_total_expenses   \n",
       "2                   ar_sale_cost   \n",
       "3            ar_selling_expenses   \n",
       "4         ar_management_expenses   \n",
       "5                 ar_sale_profit   \n",
       "6   ar_balance_of_rvns_and_expns   \n",
       "7           ar_profit_before_tax   \n",
       "8                       ar_taxes   \n",
       "9     ar_other_profit_and_losses   \n",
       "10                 ar_net_profit   \n",
       "11         ab_immobilized_assets   \n",
       "12      ab_mobile_current_assets   \n",
       "13                  ab_inventory   \n",
       "14        ab_accounts_receivable   \n",
       "15       ab_other_current_assets   \n",
       "16        ab_cash_and_securities   \n",
       "17                     ab_losses   \n",
       "18                ab_own_capital   \n",
       "19           ab_borrowed_capital   \n",
       "20      ab_long_term_liabilities   \n",
       "21       ab_short_term_borrowing   \n",
       "22           ab_accounts_payable   \n",
       "23           ab_other_borrowings   \n",
       "24                       bus_age   \n",
       "25                      ogrn_age   \n",
       "26                adr_actual_age   \n",
       "27               head_actual_age   \n",
       "28                cap_actual_age   \n",
       "29                ul_staff_range   \n",
       "30                ul_capital_sum   \n",
       "31               ul_founders_cnt   \n",
       "32                 ul_branch_cnt   \n",
       "33              ul_strategic_flg   \n",
       "34          ul_systematizing_flg   \n",
       "\n",
       "                                             desc_eng  \\\n",
       "0         Sales revenue (at the end of the last year)   \n",
       "1                    Total expenses for the last year   \n",
       "2         Cost of sales (at the end of the last year)   \n",
       "3      Selling expenses (at the end of the last year)   \n",
       "4   Administrative expenses (at the end of the las...   \n",
       "5     Profit from sales (at the end of the last year)   \n",
       "6   Balance of income and expenses (at the end of ...   \n",
       "7                     Gross Profit (end of last year)   \n",
       "8    Current income tax (at the end of the last year)   \n",
       "9   Other income and expenses (at the end of the l...   \n",
       "10           Net profit (at the end of the last year)   \n",
       "11                     Fixed assets for the last year   \n",
       "12       Current assets (at the end of the last year)   \n",
       "13               Stocks (at the end of the last year)   \n",
       "14  Accounts receivable (at the end of the last year)   \n",
       "15  Other current assets (at the end of the last y...   \n",
       "16  Cash and cash equivalents (at the end of the l...   \n",
       "17    Retained earnings (at the end of the last year)   \n",
       "18              Capital (at the end of the last year)   \n",
       "19                      Total debt (end of last year)   \n",
       "20  Long-term liabilities (at the end of the last ...   \n",
       "21  Short-term borrowed funds (at the end of the l...   \n",
       "22                 Accounts payable for the last year   \n",
       "23    Other liabilities (at the end of the last year)   \n",
       "24                                  Business duration   \n",
       "25         Term from the moment the PSRN was assigned   \n",
       "26  Term from the date of registration of the lega...   \n",
       "27             Term since the appointment of the head   \n",
       "28       Term from the moment of capital installation   \n",
       "29                            The number of employees   \n",
       "30                                     Capital amount   \n",
       "31                             Number of shareholders   \n",
       "32                                 Number of branches   \n",
       "33                  A company of strategic importance   \n",
       "34                                   Backbone company   \n",
       "\n",
       "                                             desc_rus  \n",
       "0    Выручка от реализации (на конец последнего года)  \n",
       "1                      Общие расходы за последний год  \n",
       "2     Себестоимость продаж (на конец последнего года)  \n",
       "3     Коммерческие расходы (на конец последнего года)  \n",
       "4   Управленческие расходы (на конец последнего года)  \n",
       "5    Прибыль от реализации (на конец последнего года)  \n",
       "6   Баланс доходов и расходов (на конец последнего...  \n",
       "7          Валовая прибыль (на конец последнего года)  \n",
       "8   Текущий на налог на прибыль (на конец последне...  \n",
       "9   Прочие доходы и расходы (на конец последнего г...  \n",
       "10          Чистая прибыль (на конец последнего года)  \n",
       "11    Основные внеоборотные средства за последний год  \n",
       "12        Оборотные активы (на конец последнего года)  \n",
       "13                  Запасы (на конец последнего года)  \n",
       "14  Дебиторская задолженность (на конец последнего...  \n",
       "15  Прочие оборотные активы (на конец последнего г...  \n",
       "16  Денежные средства и денежные эквиваленты (на к...  \n",
       "17  Нераспределенная прибыль (на конец последнего ...  \n",
       "18                 Капитал (на конец последнего года)  \n",
       "19  Общие долговые обязательства (на конец последн...  \n",
       "20  Долгосрочный обязательства (на конец последнег...  \n",
       "21  Краткосрочные заемные средства (на конец после...  \n",
       "22        Кредиторская задодженность за последний год  \n",
       "23    Прочие обязательства (на конец последнего года)  \n",
       "24                               Срок ведения бизнеса  \n",
       "25                   Срок с момента присваивания ОГРН  \n",
       "26     Срок с момента регистрации юридического адреса  \n",
       "27             Срок с момента назначения руководителя  \n",
       "28                  Срок с момента установки капитала  \n",
       "29                             Количество сотрудников  \n",
       "30                                  Величина капитала  \n",
       "31                              Количество акционеров  \n",
       "32                                Количество филиалов  \n",
       "33                  Компания стратегического значения  \n",
       "34                         Системообразующая компания  "
      ]
     },
     "execution_count": 6,
     "metadata": {},
     "output_type": "execute_result"
    }
   ],
   "source": [
    "description_df"
   ]
  },
  {
   "cell_type": "markdown",
   "id": "5d8e844b",
   "metadata": {},
   "source": [
    "### Target (default_12m)"
   ]
  },
  {
   "cell_type": "markdown",
   "id": "46e61ea3",
   "metadata": {},
   "source": [
    "#### Наблюдается сильный перекос классов, что делает метрику Accuracy малоинформативной для валидации"
   ]
  },
  {
   "cell_type": "code",
   "execution_count": 7,
   "id": "c7f9c235",
   "metadata": {},
   "outputs": [
    {
     "name": "stdout",
     "output_type": "stream",
     "text": [
      "0 class: 94 %\n",
      "1 class: 6 %\n"
     ]
    },
    {
     "data": {
      "text/html": [
       "<div>\n",
       "<style scoped>\n",
       "    .dataframe tbody tr th:only-of-type {\n",
       "        vertical-align: middle;\n",
       "    }\n",
       "\n",
       "    .dataframe tbody tr th {\n",
       "        vertical-align: top;\n",
       "    }\n",
       "\n",
       "    .dataframe thead th {\n",
       "        text-align: right;\n",
       "    }\n",
       "</style>\n",
       "<table border=\"1\" class=\"dataframe\">\n",
       "  <thead>\n",
       "    <tr style=\"text-align: right;\">\n",
       "      <th></th>\n",
       "      <th>record_id</th>\n",
       "    </tr>\n",
       "    <tr>\n",
       "      <th>default_12m</th>\n",
       "      <th></th>\n",
       "    </tr>\n",
       "  </thead>\n",
       "  <tbody>\n",
       "    <tr>\n",
       "      <th>0</th>\n",
       "      <td>30304</td>\n",
       "    </tr>\n",
       "    <tr>\n",
       "      <th>1</th>\n",
       "      <td>2091</td>\n",
       "    </tr>\n",
       "  </tbody>\n",
       "</table>\n",
       "</div>"
      ],
      "text/plain": [
       "             record_id\n",
       "default_12m           \n",
       "0                30304\n",
       "1                 2091"
      ]
     },
     "execution_count": 7,
     "metadata": {},
     "output_type": "execute_result"
    }
   ],
   "source": [
    "print('0 class:',round(train_df[train_df.default_12m == 0].shape[0] / train_df.shape[0] * 100), '%')\n",
    "print('1 class:',round(train_df[train_df.default_12m == 1].shape[0] / train_df.shape[0] * 100), '%')\n",
    "train_df.groupby('default_12m').agg({'record_id':'count'})"
   ]
  },
  {
   "cell_type": "markdown",
   "id": "1afbd4c7",
   "metadata": {},
   "source": [
    "### Nan-values"
   ]
  },
  {
   "cell_type": "code",
   "execution_count": 8,
   "id": "3d022c58",
   "metadata": {},
   "outputs": [
    {
     "data": {
      "text/plain": [
       "record_id                           0\n",
       "ar_revenue                      15145\n",
       "ar_total_expenses               15145\n",
       "ar_sale_cost                    15145\n",
       "ar_selling_expenses             15145\n",
       "ar_management_expenses          15145\n",
       "ar_sale_profit                  15145\n",
       "ar_balance_of_rvns_and_expns    15145\n",
       "ar_profit_before_tax            15145\n",
       "ar_taxes                        15145\n",
       "ar_other_profit_and_losses      15145\n",
       "ar_net_profit                   15145\n",
       "ab_immobilized_assets           15145\n",
       "ab_mobile_current_assets        15145\n",
       "ab_inventory                    15145\n",
       "ab_accounts_receivable          15145\n",
       "ab_other_current_assets         15145\n",
       "ab_cash_and_securities          15145\n",
       "ab_losses                       15145\n",
       "ab_own_capital                  15145\n",
       "ab_borrowed_capital             15145\n",
       "ab_long_term_liabilities        15145\n",
       "ab_short_term_borrowing         15145\n",
       "ab_accounts_payable             15145\n",
       "ab_other_borrowings             15145\n",
       "bus_age                             0\n",
       "ogrn_age                            0\n",
       "adr_actual_age                      0\n",
       "head_actual_age                     0\n",
       "cap_actual_age                      0\n",
       "ul_staff_range                      0\n",
       "ul_capital_sum                      0\n",
       "ul_founders_cnt                     0\n",
       "ul_branch_cnt                       0\n",
       "ul_strategic_flg                    0\n",
       "ul_systematizing_flg                0\n",
       "default_12m                         0\n",
       "dtype: int64"
      ]
     },
     "execution_count": 8,
     "metadata": {},
     "output_type": "execute_result"
    }
   ],
   "source": [
    "train_df.isna().sum()"
   ]
  },
  {
   "cell_type": "code",
   "execution_count": 9,
   "id": "590f31e0",
   "metadata": {},
   "outputs": [],
   "source": [
    "nan_vals = dict(train_df.isna().sum())\n",
    "nan_features = []\n",
    "for i in nan_vals.keys():\n",
    "    if nan_vals[i] > 0:\n",
    "        nan_features.append(i)"
   ]
  },
  {
   "cell_type": "code",
   "execution_count": 10,
   "id": "8e9ec9e2",
   "metadata": {
    "scrolled": true
   },
   "outputs": [
    {
     "name": "stdout",
     "output_type": "stream",
     "text": [
      "признаков с Nan: 24 ['ar_revenue', 'ar_total_expenses', 'ar_sale_cost', 'ar_selling_expenses', 'ar_management_expenses']\n"
     ]
    }
   ],
   "source": [
    "print('признаков с Nan:',len(nan_features), nan_features[:5])"
   ]
  },
  {
   "cell_type": "markdown",
   "id": "961d163c",
   "metadata": {},
   "source": [
    "#### Заметим, что кол-во пустых значений одинаковое. Посмотрим, на пересечение наборов индексов с пустыми значениями (т.е. посмотрим, действительно ли, если убрать 15145 строк из train_df, то будут убраны абсолютно все пустые значения в train_df)"
   ]
  },
  {
   "cell_type": "code",
   "execution_count": 11,
   "id": "65fc4ab4",
   "metadata": {},
   "outputs": [],
   "source": [
    "for feature in nan_features:\n",
    "    feature_ind = list(train_df[train_df[feature].notna()].index)\n",
    "    for oth_feature in nan_features:\n",
    "        oth_feature_ind = list(train_df[train_df[oth_feature].notna()].index)\n",
    "        if reduce(lambda x, y : x and y, map(lambda p, q: p == q,feature_ind,oth_feature_ind), True): \n",
    "            pass\n",
    "        else: \n",
    "            print (\"Not the same Nan indexes\")"
   ]
  },
  {
   "cell_type": "code",
   "execution_count": 12,
   "id": "1c4a426e",
   "metadata": {},
   "outputs": [
    {
     "data": {
      "text/plain": [
       "True"
      ]
     },
     "execution_count": 12,
     "metadata": {},
     "output_type": "execute_result"
    }
   ],
   "source": [
    "# тут до меня дошло, что можно было сделать проще, а именно\n",
    "train_df.shape[0] - train_df.dropna().shape[0] == 15145"
   ]
  },
  {
   "cell_type": "markdown",
   "id": "a9ca1cce",
   "metadata": {},
   "source": [
    "#### Значит пустые значения признаков встречаются только в 15145 строках и при этом во всех 24 признаках (из nan_features)"
   ]
  },
  {
   "cell_type": "markdown",
   "id": "ac522191",
   "metadata": {},
   "source": [
    "### !!Очень много объектов 1-го класса имеют пустые значения. Это координально усложняет задачу"
   ]
  },
  {
   "cell_type": "code",
   "execution_count": 168,
   "id": "6856053b",
   "metadata": {},
   "outputs": [
    {
     "name": "stdout",
     "output_type": "stream",
     "text": [
      "Объектов 1-го класса 2091\n",
      "Из них НЕ с пустыми значениями 796\n"
     ]
    }
   ],
   "source": [
    "print('Объектов 1-го класса',train_df[train_df.default_12m == 1].shape[0])\n",
    "print('Из них НЕ с пустыми значениями',train_df[train_df.default_12m == 1].dropna().shape[0])"
   ]
  },
  {
   "cell_type": "markdown",
   "id": "06904d49",
   "metadata": {},
   "source": [
    "### Types of Features (categorial, numeric)"
   ]
  },
  {
   "cell_type": "code",
   "execution_count": 13,
   "id": "89c04886",
   "metadata": {},
   "outputs": [
    {
     "data": {
      "text/plain": [
       "array([dtype('int64'), dtype('float64'), dtype('O')], dtype=object)"
      ]
     },
     "execution_count": 13,
     "metadata": {},
     "output_type": "execute_result"
    }
   ],
   "source": [
    "train_df.dtypes.unique()"
   ]
  },
  {
   "cell_type": "markdown",
   "id": "627d4bc2",
   "metadata": {},
   "source": [
    "#### Все признаки выражены численными типами данных int64 и float64. Всего один признак типа object"
   ]
  },
  {
   "cell_type": "code",
   "execution_count": 14,
   "id": "0534c422",
   "metadata": {},
   "outputs": [
    {
     "data": {
      "text/html": [
       "<div>\n",
       "<style scoped>\n",
       "    .dataframe tbody tr th:only-of-type {\n",
       "        vertical-align: middle;\n",
       "    }\n",
       "\n",
       "    .dataframe tbody tr th {\n",
       "        vertical-align: top;\n",
       "    }\n",
       "\n",
       "    .dataframe thead th {\n",
       "        text-align: right;\n",
       "    }\n",
       "</style>\n",
       "<table border=\"1\" class=\"dataframe\">\n",
       "  <thead>\n",
       "    <tr style=\"text-align: right;\">\n",
       "      <th></th>\n",
       "      <th>ul_staff_range</th>\n",
       "    </tr>\n",
       "  </thead>\n",
       "  <tbody>\n",
       "    <tr>\n",
       "      <th>0</th>\n",
       "      <td>[1-100]</td>\n",
       "    </tr>\n",
       "  </tbody>\n",
       "</table>\n",
       "</div>"
      ],
      "text/plain": [
       "  ul_staff_range\n",
       "0        [1-100]"
      ]
     },
     "execution_count": 14,
     "metadata": {},
     "output_type": "execute_result"
    }
   ],
   "source": [
    "train_df.select_dtypes(include=['O']).head(1)"
   ]
  },
  {
   "cell_type": "markdown",
   "id": "73d8f539",
   "metadata": {},
   "source": [
    "#### Посмотрим на описание признаков и кол-во уникальных значений, чтобы выделить категориальные и числовые признаки"
   ]
  },
  {
   "cell_type": "code",
   "execution_count": 15,
   "id": "a870fd50",
   "metadata": {},
   "outputs": [
    {
     "data": {
      "text/html": [
       "<div>\n",
       "<style scoped>\n",
       "    .dataframe tbody tr th:only-of-type {\n",
       "        vertical-align: middle;\n",
       "    }\n",
       "\n",
       "    .dataframe tbody tr th {\n",
       "        vertical-align: top;\n",
       "    }\n",
       "\n",
       "    .dataframe thead th {\n",
       "        text-align: right;\n",
       "    }\n",
       "</style>\n",
       "<table border=\"1\" class=\"dataframe\">\n",
       "  <thead>\n",
       "    <tr style=\"text-align: right;\">\n",
       "      <th></th>\n",
       "      <th>field</th>\n",
       "      <th>desc_rus</th>\n",
       "      <th>count_unique_vals</th>\n",
       "    </tr>\n",
       "  </thead>\n",
       "  <tbody>\n",
       "    <tr>\n",
       "      <th>34</th>\n",
       "      <td>ul_systematizing_flg</td>\n",
       "      <td>Системообразующая компания</td>\n",
       "      <td>1</td>\n",
       "    </tr>\n",
       "    <tr>\n",
       "      <th>33</th>\n",
       "      <td>ul_strategic_flg</td>\n",
       "      <td>Компания стратегического значения</td>\n",
       "      <td>2</td>\n",
       "    </tr>\n",
       "    <tr>\n",
       "      <th>29</th>\n",
       "      <td>ul_staff_range</td>\n",
       "      <td>Количество сотрудников</td>\n",
       "      <td>3</td>\n",
       "    </tr>\n",
       "    <tr>\n",
       "      <th>32</th>\n",
       "      <td>ul_branch_cnt</td>\n",
       "      <td>Количество филиалов</td>\n",
       "      <td>13</td>\n",
       "    </tr>\n",
       "    <tr>\n",
       "      <th>26</th>\n",
       "      <td>adr_actual_age</td>\n",
       "      <td>Срок с момента регистрации юридического адреса</td>\n",
       "      <td>33</td>\n",
       "    </tr>\n",
       "    <tr>\n",
       "      <th>27</th>\n",
       "      <td>head_actual_age</td>\n",
       "      <td>Срок с момента назначения руководителя</td>\n",
       "      <td>33</td>\n",
       "    </tr>\n",
       "    <tr>\n",
       "      <th>28</th>\n",
       "      <td>cap_actual_age</td>\n",
       "      <td>Срок с момента установки капитала</td>\n",
       "      <td>33</td>\n",
       "    </tr>\n",
       "    <tr>\n",
       "      <th>25</th>\n",
       "      <td>ogrn_age</td>\n",
       "      <td>Срок с момента присваивания ОГРН</td>\n",
       "      <td>150</td>\n",
       "    </tr>\n",
       "    <tr>\n",
       "      <th>31</th>\n",
       "      <td>ul_founders_cnt</td>\n",
       "      <td>Количество акционеров</td>\n",
       "      <td>278</td>\n",
       "    </tr>\n",
       "    <tr>\n",
       "      <th>24</th>\n",
       "      <td>bus_age</td>\n",
       "      <td>Срок ведения бизнеса</td>\n",
       "      <td>315</td>\n",
       "    </tr>\n",
       "    <tr>\n",
       "      <th>9</th>\n",
       "      <td>ar_other_profit_and_losses</td>\n",
       "      <td>Прочие доходы и расходы (на конец последнего г...</td>\n",
       "      <td>595</td>\n",
       "    </tr>\n",
       "    <tr>\n",
       "      <th>4</th>\n",
       "      <td>ar_management_expenses</td>\n",
       "      <td>Управленческие расходы (на конец последнего года)</td>\n",
       "      <td>1093</td>\n",
       "    </tr>\n",
       "    <tr>\n",
       "      <th>15</th>\n",
       "      <td>ab_other_current_assets</td>\n",
       "      <td>Прочие оборотные активы (на конец последнего г...</td>\n",
       "      <td>1210</td>\n",
       "    </tr>\n",
       "    <tr>\n",
       "      <th>23</th>\n",
       "      <td>ab_other_borrowings</td>\n",
       "      <td>Прочие обязательства (на конец последнего года)</td>\n",
       "      <td>1437</td>\n",
       "    </tr>\n",
       "    <tr>\n",
       "      <th>3</th>\n",
       "      <td>ar_selling_expenses</td>\n",
       "      <td>Коммерческие расходы (на конец последнего года)</td>\n",
       "      <td>1994</td>\n",
       "    </tr>\n",
       "    <tr>\n",
       "      <th>8</th>\n",
       "      <td>ar_taxes</td>\n",
       "      <td>Текущий на налог на прибыль (на конец последне...</td>\n",
       "      <td>2247</td>\n",
       "    </tr>\n",
       "    <tr>\n",
       "      <th>20</th>\n",
       "      <td>ab_long_term_liabilities</td>\n",
       "      <td>Долгосрочный обязательства (на конец последнег...</td>\n",
       "      <td>2294</td>\n",
       "    </tr>\n",
       "    <tr>\n",
       "      <th>30</th>\n",
       "      <td>ul_capital_sum</td>\n",
       "      <td>Величина капитала</td>\n",
       "      <td>2980</td>\n",
       "    </tr>\n",
       "    <tr>\n",
       "      <th>11</th>\n",
       "      <td>ab_immobilized_assets</td>\n",
       "      <td>Основные внеоборотные средства за последний год</td>\n",
       "      <td>3498</td>\n",
       "    </tr>\n",
       "    <tr>\n",
       "      <th>16</th>\n",
       "      <td>ab_cash_and_securities</td>\n",
       "      <td>Денежные средства и денежные эквиваленты (на к...</td>\n",
       "      <td>3677</td>\n",
       "    </tr>\n",
       "    <tr>\n",
       "      <th>21</th>\n",
       "      <td>ab_short_term_borrowing</td>\n",
       "      <td>Краткосрочные заемные средства (на конец после...</td>\n",
       "      <td>4896</td>\n",
       "    </tr>\n",
       "    <tr>\n",
       "      <th>6</th>\n",
       "      <td>ar_balance_of_rvns_and_expns</td>\n",
       "      <td>Баланс доходов и расходов (на конец последнего...</td>\n",
       "      <td>5063</td>\n",
       "    </tr>\n",
       "    <tr>\n",
       "      <th>17</th>\n",
       "      <td>ab_losses</td>\n",
       "      <td>Нераспределенная прибыль (на конец последнего ...</td>\n",
       "      <td>6175</td>\n",
       "    </tr>\n",
       "    <tr>\n",
       "      <th>10</th>\n",
       "      <td>ar_net_profit</td>\n",
       "      <td>Чистая прибыль (на конец последнего года)</td>\n",
       "      <td>6231</td>\n",
       "    </tr>\n",
       "    <tr>\n",
       "      <th>7</th>\n",
       "      <td>ar_profit_before_tax</td>\n",
       "      <td>Валовая прибыль (на конец последнего года)</td>\n",
       "      <td>6526</td>\n",
       "    </tr>\n",
       "    <tr>\n",
       "      <th>5</th>\n",
       "      <td>ar_sale_profit</td>\n",
       "      <td>Прибыль от реализации (на конец последнего года)</td>\n",
       "      <td>7163</td>\n",
       "    </tr>\n",
       "    <tr>\n",
       "      <th>14</th>\n",
       "      <td>ab_accounts_receivable</td>\n",
       "      <td>Дебиторская задолженность (на конец последнего...</td>\n",
       "      <td>8283</td>\n",
       "    </tr>\n",
       "    <tr>\n",
       "      <th>22</th>\n",
       "      <td>ab_accounts_payable</td>\n",
       "      <td>Кредиторская задодженность за последний год</td>\n",
       "      <td>8797</td>\n",
       "    </tr>\n",
       "    <tr>\n",
       "      <th>18</th>\n",
       "      <td>ab_own_capital</td>\n",
       "      <td>Капитал (на конец последнего года)</td>\n",
       "      <td>9090</td>\n",
       "    </tr>\n",
       "    <tr>\n",
       "      <th>13</th>\n",
       "      <td>ab_inventory</td>\n",
       "      <td>Запасы (на конец последнего года)</td>\n",
       "      <td>9143</td>\n",
       "    </tr>\n",
       "    <tr>\n",
       "      <th>19</th>\n",
       "      <td>ab_borrowed_capital</td>\n",
       "      <td>Общие долговые обязательства (на конец последн...</td>\n",
       "      <td>10261</td>\n",
       "    </tr>\n",
       "    <tr>\n",
       "      <th>12</th>\n",
       "      <td>ab_mobile_current_assets</td>\n",
       "      <td>Оборотные активы (на конец последнего года)</td>\n",
       "      <td>11222</td>\n",
       "    </tr>\n",
       "    <tr>\n",
       "      <th>2</th>\n",
       "      <td>ar_sale_cost</td>\n",
       "      <td>Себестоимость продаж (на конец последнего года)</td>\n",
       "      <td>12664</td>\n",
       "    </tr>\n",
       "    <tr>\n",
       "      <th>1</th>\n",
       "      <td>ar_total_expenses</td>\n",
       "      <td>Общие расходы за последний год</td>\n",
       "      <td>12779</td>\n",
       "    </tr>\n",
       "    <tr>\n",
       "      <th>0</th>\n",
       "      <td>ar_revenue</td>\n",
       "      <td>Выручка от реализации (на конец последнего года)</td>\n",
       "      <td>12893</td>\n",
       "    </tr>\n",
       "  </tbody>\n",
       "</table>\n",
       "</div>"
      ],
      "text/plain": [
       "                           field  \\\n",
       "34          ul_systematizing_flg   \n",
       "33              ul_strategic_flg   \n",
       "29                ul_staff_range   \n",
       "32                 ul_branch_cnt   \n",
       "26                adr_actual_age   \n",
       "27               head_actual_age   \n",
       "28                cap_actual_age   \n",
       "25                      ogrn_age   \n",
       "31               ul_founders_cnt   \n",
       "24                       bus_age   \n",
       "9     ar_other_profit_and_losses   \n",
       "4         ar_management_expenses   \n",
       "15       ab_other_current_assets   \n",
       "23           ab_other_borrowings   \n",
       "3            ar_selling_expenses   \n",
       "8                       ar_taxes   \n",
       "20      ab_long_term_liabilities   \n",
       "30                ul_capital_sum   \n",
       "11         ab_immobilized_assets   \n",
       "16        ab_cash_and_securities   \n",
       "21       ab_short_term_borrowing   \n",
       "6   ar_balance_of_rvns_and_expns   \n",
       "17                     ab_losses   \n",
       "10                 ar_net_profit   \n",
       "7           ar_profit_before_tax   \n",
       "5                 ar_sale_profit   \n",
       "14        ab_accounts_receivable   \n",
       "22           ab_accounts_payable   \n",
       "18                ab_own_capital   \n",
       "13                  ab_inventory   \n",
       "19           ab_borrowed_capital   \n",
       "12      ab_mobile_current_assets   \n",
       "2                   ar_sale_cost   \n",
       "1              ar_total_expenses   \n",
       "0                     ar_revenue   \n",
       "\n",
       "                                             desc_rus  count_unique_vals  \n",
       "34                         Системообразующая компания                  1  \n",
       "33                  Компания стратегического значения                  2  \n",
       "29                             Количество сотрудников                  3  \n",
       "32                                Количество филиалов                 13  \n",
       "26     Срок с момента регистрации юридического адреса                 33  \n",
       "27             Срок с момента назначения руководителя                 33  \n",
       "28                  Срок с момента установки капитала                 33  \n",
       "25                   Срок с момента присваивания ОГРН                150  \n",
       "31                              Количество акционеров                278  \n",
       "24                               Срок ведения бизнеса                315  \n",
       "9   Прочие доходы и расходы (на конец последнего г...                595  \n",
       "4   Управленческие расходы (на конец последнего года)               1093  \n",
       "15  Прочие оборотные активы (на конец последнего г...               1210  \n",
       "23    Прочие обязательства (на конец последнего года)               1437  \n",
       "3     Коммерческие расходы (на конец последнего года)               1994  \n",
       "8   Текущий на налог на прибыль (на конец последне...               2247  \n",
       "20  Долгосрочный обязательства (на конец последнег...               2294  \n",
       "30                                  Величина капитала               2980  \n",
       "11    Основные внеоборотные средства за последний год               3498  \n",
       "16  Денежные средства и денежные эквиваленты (на к...               3677  \n",
       "21  Краткосрочные заемные средства (на конец после...               4896  \n",
       "6   Баланс доходов и расходов (на конец последнего...               5063  \n",
       "17  Нераспределенная прибыль (на конец последнего ...               6175  \n",
       "10          Чистая прибыль (на конец последнего года)               6231  \n",
       "7          Валовая прибыль (на конец последнего года)               6526  \n",
       "5    Прибыль от реализации (на конец последнего года)               7163  \n",
       "14  Дебиторская задолженность (на конец последнего...               8283  \n",
       "22        Кредиторская задодженность за последний год               8797  \n",
       "18                 Капитал (на конец последнего года)               9090  \n",
       "13                  Запасы (на конец последнего года)               9143  \n",
       "19  Общие долговые обязательства (на конец последн...              10261  \n",
       "12        Оборотные активы (на конец последнего года)              11222  \n",
       "2     Себестоимость продаж (на конец последнего года)              12664  \n",
       "1                      Общие расходы за последний год              12779  \n",
       "0    Выручка от реализации (на конец последнего года)              12893  "
      ]
     },
     "execution_count": 15,
     "metadata": {},
     "output_type": "execute_result"
    }
   ],
   "source": [
    "description_df.merge(\n",
    "pd.DataFrame(train_df.nunique().sort_values())\\\n",
    ".reset_index().rename(columns = {'index':'field', 0:'count_unique_vals'}), on = 'field'\n",
    ").sort_values('count_unique_vals').drop('desc_eng', axis = 1)"
   ]
  },
  {
   "cell_type": "code",
   "execution_count": 16,
   "id": "f3de05ae",
   "metadata": {},
   "outputs": [
    {
     "name": "stdout",
     "output_type": "stream",
     "text": [
      "uniques for ul_systematizing_flg: [0]\n",
      "uniques for ul_strategic_flg: [0 1]\n",
      "uniques for ul_staff_range: ['[1-100]' '(100-500]' '> 500']\n"
     ]
    }
   ],
   "source": [
    "print('uniques for ul_systematizing_flg:', train_df.ul_systematizing_flg.unique())\n",
    "print('uniques for ul_strategic_flg:', train_df.ul_strategic_flg.unique())\n",
    "print('uniques for ul_staff_range:', train_df.ul_staff_range.unique())"
   ]
  },
  {
   "cell_type": "markdown",
   "id": "3e96375e",
   "metadata": {},
   "source": [
    "#### Проанализировав описание признаков и количество уникальных значений этих признаков было выделено:\n",
    "\n",
    "\n",
    "#### 1. Все имющиеся признаки (кроме ul_systematizing_flg, ul_strategic_flg, ul_staff_range) можно отнести к численным (не категориальным) с точки зрения того, логически верно ли применять к ним алгебро-логические операции (операторы >, <, =) для выполнения сплитов в будущей ml молеи\n",
    "\n",
    "#### 2. ul_systematizing_flg(Системообразующая компания) имеет единственное уникальное значение, соответственно этот признак не является информативным для молели ml, при обучении его нужно отбросить\n",
    "\n",
    "#### 3. ul_strategic_flg(Компания стратегического значения) хоть и задается численными занчениями 0 и 1, но по сути своей не явяется численным признаком и применять алгебраические операции к нему не совсем верно. Поэтому, при обучении бустинга Catboost в частности, в будущем - этот признак будет добавлен мной в набор категориальных признаков\n",
    "\n",
    "#### 4. ul_staff_range(Количество сотрудников) имеет уникальные значения ['[1-100]', '(100-500]', '> 500'] типа object в pandas.DataFrame, однако по сути своей признак численный. Для него уникальные значения будут преобразованы в численные, с сохранением семантики признака. Предлагаю следующие замены: '[1-100]' -> 1;         '(100-500]' -> 2;        '> 500'->3"
   ]
  },
  {
   "cell_type": "markdown",
   "id": "c9898e88",
   "metadata": {},
   "source": [
    "# Baseline model"
   ]
  },
  {
   "cell_type": "code",
   "execution_count": 20,
   "id": "fef82fc1",
   "metadata": {},
   "outputs": [],
   "source": [
    "from sklearn.model_selection import train_test_split\n",
    "from sklearn.model_selection import cross_val_score\n",
    "from sklearn.metrics import *\n",
    "from catboost import *\n",
    "from catboost import CatBoostClassifier"
   ]
  },
  {
   "cell_type": "markdown",
   "id": "14a1504a",
   "metadata": {},
   "source": [
    "#### Бейзлайн построим без учетом заключений выше и предложенных выше вариантов замен\n",
    "\n",
    "#### Для решения задачи используем градиентный бустинг на деревьях решений CatBoost, в частности CatBoostClassifier\n",
    "\n",
    "#### Почему градиентный бустинг? Потому что это лучший вариант для использования на разнородных данных"
   ]
  },
  {
   "cell_type": "code",
   "execution_count": 44,
   "id": "1f8ced34",
   "metadata": {},
   "outputs": [],
   "source": [
    "baseline_df = train_df.copy()\n",
    "baseline_df = baseline_df.dropna()\n",
    "baseline_df.ul_staff_range = baseline_df.ul_staff_range.map({'[1-100]':1, '(100-500]':2, '> 500':3})\n",
    "\n",
    "X_train_base, X_validation_base, y_train_base, y_validation_base =\\\n",
    "train_test_split(baseline_df.drop('default_12m', axis = 1), baseline_df.default_12m,\\\n",
    "                 train_size=0.8, random_state=23)\n",
    "\n",
    "X_validation_base, X_test, y_validation_base, y_test =\\\n",
    "train_test_split(X_validation_base, y_validation_base,\\\n",
    "                 train_size=0.5, random_state=2)"
   ]
  },
  {
   "cell_type": "code",
   "execution_count": 31,
   "id": "cca32865",
   "metadata": {},
   "outputs": [],
   "source": [
    "baseline_model = CatBoostClassifier(custom_loss=['Accuracy','AUC'], eval_metric='AUC')"
   ]
  },
  {
   "cell_type": "code",
   "execution_count": 32,
   "id": "bc9a949b",
   "metadata": {
    "scrolled": false
   },
   "outputs": [
    {
     "name": "stderr",
     "output_type": "stream",
     "text": [
      "Custom logger is already specified. Specify more than one logger at same time is not thread safe."
     ]
    },
    {
     "data": {
      "application/vnd.jupyter.widget-view+json": {
       "model_id": "73cdeb46ac464f4faed048f5143f6b70",
       "version_major": 2,
       "version_minor": 0
      },
      "text/plain": [
       "MetricVisualizer(layout=Layout(align_self='stretch', height='500px'))"
      ]
     },
     "metadata": {},
     "output_type": "display_data"
    },
    {
     "data": {
      "text/plain": [
       "<catboost.core.CatBoostClassifier at 0x7fec50f4bd30>"
      ]
     },
     "execution_count": 32,
     "metadata": {},
     "output_type": "execute_result"
    }
   ],
   "source": [
    "baseline_model.fit(X_train_base,\n",
    "    y_train_base,\n",
    "    use_best_model=True,\n",
    "    eval_set=(X_validation_base, y_validation_base),\n",
    "    verbose=False,\n",
    "    plot=True,\n",
    "    early_stopping_rounds=500)"
   ]
  },
  {
   "cell_type": "code",
   "execution_count": 33,
   "id": "ad5271e4",
   "metadata": {},
   "outputs": [
    {
     "data": {
      "text/plain": [
       "299"
      ]
     },
     "execution_count": 33,
     "metadata": {},
     "output_type": "execute_result"
    }
   ],
   "source": [
    "baseline_model.tree_count_"
   ]
  },
  {
   "cell_type": "code",
   "execution_count": 35,
   "id": "89c8f7e8",
   "metadata": {},
   "outputs": [
    {
     "data": {
      "text/html": [
       "<div>\n",
       "<style scoped>\n",
       "    .dataframe tbody tr th:only-of-type {\n",
       "        vertical-align: middle;\n",
       "    }\n",
       "\n",
       "    .dataframe tbody tr th {\n",
       "        vertical-align: top;\n",
       "    }\n",
       "\n",
       "    .dataframe thead th {\n",
       "        text-align: right;\n",
       "    }\n",
       "</style>\n",
       "<table border=\"1\" class=\"dataframe\">\n",
       "  <thead>\n",
       "    <tr style=\"text-align: right;\">\n",
       "      <th></th>\n",
       "      <th>feature</th>\n",
       "      <th>importance_val</th>\n",
       "    </tr>\n",
       "  </thead>\n",
       "  <tbody>\n",
       "    <tr>\n",
       "      <th>19</th>\n",
       "      <td>ab_own_capital</td>\n",
       "      <td>6.068319</td>\n",
       "    </tr>\n",
       "    <tr>\n",
       "      <th>17</th>\n",
       "      <td>ab_cash_and_securities</td>\n",
       "      <td>5.924302</td>\n",
       "    </tr>\n",
       "    <tr>\n",
       "      <th>25</th>\n",
       "      <td>bus_age</td>\n",
       "      <td>5.013708</td>\n",
       "    </tr>\n",
       "    <tr>\n",
       "      <th>22</th>\n",
       "      <td>ab_short_term_borrowing</td>\n",
       "      <td>4.888254</td>\n",
       "    </tr>\n",
       "    <tr>\n",
       "      <th>26</th>\n",
       "      <td>ogrn_age</td>\n",
       "      <td>4.299133</td>\n",
       "    </tr>\n",
       "    <tr>\n",
       "      <th>23</th>\n",
       "      <td>ab_accounts_payable</td>\n",
       "      <td>4.013877</td>\n",
       "    </tr>\n",
       "    <tr>\n",
       "      <th>7</th>\n",
       "      <td>ar_balance_of_rvns_and_expns</td>\n",
       "      <td>3.744280</td>\n",
       "    </tr>\n",
       "    <tr>\n",
       "      <th>9</th>\n",
       "      <td>ar_taxes</td>\n",
       "      <td>3.732684</td>\n",
       "    </tr>\n",
       "    <tr>\n",
       "      <th>15</th>\n",
       "      <td>ab_accounts_receivable</td>\n",
       "      <td>3.650563</td>\n",
       "    </tr>\n",
       "    <tr>\n",
       "      <th>14</th>\n",
       "      <td>ab_inventory</td>\n",
       "      <td>3.574265</td>\n",
       "    </tr>\n",
       "    <tr>\n",
       "      <th>13</th>\n",
       "      <td>ab_mobile_current_assets</td>\n",
       "      <td>3.532582</td>\n",
       "    </tr>\n",
       "    <tr>\n",
       "      <th>31</th>\n",
       "      <td>ul_capital_sum</td>\n",
       "      <td>3.473172</td>\n",
       "    </tr>\n",
       "    <tr>\n",
       "      <th>8</th>\n",
       "      <td>ar_profit_before_tax</td>\n",
       "      <td>3.434119</td>\n",
       "    </tr>\n",
       "    <tr>\n",
       "      <th>18</th>\n",
       "      <td>ab_losses</td>\n",
       "      <td>3.392009</td>\n",
       "    </tr>\n",
       "    <tr>\n",
       "      <th>0</th>\n",
       "      <td>record_id</td>\n",
       "      <td>3.252588</td>\n",
       "    </tr>\n",
       "    <tr>\n",
       "      <th>6</th>\n",
       "      <td>ar_sale_profit</td>\n",
       "      <td>3.220329</td>\n",
       "    </tr>\n",
       "    <tr>\n",
       "      <th>2</th>\n",
       "      <td>ar_total_expenses</td>\n",
       "      <td>2.953253</td>\n",
       "    </tr>\n",
       "    <tr>\n",
       "      <th>11</th>\n",
       "      <td>ar_net_profit</td>\n",
       "      <td>2.870448</td>\n",
       "    </tr>\n",
       "    <tr>\n",
       "      <th>12</th>\n",
       "      <td>ab_immobilized_assets</td>\n",
       "      <td>2.865732</td>\n",
       "    </tr>\n",
       "    <tr>\n",
       "      <th>21</th>\n",
       "      <td>ab_long_term_liabilities</td>\n",
       "      <td>2.861828</td>\n",
       "    </tr>\n",
       "    <tr>\n",
       "      <th>29</th>\n",
       "      <td>cap_actual_age</td>\n",
       "      <td>2.728894</td>\n",
       "    </tr>\n",
       "    <tr>\n",
       "      <th>20</th>\n",
       "      <td>ab_borrowed_capital</td>\n",
       "      <td>2.637425</td>\n",
       "    </tr>\n",
       "    <tr>\n",
       "      <th>1</th>\n",
       "      <td>ar_revenue</td>\n",
       "      <td>2.626514</td>\n",
       "    </tr>\n",
       "    <tr>\n",
       "      <th>28</th>\n",
       "      <td>head_actual_age</td>\n",
       "      <td>2.503164</td>\n",
       "    </tr>\n",
       "    <tr>\n",
       "      <th>32</th>\n",
       "      <td>ul_founders_cnt</td>\n",
       "      <td>2.279417</td>\n",
       "    </tr>\n",
       "    <tr>\n",
       "      <th>3</th>\n",
       "      <td>ar_sale_cost</td>\n",
       "      <td>1.988750</td>\n",
       "    </tr>\n",
       "    <tr>\n",
       "      <th>10</th>\n",
       "      <td>ar_other_profit_and_losses</td>\n",
       "      <td>1.577603</td>\n",
       "    </tr>\n",
       "    <tr>\n",
       "      <th>27</th>\n",
       "      <td>adr_actual_age</td>\n",
       "      <td>1.565274</td>\n",
       "    </tr>\n",
       "    <tr>\n",
       "      <th>4</th>\n",
       "      <td>ar_selling_expenses</td>\n",
       "      <td>1.472064</td>\n",
       "    </tr>\n",
       "    <tr>\n",
       "      <th>5</th>\n",
       "      <td>ar_management_expenses</td>\n",
       "      <td>1.187434</td>\n",
       "    </tr>\n",
       "    <tr>\n",
       "      <th>30</th>\n",
       "      <td>ul_staff_range</td>\n",
       "      <td>0.904379</td>\n",
       "    </tr>\n",
       "    <tr>\n",
       "      <th>24</th>\n",
       "      <td>ab_other_borrowings</td>\n",
       "      <td>0.902683</td>\n",
       "    </tr>\n",
       "    <tr>\n",
       "      <th>16</th>\n",
       "      <td>ab_other_current_assets</td>\n",
       "      <td>0.732389</td>\n",
       "    </tr>\n",
       "    <tr>\n",
       "      <th>33</th>\n",
       "      <td>ul_branch_cnt</td>\n",
       "      <td>0.128564</td>\n",
       "    </tr>\n",
       "    <tr>\n",
       "      <th>34</th>\n",
       "      <td>ul_strategic_flg</td>\n",
       "      <td>0.000000</td>\n",
       "    </tr>\n",
       "    <tr>\n",
       "      <th>35</th>\n",
       "      <td>ul_systematizing_flg</td>\n",
       "      <td>0.000000</td>\n",
       "    </tr>\n",
       "  </tbody>\n",
       "</table>\n",
       "</div>"
      ],
      "text/plain": [
       "                         feature  importance_val\n",
       "19                ab_own_capital        6.068319\n",
       "17        ab_cash_and_securities        5.924302\n",
       "25                       bus_age        5.013708\n",
       "22       ab_short_term_borrowing        4.888254\n",
       "26                      ogrn_age        4.299133\n",
       "23           ab_accounts_payable        4.013877\n",
       "7   ar_balance_of_rvns_and_expns        3.744280\n",
       "9                       ar_taxes        3.732684\n",
       "15        ab_accounts_receivable        3.650563\n",
       "14                  ab_inventory        3.574265\n",
       "13      ab_mobile_current_assets        3.532582\n",
       "31                ul_capital_sum        3.473172\n",
       "8           ar_profit_before_tax        3.434119\n",
       "18                     ab_losses        3.392009\n",
       "0                      record_id        3.252588\n",
       "6                 ar_sale_profit        3.220329\n",
       "2              ar_total_expenses        2.953253\n",
       "11                 ar_net_profit        2.870448\n",
       "12         ab_immobilized_assets        2.865732\n",
       "21      ab_long_term_liabilities        2.861828\n",
       "29                cap_actual_age        2.728894\n",
       "20           ab_borrowed_capital        2.637425\n",
       "1                     ar_revenue        2.626514\n",
       "28               head_actual_age        2.503164\n",
       "32               ul_founders_cnt        2.279417\n",
       "3                   ar_sale_cost        1.988750\n",
       "10    ar_other_profit_and_losses        1.577603\n",
       "27                adr_actual_age        1.565274\n",
       "4            ar_selling_expenses        1.472064\n",
       "5         ar_management_expenses        1.187434\n",
       "30                ul_staff_range        0.904379\n",
       "24           ab_other_borrowings        0.902683\n",
       "16       ab_other_current_assets        0.732389\n",
       "33                 ul_branch_cnt        0.128564\n",
       "34              ul_strategic_flg        0.000000\n",
       "35          ul_systematizing_flg        0.000000"
      ]
     },
     "execution_count": 35,
     "metadata": {},
     "output_type": "execute_result"
    }
   ],
   "source": [
    "features_imp_df = pd.DataFrame()\n",
    "features_imp_df['feature'] = X_train_base.columns\n",
    "features_imp_df['importance_val'] = baseline_model.feature_importances_\n",
    "features_imp_df.sort_values('importance_val',ascending=False)"
   ]
  },
  {
   "cell_type": "markdown",
   "id": "d7d9033f",
   "metadata": {},
   "source": [
    "#### Как видим, бейзлайн модель демонстрирует качество немногим (я бы сказал \"совсем не\") лучшее чем константное предсказание \"0\" класса"
   ]
  },
  {
   "cell_type": "code",
   "execution_count": 226,
   "id": "75bb3139",
   "metadata": {},
   "outputs": [
    {
     "name": "stdout",
     "output_type": "stream",
     "text": [
      "В тесте класса 0: 1650 класса 1: 75\n",
      "Соотношение: 4.35 % класса 1\n"
     ]
    }
   ],
   "source": [
    "print('В тесте класса 0:',y_test.shape[0] - y_test.sum(), 'класса 1:', y_test.sum())\n",
    "print('Соотношение:', round(y_test.sum() / y_test.shape[0] * 100,2), '% класса 1' )"
   ]
  },
  {
   "cell_type": "code",
   "execution_count": 46,
   "id": "f01d52f2",
   "metadata": {},
   "outputs": [
    {
     "data": {
      "text/plain": [
       "0.02631578947368421"
      ]
     },
     "execution_count": 46,
     "metadata": {},
     "output_type": "execute_result"
    }
   ],
   "source": [
    "f1_score(y_test, baseline_model.predict(X_test))"
   ]
  },
  {
   "cell_type": "code",
   "execution_count": 47,
   "id": "f0c5ca9c",
   "metadata": {},
   "outputs": [
    {
     "data": {
      "text/plain": [
       "1.0"
      ]
     },
     "execution_count": 47,
     "metadata": {},
     "output_type": "execute_result"
    }
   ],
   "source": [
    "precision_score(y_test, baseline_model.predict(X_test)) \n",
    "# среди классифиципованных как \"объект 1 класса\" - 100% действительно объекты 1 класса"
   ]
  },
  {
   "cell_type": "code",
   "execution_count": 48,
   "id": "766374ac",
   "metadata": {},
   "outputs": [
    {
     "data": {
      "text/plain": [
       "0.013333333333333334"
      ]
     },
     "execution_count": 48,
     "metadata": {},
     "output_type": "execute_result"
    }
   ],
   "source": [
    "recall_score(y_test, baseline_model.predict(X_test))\n",
    "# Однако, среди всех объектов 1 класса - мы \"нашли\"  всего 1%"
   ]
  },
  {
   "cell_type": "markdown",
   "id": "5ee582ab",
   "metadata": {},
   "source": [
    "#### В данном случае, нам гораздо важнее правильно находить объекты первого класса, тк лучше ошибиться в классе 0, чем пропустить компанию-банкрота"
   ]
  },
  {
   "cell_type": "code",
   "execution_count": 49,
   "id": "5c0a6fef",
   "metadata": {},
   "outputs": [
    {
     "data": {
      "text/plain": [
       "0.9571014492753623"
      ]
     },
     "execution_count": 49,
     "metadata": {},
     "output_type": "execute_result"
    }
   ],
   "source": [
    "accuracy_score(y_test, baseline_model.predict(X_test))"
   ]
  },
  {
   "cell_type": "code",
   "execution_count": 50,
   "id": "2119f13c",
   "metadata": {},
   "outputs": [
    {
     "data": {
      "text/plain": [
       "0.9565217391304348"
      ]
     },
     "execution_count": 50,
     "metadata": {},
     "output_type": "execute_result"
    }
   ],
   "source": [
    "(y_test == 0).sum() / y_test.shape[0]"
   ]
  },
  {
   "cell_type": "code",
   "execution_count": 52,
   "id": "57ace301",
   "metadata": {
    "scrolled": true
   },
   "outputs": [
    {
     "data": {
      "image/png": "[encoded data removed]",
      "text/plain": [
       "<Figure size 576x288 with 1 Axes>"
      ]
     },
     "metadata": {
      "needs_background": "light"
     },
     "output_type": "display_data"
    }
   ],
   "source": [
    "baseline_curve = ROC_Curve(X_test, y_test, [], baseline_model)"
   ]
  },
  {
   "cell_type": "code",
   "execution_count": 53,
   "id": "d2b968c0",
   "metadata": {},
   "outputs": [
    {
     "data": {
      "image/png": "[encoded data removed]",
      "text/plain": [
       "<Figure size 576x288 with 1 Axes>"
      ]
     },
     "metadata": {
      "needs_background": "light"
     },
     "output_type": "display_data"
    }
   ],
   "source": [
    "FPR_FNR_Curve(baseline_curve)"
   ]
  },
  {
   "cell_type": "markdown",
   "id": "86302289",
   "metadata": {},
   "source": [
    "#### Посмотрим на границу принятия решений при желаемом значении FNR=0.05, например\n",
    "\n",
    "#### Как видим, при  желаемом FNR = 0.05 (ошибаемся лишь на 5% объектов 1 класса) имеем FPR = 0.6 (то есть при этом будем ошибаться в 60% объектов класса 0, что интуитивно - очень много)"
   ]
  },
  {
   "cell_type": "code",
   "execution_count": 85,
   "id": "818c0698",
   "metadata": {},
   "outputs": [
    {
     "name": "stdout",
     "output_type": "stream",
     "text": [
      "FNR threshold 0.02133910224834039\n",
      "FPR threshold 0.021811346189773935\n"
     ]
    }
   ],
   "source": [
    "GetThresholds(FPR = 0.6, FNR = 0.05, model=baseline_model, X=X_validation_base, y=y_validation_base, cat_features=[])"
   ]
  },
  {
   "cell_type": "markdown",
   "id": "94652b8e",
   "metadata": {},
   "source": [
    "#### Предлагаю: Требуемое значение Recall выставить на уровне 0.95 (FNR при этом будет равен 0.05), а значение Precission (FPR) при этом будем оптимизировать"
   ]
  },
  {
   "cell_type": "markdown",
   "id": "c2f8f56f",
   "metadata": {},
   "source": [
    "# Data post-preparation"
   ]
  },
  {
   "cell_type": "code",
   "execution_count": 86,
   "id": "b37fc3da",
   "metadata": {},
   "outputs": [],
   "source": [
    "def GetDistrib(df, column):\n",
    "    df.groupby(column).agg({'record_id':'count'}).reset_index().plot(x = column, y = 'record_id')"
   ]
  },
  {
   "cell_type": "code",
   "execution_count": 87,
   "id": "2f5f9837",
   "metadata": {},
   "outputs": [],
   "source": [
    "new_train_df = train_df.copy()"
   ]
  },
  {
   "cell_type": "markdown",
   "id": "25200c56",
   "metadata": {},
   "source": [
    "#### Заменим занчения в поле ul_staff_range (Количество сторудников) следующим образом: '[1-100]' -> 1;         '(100-500]' -> 2;        '> 500'->3"
   ]
  },
  {
   "cell_type": "code",
   "execution_count": 88,
   "id": "97809b85",
   "metadata": {},
   "outputs": [],
   "source": [
    "dict_for_ul_staff_range = {'[1-100]':1, '(100-500]':2, '> 500':3}"
   ]
  },
  {
   "cell_type": "code",
   "execution_count": 89,
   "id": "50a608ae",
   "metadata": {},
   "outputs": [],
   "source": [
    "new_train_df['ul_staff_range'] = new_train_df['ul_staff_range'].map(dict_for_ul_staff_range)"
   ]
  },
  {
   "cell_type": "markdown",
   "id": "e4eca932",
   "metadata": {},
   "source": [
    "#### Отбросим константный признак (у которого 1 уникальное значение)"
   ]
  },
  {
   "cell_type": "code",
   "execution_count": 90,
   "id": "5d284a17",
   "metadata": {},
   "outputs": [],
   "source": [
    "new_train_df = new_train_df.drop('ul_systematizing_flg', axis = 1)"
   ]
  },
  {
   "cell_type": "markdown",
   "id": "cd58c8d2",
   "metadata": {},
   "source": [
    "#### В классах наблюдется сильный перекос. Предлагается использовать методы по увеличению числа примеров миноритарного класса (попробуем ADASYN), SMOTE тоже был протестирован, но лучший результат дал ADASYN"
   ]
  },
  {
   "cell_type": "code",
   "execution_count": 91,
   "id": "d4149033",
   "metadata": {},
   "outputs": [],
   "source": [
    "from imblearn.over_sampling import ADASYN"
   ]
  },
  {
   "cell_type": "code",
   "execution_count": 92,
   "id": "38761ea7",
   "metadata": {},
   "outputs": [],
   "source": [
    "ada = ADASYN(random_state=23)"
   ]
  },
  {
   "cell_type": "markdown",
   "id": "18af299f",
   "metadata": {},
   "source": [
    "#### ADASYN не дает использовать больше 15 признаков, поэтому тут я отбираю 15 наиболее полезных по baseline-модели"
   ]
  },
  {
   "cell_type": "code",
   "execution_count": 94,
   "id": "c4d7af72",
   "metadata": {},
   "outputs": [],
   "source": [
    "X_ada, y_ada = ada.fit_resample(new_train_df.dropna()[list(features_imp_df.sort_values('importance_val',ascending=False).head(15).feature)], new_train_df.dropna().default_12m)\n",
    "\n",
    "\n",
    "X_train_ada, X_validation_ada, y_train_ada, y_validation_ada =\\\n",
    "    train_test_split(X_ada, y_ada, train_size=0.8, random_state=23)"
   ]
  },
  {
   "cell_type": "markdown",
   "id": "21eca3c7",
   "metadata": {},
   "source": [
    "#### Также заполним пропуски средними внутриклассовыми значениями признаков, проведем однофакторный дисперсионный анализ и отберем наиболее информативные признаки"
   ]
  },
  {
   "cell_type": "code",
   "execution_count": 102,
   "id": "b8587b6e",
   "metadata": {},
   "outputs": [],
   "source": [
    "mean_train_df = new_train_df.copy()"
   ]
  },
  {
   "cell_type": "code",
   "execution_count": 103,
   "id": "cc01bdc3",
   "metadata": {},
   "outputs": [],
   "source": [
    "for column in mean_train_df.columns:\n",
    "    mean_train_df.loc[(mean_train_df.default_12m == 1) & (mean_train_df[column].isna()), column] = \\\n",
    "    mean_train_df[mean_train_df.default_12m == 1][column].mean()    \n",
    "    mean_train_df.loc[(mean_train_df.default_12m == 0) & (mean_train_df[column].isna()), column] = \\\n",
    "    mean_train_df[mean_train_df.default_12m == 0][column].mean()"
   ]
  },
  {
   "cell_type": "markdown",
   "id": "2db83096",
   "metadata": {},
   "source": [
    "#### Проведем однофакторный ANOVA"
   ]
  },
  {
   "cell_type": "code",
   "execution_count": 126,
   "id": "62c57c83",
   "metadata": {},
   "outputs": [],
   "source": [
    "pvalues = []\n",
    "for column in mean_train_df.columns:\n",
    "    pvalues.append(kruskal(list(mean_train_df[mean_train_df.default_12m == 0][column]),\\\n",
    "                           list(mean_train_df[mean_train_df.default_12m == 1][column]))[1])"
   ]
  },
  {
   "cell_type": "code",
   "execution_count": 131,
   "id": "593a5a69",
   "metadata": {},
   "outputs": [],
   "source": [
    "kruskal_res = pd.DataFrame()\n",
    "kruskal_res['column'] = mean_train_df.columns\n",
    "kruskal_res['pvalue'] = pvalues"
   ]
  },
  {
   "cell_type": "code",
   "execution_count": 138,
   "id": "8ac4c9f0",
   "metadata": {},
   "outputs": [
    {
     "data": {
      "text/html": [
       "<div>\n",
       "<style scoped>\n",
       "    .dataframe tbody tr th:only-of-type {\n",
       "        vertical-align: middle;\n",
       "    }\n",
       "\n",
       "    .dataframe tbody tr th {\n",
       "        vertical-align: top;\n",
       "    }\n",
       "\n",
       "    .dataframe thead th {\n",
       "        text-align: right;\n",
       "    }\n",
       "</style>\n",
       "<table border=\"1\" class=\"dataframe\">\n",
       "  <thead>\n",
       "    <tr style=\"text-align: right;\">\n",
       "      <th></th>\n",
       "      <th>column</th>\n",
       "      <th>pvalue</th>\n",
       "    </tr>\n",
       "  </thead>\n",
       "  <tbody>\n",
       "    <tr>\n",
       "      <th>35</th>\n",
       "      <td>default_12m</td>\n",
       "      <td>0.000000e+00</td>\n",
       "    </tr>\n",
       "    <tr>\n",
       "      <th>8</th>\n",
       "      <td>ar_profit_before_tax</td>\n",
       "      <td>5.665297e-307</td>\n",
       "    </tr>\n",
       "    <tr>\n",
       "      <th>11</th>\n",
       "      <td>ar_net_profit</td>\n",
       "      <td>6.456726e-290</td>\n",
       "    </tr>\n",
       "    <tr>\n",
       "      <th>18</th>\n",
       "      <td>ab_losses</td>\n",
       "      <td>1.891910e-289</td>\n",
       "    </tr>\n",
       "    <tr>\n",
       "      <th>19</th>\n",
       "      <td>ab_own_capital</td>\n",
       "      <td>5.314646e-285</td>\n",
       "    </tr>\n",
       "  </tbody>\n",
       "</table>\n",
       "</div>"
      ],
      "text/plain": [
       "                  column         pvalue\n",
       "35           default_12m   0.000000e+00\n",
       "8   ar_profit_before_tax  5.665297e-307\n",
       "11         ar_net_profit  6.456726e-290\n",
       "18             ab_losses  1.891910e-289\n",
       "19        ab_own_capital  5.314646e-285"
      ]
     },
     "execution_count": 138,
     "metadata": {},
     "output_type": "execute_result"
    }
   ],
   "source": [
    "kruskal_res.sort_values('pvalue').head()"
   ]
  },
  {
   "cell_type": "code",
   "execution_count": 143,
   "id": "c9a274ee",
   "metadata": {},
   "outputs": [],
   "source": [
    "kruskal_columns = list(kruskal_res.sort_values('pvalue').column[:16])"
   ]
  },
  {
   "cell_type": "code",
   "execution_count": 145,
   "id": "614d4011",
   "metadata": {},
   "outputs": [],
   "source": [
    "kruskal_and_mean_train_df = mean_train_df.copy()\n",
    "kruskal_and_mean_train_df = kruskal_and_mean_train_df[kruskal_columns]"
   ]
  },
  {
   "cell_type": "code",
   "execution_count": 146,
   "id": "9b29233e",
   "metadata": {},
   "outputs": [
    {
     "data": {
      "text/html": [
       "<div>\n",
       "<style scoped>\n",
       "    .dataframe tbody tr th:only-of-type {\n",
       "        vertical-align: middle;\n",
       "    }\n",
       "\n",
       "    .dataframe tbody tr th {\n",
       "        vertical-align: top;\n",
       "    }\n",
       "\n",
       "    .dataframe thead th {\n",
       "        text-align: right;\n",
       "    }\n",
       "</style>\n",
       "<table border=\"1\" class=\"dataframe\">\n",
       "  <thead>\n",
       "    <tr style=\"text-align: right;\">\n",
       "      <th></th>\n",
       "      <th>default_12m</th>\n",
       "      <th>ar_profit_before_tax</th>\n",
       "      <th>ar_net_profit</th>\n",
       "      <th>ab_losses</th>\n",
       "      <th>ab_own_capital</th>\n",
       "      <th>ar_sale_profit</th>\n",
       "      <th>ar_taxes</th>\n",
       "      <th>ar_revenue</th>\n",
       "      <th>ar_sale_cost</th>\n",
       "      <th>ar_total_expenses</th>\n",
       "      <th>ab_mobile_current_assets</th>\n",
       "      <th>ab_cash_and_securities</th>\n",
       "      <th>ab_inventory</th>\n",
       "      <th>ab_borrowed_capital</th>\n",
       "      <th>ab_accounts_receivable</th>\n",
       "      <th>ab_accounts_payable</th>\n",
       "    </tr>\n",
       "  </thead>\n",
       "  <tbody>\n",
       "    <tr>\n",
       "      <th>0</th>\n",
       "      <td>0</td>\n",
       "      <td>2.044000e+06</td>\n",
       "      <td>1.198000e+06</td>\n",
       "      <td>1.198000e+06</td>\n",
       "      <td>6.630000e+05</td>\n",
       "      <td>4.652000e+06</td>\n",
       "      <td>846000.000000</td>\n",
       "      <td>5.299600e+07</td>\n",
       "      <td>4.834400e+07</td>\n",
       "      <td>4.834400e+07</td>\n",
       "      <td>7.240000e+06</td>\n",
       "      <td>2.550000e+05</td>\n",
       "      <td>4.988000e+06</td>\n",
       "      <td>1.587200e+07</td>\n",
       "      <td>2.252000e+06</td>\n",
       "      <td>4.523000e+06</td>\n",
       "    </tr>\n",
       "    <tr>\n",
       "      <th>1</th>\n",
       "      <td>0</td>\n",
       "      <td>4.252215e+06</td>\n",
       "      <td>3.858921e+06</td>\n",
       "      <td>3.417727e+06</td>\n",
       "      <td>1.973790e+07</td>\n",
       "      <td>4.901846e+06</td>\n",
       "      <td>433912.883068</td>\n",
       "      <td>8.319980e+07</td>\n",
       "      <td>7.464469e+07</td>\n",
       "      <td>7.829795e+07</td>\n",
       "      <td>3.103936e+07</td>\n",
       "      <td>1.652003e+06</td>\n",
       "      <td>1.661353e+07</td>\n",
       "      <td>2.451933e+07</td>\n",
       "      <td>1.359942e+07</td>\n",
       "      <td>1.530062e+07</td>\n",
       "    </tr>\n",
       "    <tr>\n",
       "      <th>2</th>\n",
       "      <td>0</td>\n",
       "      <td>4.252215e+06</td>\n",
       "      <td>3.858921e+06</td>\n",
       "      <td>3.417727e+06</td>\n",
       "      <td>1.973790e+07</td>\n",
       "      <td>4.901846e+06</td>\n",
       "      <td>433912.883068</td>\n",
       "      <td>8.319980e+07</td>\n",
       "      <td>7.464469e+07</td>\n",
       "      <td>7.829795e+07</td>\n",
       "      <td>3.103936e+07</td>\n",
       "      <td>1.652003e+06</td>\n",
       "      <td>1.661353e+07</td>\n",
       "      <td>2.451933e+07</td>\n",
       "      <td>1.359942e+07</td>\n",
       "      <td>1.530062e+07</td>\n",
       "    </tr>\n",
       "    <tr>\n",
       "      <th>3</th>\n",
       "      <td>0</td>\n",
       "      <td>2.221000e+06</td>\n",
       "      <td>1.919000e+06</td>\n",
       "      <td>1.919000e+06</td>\n",
       "      <td>2.219000e+06</td>\n",
       "      <td>2.481000e+06</td>\n",
       "      <td>302000.000000</td>\n",
       "      <td>3.204900e+07</td>\n",
       "      <td>2.956800e+07</td>\n",
       "      <td>2.956800e+07</td>\n",
       "      <td>4.245000e+06</td>\n",
       "      <td>2.500000e+04</td>\n",
       "      <td>4.082000e+06</td>\n",
       "      <td>3.652000e+06</td>\n",
       "      <td>1.630000e+05</td>\n",
       "      <td>0.000000e+00</td>\n",
       "    </tr>\n",
       "    <tr>\n",
       "      <th>4</th>\n",
       "      <td>0</td>\n",
       "      <td>1.249000e+06</td>\n",
       "      <td>7.110000e+05</td>\n",
       "      <td>7.110000e+05</td>\n",
       "      <td>1.243900e+07</td>\n",
       "      <td>1.523000e+06</td>\n",
       "      <td>538000.000000</td>\n",
       "      <td>1.645800e+07</td>\n",
       "      <td>1.493500e+07</td>\n",
       "      <td>1.493500e+07</td>\n",
       "      <td>8.950000e+06</td>\n",
       "      <td>4.920000e+05</td>\n",
       "      <td>8.606000e+06</td>\n",
       "      <td>1.279000e+06</td>\n",
       "      <td>3.440000e+05</td>\n",
       "      <td>1.279000e+06</td>\n",
       "    </tr>\n",
       "  </tbody>\n",
       "</table>\n",
       "</div>"
      ],
      "text/plain": [
       "   default_12m  ar_profit_before_tax  ar_net_profit     ab_losses  \\\n",
       "0            0          2.044000e+06   1.198000e+06  1.198000e+06   \n",
       "1            0          4.252215e+06   3.858921e+06  3.417727e+06   \n",
       "2            0          4.252215e+06   3.858921e+06  3.417727e+06   \n",
       "3            0          2.221000e+06   1.919000e+06  1.919000e+06   \n",
       "4            0          1.249000e+06   7.110000e+05  7.110000e+05   \n",
       "\n",
       "   ab_own_capital  ar_sale_profit       ar_taxes    ar_revenue  ar_sale_cost  \\\n",
       "0    6.630000e+05    4.652000e+06  846000.000000  5.299600e+07  4.834400e+07   \n",
       "1    1.973790e+07    4.901846e+06  433912.883068  8.319980e+07  7.464469e+07   \n",
       "2    1.973790e+07    4.901846e+06  433912.883068  8.319980e+07  7.464469e+07   \n",
       "3    2.219000e+06    2.481000e+06  302000.000000  3.204900e+07  2.956800e+07   \n",
       "4    1.243900e+07    1.523000e+06  538000.000000  1.645800e+07  1.493500e+07   \n",
       "\n",
       "   ar_total_expenses  ab_mobile_current_assets  ab_cash_and_securities  \\\n",
       "0       4.834400e+07              7.240000e+06            2.550000e+05   \n",
       "1       7.829795e+07              3.103936e+07            1.652003e+06   \n",
       "2       7.829795e+07              3.103936e+07            1.652003e+06   \n",
       "3       2.956800e+07              4.245000e+06            2.500000e+04   \n",
       "4       1.493500e+07              8.950000e+06            4.920000e+05   \n",
       "\n",
       "   ab_inventory  ab_borrowed_capital  ab_accounts_receivable  \\\n",
       "0  4.988000e+06         1.587200e+07            2.252000e+06   \n",
       "1  1.661353e+07         2.451933e+07            1.359942e+07   \n",
       "2  1.661353e+07         2.451933e+07            1.359942e+07   \n",
       "3  4.082000e+06         3.652000e+06            1.630000e+05   \n",
       "4  8.606000e+06         1.279000e+06            3.440000e+05   \n",
       "\n",
       "   ab_accounts_payable  \n",
       "0         4.523000e+06  \n",
       "1         1.530062e+07  \n",
       "2         1.530062e+07  \n",
       "3         0.000000e+00  \n",
       "4         1.279000e+06  "
      ]
     },
     "execution_count": 146,
     "metadata": {},
     "output_type": "execute_result"
    }
   ],
   "source": [
    "kruskal_and_mean_train_df.head()"
   ]
  },
  {
   "cell_type": "markdown",
   "id": "9b686e1d",
   "metadata": {},
   "source": [
    "#### Накатим ADASYN на заполненный средними значениями датасет (ограничимся 15-ю признаками)"
   ]
  },
  {
   "cell_type": "code",
   "execution_count": 147,
   "id": "05ca1679",
   "metadata": {},
   "outputs": [],
   "source": [
    "X_ada_means, y_ada_means = ada.fit_resample(kruskal_and_mean_train_df.drop('default_12m', axis = 1), \\\n",
    "                                            kruskal_and_mean_train_df.default_12m)\n",
    "\n",
    "X_train_ada_means, X_validation_ada_means, y_train_ada_means, y_validation_ada_means =\\\n",
    "    train_test_split(X_ada_means, y_ada_means, train_size=0.8, random_state=23)"
   ]
  },
  {
   "cell_type": "markdown",
   "id": "8c2da2a7",
   "metadata": {},
   "source": [
    "#### Наконец сделаем еще один \"маленький\" датасет, в котором будут все объекты 1 класса и некоторые (случайно выбранные) объекты 0 класса. Соотношение классов 1:1"
   ]
  },
  {
   "cell_type": "code",
   "execution_count": 176,
   "id": "ec037429",
   "metadata": {},
   "outputs": [],
   "source": [
    "small_df = new_train_df.copy()"
   ]
  },
  {
   "cell_type": "code",
   "execution_count": 177,
   "id": "1c6e347a",
   "metadata": {},
   "outputs": [],
   "source": [
    "small_df_ones = small_df[small_df.default_12m == 1]\n",
    "small_df_zeros = small_df[small_df.default_12m == 0].dropna().head(small_df_ones.shape[0])\n",
    "small_df = pd.concat([small_df_ones, small_df_zeros])"
   ]
  },
  {
   "cell_type": "markdown",
   "id": "49c11f3b",
   "metadata": {},
   "source": [
    "#### Заполняем пропуски только в 1 классе, тк объектов 0 класса без пропусков - итак в избытке"
   ]
  },
  {
   "cell_type": "code",
   "execution_count": 178,
   "id": "560cbc21",
   "metadata": {},
   "outputs": [],
   "source": [
    "for column in small_df.columns:\n",
    "    small_df.loc[(small_df.default_12m == 1) & (small_df[column].isna()), column] = \\\n",
    "    small_df[small_df.default_12m == 1][column].mean()    "
   ]
  },
  {
   "cell_type": "code",
   "execution_count": 180,
   "id": "5025081b",
   "metadata": {},
   "outputs": [
    {
     "data": {
      "text/html": [
       "<div>\n",
       "<style scoped>\n",
       "    .dataframe tbody tr th:only-of-type {\n",
       "        vertical-align: middle;\n",
       "    }\n",
       "\n",
       "    .dataframe tbody tr th {\n",
       "        vertical-align: top;\n",
       "    }\n",
       "\n",
       "    .dataframe thead th {\n",
       "        text-align: right;\n",
       "    }\n",
       "</style>\n",
       "<table border=\"1\" class=\"dataframe\">\n",
       "  <thead>\n",
       "    <tr style=\"text-align: right;\">\n",
       "      <th></th>\n",
       "      <th>record_id</th>\n",
       "      <th>ar_revenue</th>\n",
       "      <th>ar_total_expenses</th>\n",
       "      <th>ar_sale_cost</th>\n",
       "      <th>ar_selling_expenses</th>\n",
       "      <th>ar_management_expenses</th>\n",
       "      <th>ar_sale_profit</th>\n",
       "      <th>ar_balance_of_rvns_and_expns</th>\n",
       "      <th>ar_profit_before_tax</th>\n",
       "      <th>ar_taxes</th>\n",
       "      <th>...</th>\n",
       "      <th>ogrn_age</th>\n",
       "      <th>adr_actual_age</th>\n",
       "      <th>head_actual_age</th>\n",
       "      <th>cap_actual_age</th>\n",
       "      <th>ul_staff_range</th>\n",
       "      <th>ul_capital_sum</th>\n",
       "      <th>ul_founders_cnt</th>\n",
       "      <th>ul_branch_cnt</th>\n",
       "      <th>ul_strategic_flg</th>\n",
       "      <th>default_12m</th>\n",
       "    </tr>\n",
       "  </thead>\n",
       "  <tbody>\n",
       "    <tr>\n",
       "      <th>25</th>\n",
       "      <td>188.0</td>\n",
       "      <td>4.475500e+07</td>\n",
       "      <td>4.266500e+07</td>\n",
       "      <td>4.266500e+07</td>\n",
       "      <td>0.000000e+00</td>\n",
       "      <td>0.000000</td>\n",
       "      <td>2.090000e+06</td>\n",
       "      <td>-405000.000000</td>\n",
       "      <td>1.685000e+06</td>\n",
       "      <td>2000.000000</td>\n",
       "      <td>...</td>\n",
       "      <td>142.0</td>\n",
       "      <td>1.0</td>\n",
       "      <td>1.0</td>\n",
       "      <td>1.0</td>\n",
       "      <td>1.0</td>\n",
       "      <td>10000.0</td>\n",
       "      <td>1.0</td>\n",
       "      <td>0.0</td>\n",
       "      <td>0</td>\n",
       "      <td>1</td>\n",
       "    </tr>\n",
       "    <tr>\n",
       "      <th>30</th>\n",
       "      <td>213.0</td>\n",
       "      <td>2.317900e+07</td>\n",
       "      <td>2.206400e+07</td>\n",
       "      <td>2.206400e+07</td>\n",
       "      <td>0.000000e+00</td>\n",
       "      <td>0.000000</td>\n",
       "      <td>1.115000e+06</td>\n",
       "      <td>115000.000000</td>\n",
       "      <td>1.230000e+06</td>\n",
       "      <td>265000.000000</td>\n",
       "      <td>...</td>\n",
       "      <td>36.0</td>\n",
       "      <td>23.0</td>\n",
       "      <td>23.0</td>\n",
       "      <td>23.0</td>\n",
       "      <td>1.0</td>\n",
       "      <td>10000.0</td>\n",
       "      <td>1.0</td>\n",
       "      <td>0.0</td>\n",
       "      <td>0</td>\n",
       "      <td>1</td>\n",
       "    </tr>\n",
       "    <tr>\n",
       "      <th>77</th>\n",
       "      <td>578.0</td>\n",
       "      <td>4.718194e+07</td>\n",
       "      <td>4.550537e+07</td>\n",
       "      <td>4.340810e+07</td>\n",
       "      <td>1.353368e+06</td>\n",
       "      <td>743900.753769</td>\n",
       "      <td>1.676565e+06</td>\n",
       "      <td>-494600.502513</td>\n",
       "      <td>1.181965e+06</td>\n",
       "      <td>106557.788945</td>\n",
       "      <td>...</td>\n",
       "      <td>10.0</td>\n",
       "      <td>9.0</td>\n",
       "      <td>9.0</td>\n",
       "      <td>9.0</td>\n",
       "      <td>1.0</td>\n",
       "      <td>10000.0</td>\n",
       "      <td>1.0</td>\n",
       "      <td>0.0</td>\n",
       "      <td>0</td>\n",
       "      <td>1</td>\n",
       "    </tr>\n",
       "    <tr>\n",
       "      <th>97</th>\n",
       "      <td>743.0</td>\n",
       "      <td>4.718194e+07</td>\n",
       "      <td>4.550537e+07</td>\n",
       "      <td>4.340810e+07</td>\n",
       "      <td>1.353368e+06</td>\n",
       "      <td>743900.753769</td>\n",
       "      <td>1.676565e+06</td>\n",
       "      <td>-494600.502513</td>\n",
       "      <td>1.181965e+06</td>\n",
       "      <td>106557.788945</td>\n",
       "      <td>...</td>\n",
       "      <td>37.0</td>\n",
       "      <td>6.0</td>\n",
       "      <td>6.0</td>\n",
       "      <td>6.0</td>\n",
       "      <td>1.0</td>\n",
       "      <td>10000.0</td>\n",
       "      <td>1.0</td>\n",
       "      <td>0.0</td>\n",
       "      <td>0</td>\n",
       "      <td>1</td>\n",
       "    </tr>\n",
       "    <tr>\n",
       "      <th>111</th>\n",
       "      <td>815.0</td>\n",
       "      <td>7.190000e+06</td>\n",
       "      <td>6.857000e+06</td>\n",
       "      <td>6.857000e+06</td>\n",
       "      <td>0.000000e+00</td>\n",
       "      <td>0.000000</td>\n",
       "      <td>3.330000e+05</td>\n",
       "      <td>0.000000</td>\n",
       "      <td>3.330000e+05</td>\n",
       "      <td>0.000000</td>\n",
       "      <td>...</td>\n",
       "      <td>39.0</td>\n",
       "      <td>2.0</td>\n",
       "      <td>2.0</td>\n",
       "      <td>2.0</td>\n",
       "      <td>1.0</td>\n",
       "      <td>11000.0</td>\n",
       "      <td>1.0</td>\n",
       "      <td>0.0</td>\n",
       "      <td>0</td>\n",
       "      <td>1</td>\n",
       "    </tr>\n",
       "  </tbody>\n",
       "</table>\n",
       "<p>5 rows × 36 columns</p>\n",
       "</div>"
      ],
      "text/plain": [
       "     record_id    ar_revenue  ar_total_expenses  ar_sale_cost  \\\n",
       "25       188.0  4.475500e+07       4.266500e+07  4.266500e+07   \n",
       "30       213.0  2.317900e+07       2.206400e+07  2.206400e+07   \n",
       "77       578.0  4.718194e+07       4.550537e+07  4.340810e+07   \n",
       "97       743.0  4.718194e+07       4.550537e+07  4.340810e+07   \n",
       "111      815.0  7.190000e+06       6.857000e+06  6.857000e+06   \n",
       "\n",
       "     ar_selling_expenses  ar_management_expenses  ar_sale_profit  \\\n",
       "25          0.000000e+00                0.000000    2.090000e+06   \n",
       "30          0.000000e+00                0.000000    1.115000e+06   \n",
       "77          1.353368e+06           743900.753769    1.676565e+06   \n",
       "97          1.353368e+06           743900.753769    1.676565e+06   \n",
       "111         0.000000e+00                0.000000    3.330000e+05   \n",
       "\n",
       "     ar_balance_of_rvns_and_expns  ar_profit_before_tax       ar_taxes  ...  \\\n",
       "25                 -405000.000000          1.685000e+06    2000.000000  ...   \n",
       "30                  115000.000000          1.230000e+06  265000.000000  ...   \n",
       "77                 -494600.502513          1.181965e+06  106557.788945  ...   \n",
       "97                 -494600.502513          1.181965e+06  106557.788945  ...   \n",
       "111                      0.000000          3.330000e+05       0.000000  ...   \n",
       "\n",
       "     ogrn_age  adr_actual_age  head_actual_age  cap_actual_age  \\\n",
       "25      142.0             1.0              1.0             1.0   \n",
       "30       36.0            23.0             23.0            23.0   \n",
       "77       10.0             9.0              9.0             9.0   \n",
       "97       37.0             6.0              6.0             6.0   \n",
       "111      39.0             2.0              2.0             2.0   \n",
       "\n",
       "     ul_staff_range  ul_capital_sum  ul_founders_cnt  ul_branch_cnt  \\\n",
       "25              1.0         10000.0              1.0            0.0   \n",
       "30              1.0         10000.0              1.0            0.0   \n",
       "77              1.0         10000.0              1.0            0.0   \n",
       "97              1.0         10000.0              1.0            0.0   \n",
       "111             1.0         11000.0              1.0            0.0   \n",
       "\n",
       "     ul_strategic_flg  default_12m  \n",
       "25                  0            1  \n",
       "30                  0            1  \n",
       "77                  0            1  \n",
       "97                  0            1  \n",
       "111                 0            1  \n",
       "\n",
       "[5 rows x 36 columns]"
      ]
     },
     "execution_count": 180,
     "metadata": {},
     "output_type": "execute_result"
    }
   ],
   "source": [
    "small_df.head()"
   ]
  },
  {
   "cell_type": "code",
   "execution_count": 181,
   "id": "f43ca505",
   "metadata": {},
   "outputs": [
    {
     "data": {
      "text/plain": [
       "(4182, 36)"
      ]
     },
     "execution_count": 181,
     "metadata": {},
     "output_type": "execute_result"
    }
   ],
   "source": [
    "small_df.shape"
   ]
  },
  {
   "cell_type": "markdown",
   "id": "1714fa38",
   "metadata": {},
   "source": [
    "# Model Training"
   ]
  },
  {
   "cell_type": "markdown",
   "id": "4a3cecb5",
   "metadata": {},
   "source": [
    "#### Итак имеем 6 наборов данных, это:\n",
    "#### 1. \"Практически\" данные (new_train_df)\n",
    "#### 2. Данные new_train_df с использованием ADASYN-алгоритма восполнения минотирующего класса (15 признаков) (X_ada, y_ada)\n",
    "#### 3. Данные с заполненными средними занчениями пропусками (mean_train_df)\n",
    "#### 4. Данные с заполненными средними занчениями пропусками (15 признаков из ANOVA) (kruskal_and_mean_train_df)\n",
    "#### 5. Данные с заполненными средними занчениями пропусками (15 признаков из ANOVA) + ADASYN (X_ada_means, y_ada_means)\n",
    "#### 6. Данные с заполненными средними занчениями пропусками (только 1 класс) + без дисбаланса классов (small_df)"
   ]
  },
  {
   "cell_type": "code",
   "execution_count": null,
   "id": "331e4c8c",
   "metadata": {},
   "outputs": [],
   "source": []
  },
  {
   "cell_type": "code",
   "execution_count": 294,
   "id": "54b2a9ba",
   "metadata": {},
   "outputs": [],
   "source": [
    "from catboost import cv\n",
    "\n",
    "# params = {}\n",
    "# params['loss_function'] = 'Logloss'\n",
    "# params['iterations'] = 10000\n",
    "# params['custom_loss'] = ['AUC', 'Accuracy']\n",
    "# params['random_seed'] = 23\n",
    "# params['learning_rate'] = 0.01\n",
    "\n",
    "# cv_data = cv(\n",
    "#     params = params,\n",
    "#     pool = Pool(X_train_ada, label=y_train_ada),\n",
    "#     fold_count=5,\n",
    "#     shuffle=True,\n",
    "#     partition_random_seed=0,\n",
    "#     plot=True,\n",
    "#     stratified=True,\n",
    "#     verbose=False\n",
    "# )"
   ]
  },
  {
   "cell_type": "markdown",
   "id": "514202bd",
   "metadata": {},
   "source": [
    "#### Обучим на всех наборах 2 модели. model1 и model2"
   ]
  },
  {
   "cell_type": "markdown",
   "id": "3891ab25",
   "metadata": {},
   "source": [
    "### Fitting model1 (автоматические параметры)"
   ]
  },
  {
   "cell_type": "code",
   "execution_count": 189,
   "id": "38ce3d87",
   "metadata": {},
   "outputs": [],
   "source": [
    "model1 = CatBoostClassifier(custom_loss=['AUC', 'Accuracy'], eval_metric='AUC')"
   ]
  },
  {
   "cell_type": "code",
   "execution_count": 215,
   "id": "c215c877",
   "metadata": {},
   "outputs": [],
   "source": [
    "metric = ['DataFrame','Precision', 'Recall', 'AUC', 'F1', 'Accuracy']\n",
    "model1_metrics_df = pd.DataFrame(columns = metric)"
   ]
  },
  {
   "cell_type": "code",
   "execution_count": 216,
   "id": "377be1eb",
   "metadata": {},
   "outputs": [],
   "source": [
    "#### 1. \"Практически\" данные (new_train_df)\n",
    "X_train_new, X_validation_new, y_train_new, y_validation_new =\\\n",
    "    train_test_split(new_train_df.drop('default_12m', axis = 1), \\\n",
    "                     new_train_df.default_12m, train_size=0.8, random_state=23)\n",
    "\n",
    "\n",
    "model1.fit(X_train_new,\n",
    "    y_train_new,\n",
    "    cat_features=[30, 34], # признаки ul_staff_range и ul_strategic_flg\n",
    "    use_best_model=True,\n",
    "    eval_set=(X_validation_new, y_validation_new),\n",
    "    verbose=False,\n",
    "    plot=False,\n",
    "    early_stopping_rounds=1000)\n",
    "\n",
    "\n",
    "model1_metrics_df = model1_metrics_df.append({'DataFrame':'new_train_df',\\\n",
    "                          'Precision':precision_score(model1.predict(X_test), y_test),\\\n",
    "                          'Recall':recall_score(model1.predict(X_test), y_test),\\\n",
    "                          'AUC':roc_auc_score(model1.predict(X_test), y_test),\\\n",
    "                          'F1':f1_score(model1.predict(X_test), y_test),\\\n",
    "                          'Accuracy':accuracy_score(model1.predict(X_test), y_test)},\\\n",
    "                         ignore_index=True)"
   ]
  },
  {
   "cell_type": "code",
   "execution_count": 217,
   "id": "080bf3b3",
   "metadata": {},
   "outputs": [],
   "source": [
    "#### 2. Данные new_train_df с использованием ADASYN-алгоритма \n",
    "#### восполнения минотирующего класса (15 признаков) (X_ada, y_ada)\n",
    "\n",
    "model1.fit(X_train_ada,\n",
    "    y_train_ada,\n",
    "    use_best_model=True,\n",
    "    eval_set=(X_validation_ada, y_validation_ada),\n",
    "    verbose=False,\n",
    "    plot=False,\n",
    "    early_stopping_rounds=1000)\n",
    "\n",
    "\n",
    "model1_metrics_df = model1_metrics_df.append({'DataFrame':'new_df with ADASYN',\\\n",
    "                          'Precision':precision_score(model1.predict(X_test), y_test),\\\n",
    "                          'Recall':recall_score(model1.predict(X_test), y_test),\\\n",
    "                          'AUC':roc_auc_score(model1.predict(X_test), y_test),\\\n",
    "                          'F1':f1_score(model1.predict(X_test), y_test),\\\n",
    "                          'Accuracy':accuracy_score(model1.predict(X_test), y_test)},\\\n",
    "                         ignore_index=True)"
   ]
  },
  {
   "cell_type": "code",
   "execution_count": 219,
   "id": "b04ff223",
   "metadata": {},
   "outputs": [],
   "source": [
    "#### 3. Данные с заполненными средними занчениями пропусками (mean_train_df)\n",
    "\n",
    "X_train_means, X_validation_means, y_train_means, y_validation_means =\\\n",
    "    train_test_split(mean_train_df.drop('default_12m', axis = 1), \\\n",
    "                     mean_train_df.default_12m, train_size=0.8, random_state=23)\n",
    "\n",
    "model1.fit(X_train_means,\n",
    "    y_train_means,\n",
    "    use_best_model=True,\n",
    "    eval_set=(X_validation_means, y_validation_means),\n",
    "    verbose=False,\n",
    "    plot=False,\n",
    "    early_stopping_rounds=1000)\n",
    "\n",
    "\n",
    "model1_metrics_df = model1_metrics_df.append({'DataFrame':'mean_train_df',\\\n",
    "                          'Precision':precision_score(model1.predict(X_test), y_test),\\\n",
    "                          'Recall':recall_score(model1.predict(X_test), y_test),\\\n",
    "                          'AUC':roc_auc_score(model1.predict(X_test), y_test),\\\n",
    "                          'F1':f1_score(model1.predict(X_test), y_test),\\\n",
    "                          'Accuracy':accuracy_score(model1.predict(X_test), y_test)},\\\n",
    "                         ignore_index=True)"
   ]
  },
  {
   "cell_type": "code",
   "execution_count": 227,
   "id": "b1addcd4",
   "metadata": {},
   "outputs": [],
   "source": [
    "#### 4. Данные с заполненными средними занчениями пропусками (15 признаков из ANOVA) (kruskal_and_mean_train_df)\n",
    "\n",
    "X_train_kruskal_and_mean, X_validation_kruskal_and_mean, y_train_kruskal_and_mean, y_validation_kruskal_and_mean =\\\n",
    "    train_test_split(kruskal_and_mean_train_df.drop('default_12m', axis = 1), \\\n",
    "                     kruskal_and_mean_train_df.default_12m, train_size=0.8, random_state=23)\n",
    "\n",
    "model1.fit(X_train_kruskal_and_mean,\n",
    "    y_train_kruskal_and_mean,\n",
    "    use_best_model=True,\n",
    "    eval_set=(X_validation_kruskal_and_mean, y_validation_kruskal_and_mean),\n",
    "    verbose=False,\n",
    "    plot=False,\n",
    "    early_stopping_rounds=1000)\n",
    "\n",
    "\n",
    "model1_metrics_df = model1_metrics_df.append({'DataFrame':'kruskal_and_mean_train_df',\\\n",
    "                          'Precision':precision_score(model1.predict(X_test), y_test),\\\n",
    "                          'Recall':recall_score(model1.predict(X_test), y_test),\\\n",
    "                          'AUC':roc_auc_score(model1.predict(X_test), y_test),\\\n",
    "                          'F1':f1_score(model1.predict(X_test), y_test),\\\n",
    "                          'Accuracy':accuracy_score(model1.predict(X_test), y_test)},\\\n",
    "                         ignore_index=True)"
   ]
  },
  {
   "cell_type": "code",
   "execution_count": 231,
   "id": "b8378ec0",
   "metadata": {},
   "outputs": [],
   "source": [
    "#### 5. Данные с заполненными средними занчениями пропусками (15 признаков из ANOVA) +\n",
    "#### ADASYN (X_ada_means, y_ada_means)\n",
    "\n",
    "X_train_ada_means, X_validation_ada_means, y_train_ada_means, y_validation_ada_means =\\\n",
    "    train_test_split(X_ada_means, \\\n",
    "                     y_ada_means, train_size=0.8, random_state=23)\n",
    "\n",
    "model1.fit(X_train_ada_means,\n",
    "    y_train_ada_means,\n",
    "    use_best_model=True,\n",
    "    eval_set=(X_validation_ada_means, y_validation_ada_means),\n",
    "    verbose=False,\n",
    "    plot=False,\n",
    "    early_stopping_rounds=1000)\n",
    "\n",
    "\n",
    "model1_metrics_df = model1_metrics_df.append({'DataFrame':'ADASYN_and_mean_df',\\\n",
    "                          'Precision':precision_score(model1.predict(X_test), y_test),\\\n",
    "                          'Recall':recall_score(model1.predict(X_test), y_test),\\\n",
    "                          'AUC':roc_auc_score(model1.predict(X_test), y_test),\\\n",
    "                          'F1':f1_score(model1.predict(X_test), y_test),\\\n",
    "                          'Accuracy':accuracy_score(model1.predict(X_test), y_test)},\\\n",
    "                         ignore_index=True)"
   ]
  },
  {
   "cell_type": "code",
   "execution_count": 233,
   "id": "24ec86e6",
   "metadata": {},
   "outputs": [],
   "source": [
    "#### 6. Данные с заполненными средними занчениями пропусками (только 1 класс) + без дисбаланса классов (small_df)\n",
    "\n",
    "X_train_small, X_validation_small, y_train_small, y_validation_small =\\\n",
    "    train_test_split(small_df.drop('default_12m', axis = 1), \\\n",
    "                     small_df.default_12m, train_size=0.8, random_state=23)\n",
    "\n",
    "model1.fit(X_train_small,\n",
    "    y_train_small,\n",
    "    use_best_model=True,\n",
    "    eval_set=(X_validation_small, y_validation_small),\n",
    "    verbose=False,\n",
    "    plot=False,\n",
    "    early_stopping_rounds=1000)\n",
    "\n",
    "\n",
    "model1_metrics_df = model1_metrics_df.append({'DataFrame':'small_df_no_disbalance',\\\n",
    "                          'Precision':precision_score(model1.predict(X_test), y_test),\\\n",
    "                          'Recall':recall_score(model1.predict(X_test), y_test),\\\n",
    "                          'AUC':roc_auc_score(model1.predict(X_test), y_test),\\\n",
    "                          'F1':f1_score(model1.predict(X_test), y_test),\\\n",
    "                          'Accuracy':accuracy_score(model1.predict(X_test), y_test)},\\\n",
    "                         ignore_index=True)"
   ]
  },
  {
   "cell_type": "code",
   "execution_count": 234,
   "id": "218b13d2",
   "metadata": {},
   "outputs": [
    {
     "data": {
      "text/html": [
       "<div>\n",
       "<style scoped>\n",
       "    .dataframe tbody tr th:only-of-type {\n",
       "        vertical-align: middle;\n",
       "    }\n",
       "\n",
       "    .dataframe tbody tr th {\n",
       "        vertical-align: top;\n",
       "    }\n",
       "\n",
       "    .dataframe thead th {\n",
       "        text-align: right;\n",
       "    }\n",
       "</style>\n",
       "<table border=\"1\" class=\"dataframe\">\n",
       "  <thead>\n",
       "    <tr style=\"text-align: right;\">\n",
       "      <th></th>\n",
       "      <th>DataFrame</th>\n",
       "      <th>Precision</th>\n",
       "      <th>Recall</th>\n",
       "      <th>AUC</th>\n",
       "      <th>F1</th>\n",
       "      <th>Accuracy</th>\n",
       "    </tr>\n",
       "  </thead>\n",
       "  <tbody>\n",
       "    <tr>\n",
       "      <th>0</th>\n",
       "      <td>new_train_df</td>\n",
       "      <td>0.053333</td>\n",
       "      <td>1.000000</td>\n",
       "      <td>0.979372</td>\n",
       "      <td>0.101266</td>\n",
       "      <td>0.958841</td>\n",
       "    </tr>\n",
       "    <tr>\n",
       "      <th>1</th>\n",
       "      <td>new_df with ADASYN</td>\n",
       "      <td>0.773333</td>\n",
       "      <td>0.517857</td>\n",
       "      <td>0.753659</td>\n",
       "      <td>0.620321</td>\n",
       "      <td>0.958841</td>\n",
       "    </tr>\n",
       "    <tr>\n",
       "      <th>2</th>\n",
       "      <td>mean_train_df</td>\n",
       "      <td>0.040000</td>\n",
       "      <td>1.000000</td>\n",
       "      <td>0.979094</td>\n",
       "      <td>0.076923</td>\n",
       "      <td>0.958261</td>\n",
       "    </tr>\n",
       "    <tr>\n",
       "      <th>3</th>\n",
       "      <td>kruskal_and_mean_train_df</td>\n",
       "      <td>0.040000</td>\n",
       "      <td>1.000000</td>\n",
       "      <td>0.979094</td>\n",
       "      <td>0.076923</td>\n",
       "      <td>0.958261</td>\n",
       "    </tr>\n",
       "    <tr>\n",
       "      <th>4</th>\n",
       "      <td>ADASYN_and_mean_df</td>\n",
       "      <td>0.946667</td>\n",
       "      <td>0.312775</td>\n",
       "      <td>0.655053</td>\n",
       "      <td>0.470199</td>\n",
       "      <td>0.907246</td>\n",
       "    </tr>\n",
       "    <tr>\n",
       "      <th>5</th>\n",
       "      <td>small_df_no_disbalance</td>\n",
       "      <td>0.906667</td>\n",
       "      <td>0.045063</td>\n",
       "      <td>0.506328</td>\n",
       "      <td>0.085859</td>\n",
       "      <td>0.160580</td>\n",
       "    </tr>\n",
       "  </tbody>\n",
       "</table>\n",
       "</div>"
      ],
      "text/plain": [
       "                   DataFrame  Precision    Recall       AUC        F1  \\\n",
       "0               new_train_df   0.053333  1.000000  0.979372  0.101266   \n",
       "1         new_df with ADASYN   0.773333  0.517857  0.753659  0.620321   \n",
       "2              mean_train_df   0.040000  1.000000  0.979094  0.076923   \n",
       "3  kruskal_and_mean_train_df   0.040000  1.000000  0.979094  0.076923   \n",
       "4         ADASYN_and_mean_df   0.946667  0.312775  0.655053  0.470199   \n",
       "5     small_df_no_disbalance   0.906667  0.045063  0.506328  0.085859   \n",
       "\n",
       "   Accuracy  \n",
       "0  0.958841  \n",
       "1  0.958841  \n",
       "2  0.958261  \n",
       "3  0.958261  \n",
       "4  0.907246  \n",
       "5  0.160580  "
      ]
     },
     "execution_count": 234,
     "metadata": {},
     "output_type": "execute_result"
    }
   ],
   "source": [
    "model1_metrics_df"
   ]
  },
  {
   "cell_type": "markdown",
   "id": "3e586d17",
   "metadata": {},
   "source": [
    "### Fitting model2 (ручные параметры)"
   ]
  },
  {
   "cell_type": "code",
   "execution_count": 237,
   "id": "63fdfdbd",
   "metadata": {},
   "outputs": [],
   "source": [
    "model2 = CatBoostClassifier(iterations=10000,\n",
    "                         learning_rate=0.01,\n",
    "                         loss_function='Logloss',\n",
    "                         use_best_model=True,\n",
    "                         verbose=False,\n",
    "                         custom_loss=['AUC', 'Accuracy'],\n",
    "                         custom_metric=None,\n",
    "                         eval_metric='AUC',\n",
    "                         boosting_type=None,\n",
    "                         bootstrap_type=None,\n",
    "                         max_depth=None,\n",
    "                         n_estimators=None,\n",
    "                         random_state=None,\n",
    "                         early_stopping_rounds=500,\n",
    "                         #cat_features=cat_features,\n",
    "                         )"
   ]
  },
  {
   "cell_type": "code",
   "execution_count": 235,
   "id": "24921750",
   "metadata": {},
   "outputs": [],
   "source": [
    "model2_metrics_df = pd.DataFrame(columns = metric)"
   ]
  },
  {
   "cell_type": "code",
   "execution_count": 239,
   "id": "97752800",
   "metadata": {},
   "outputs": [
    {
     "name": "stderr",
     "output_type": "stream",
     "text": [
      "Custom logger is already specified. Specify more than one logger at same time is not thread safe."
     ]
    },
    {
     "data": {
      "application/vnd.jupyter.widget-view+json": {
       "model_id": "db5ffaf1ab914153bcfa06bb47b53b4d",
       "version_major": 2,
       "version_minor": 0
      },
      "text/plain": [
       "MetricVisualizer(layout=Layout(align_self='stretch', height='500px'))"
      ]
     },
     "metadata": {},
     "output_type": "display_data"
    }
   ],
   "source": [
    "#### 1. \"Практически\" данные (new_train_df)\n",
    "\n",
    "model2.fit(X_train_new,\n",
    "    y_train_new,\n",
    "    cat_features=[30, 34], # признаки ul_staff_range и ul_strategic_flg\n",
    "    use_best_model=True,\n",
    "    eval_set=(X_validation_new, y_validation_new),\n",
    "    verbose=False,\n",
    "    plot=True,\n",
    "    early_stopping_rounds=1000)\n",
    "\n",
    "\n",
    "model2_metrics_df = model2_metrics_df.append({'DataFrame':'new_train_df',\\\n",
    "                          'Precision':precision_score(model2.predict(X_test), y_test),\\\n",
    "                          'Recall':recall_score(model2.predict(X_test), y_test),\\\n",
    "                          'AUC':roc_auc_score(model2.predict(X_test), y_test),\\\n",
    "                          'F1':f1_score(model2.predict(X_test), y_test),\\\n",
    "                          'Accuracy':accuracy_score(model2.predict(X_test), y_test)},\\\n",
    "                         ignore_index=True)"
   ]
  },
  {
   "cell_type": "code",
   "execution_count": 241,
   "id": "a09234b7",
   "metadata": {},
   "outputs": [
    {
     "data": {
      "application/vnd.jupyter.widget-view+json": {
       "model_id": "e197ddad4e994ad082ba21566aeaa7fa",
       "version_major": 2,
       "version_minor": 0
      },
      "text/plain": [
       "MetricVisualizer(layout=Layout(align_self='stretch', height='500px'))"
      ]
     },
     "metadata": {},
     "output_type": "display_data"
    }
   ],
   "source": [
    "#### 2. Данные new_train_df с использованием ADASYN-алгоритма \n",
    "#### восполнения минотирующего класса (15 признаков) (X_ada, y_ada)\n",
    "\n",
    "model2.fit(X_train_ada,\n",
    "    y_train_ada,\n",
    "    use_best_model=True,\n",
    "    eval_set=(X_validation_ada, y_validation_ada),\n",
    "    verbose=False,\n",
    "    plot=True,\n",
    "    early_stopping_rounds=1000)\n",
    "\n",
    "\n",
    "model2_metrics_df = model2_metrics_df.append({'DataFrame':'new_df with ADASYN',\\\n",
    "                          'Precision':precision_score(model2.predict(X_test), y_test),\\\n",
    "                          'Recall':recall_score(model2.predict(X_test), y_test),\\\n",
    "                          'AUC':roc_auc_score(model2.predict(X_test), y_test),\\\n",
    "                          'F1':f1_score(model2.predict(X_test), y_test),\\\n",
    "                          'Accuracy':accuracy_score(model2.predict(X_test), y_test)},\\\n",
    "                         ignore_index=True)"
   ]
  },
  {
   "cell_type": "code",
   "execution_count": 252,
   "id": "e7cedda6",
   "metadata": {},
   "outputs": [
    {
     "data": {
      "application/vnd.jupyter.widget-view+json": {
       "model_id": "d05aff0cd6a547faa24274eaa85957c1",
       "version_major": 2,
       "version_minor": 0
      },
      "text/plain": [
       "MetricVisualizer(layout=Layout(align_self='stretch', height='500px'))"
      ]
     },
     "metadata": {},
     "output_type": "display_data"
    }
   ],
   "source": [
    "#### 3. Данные с заполненными средними занчениями пропусками (mean_train_df)\n",
    "\n",
    "\n",
    "model2.fit(X_train_means,\n",
    "    y_train_means,\n",
    "    use_best_model=True,\n",
    "    eval_set=(X_validation_means, y_validation_means),\n",
    "    verbose=False,\n",
    "    plot=True,\n",
    "    early_stopping_rounds=1000)\n",
    "\n",
    "\n",
    "model2_metrics_df = model2_metrics_df.append({'DataFrame':'mean_train_df',\\\n",
    "                          'Precision':precision_score(model2.predict(X_test), y_test),\\\n",
    "                          'Recall':recall_score(model2.predict(X_test), y_test),\\\n",
    "                          'AUC':roc_auc_score(model2.predict(X_test), y_test),\\\n",
    "                          'F1':f1_score(model2.predict(X_test), y_test),\\\n",
    "                          'Accuracy':accuracy_score(model2.predict(X_test), y_test)},\\\n",
    "                         ignore_index=True)"
   ]
  },
  {
   "cell_type": "code",
   "execution_count": 253,
   "id": "460622dc",
   "metadata": {},
   "outputs": [
    {
     "data": {
      "application/vnd.jupyter.widget-view+json": {
       "model_id": "f48edec5320249daa49b52bea504fd51",
       "version_major": 2,
       "version_minor": 0
      },
      "text/plain": [
       "MetricVisualizer(layout=Layout(align_self='stretch', height='500px'))"
      ]
     },
     "metadata": {},
     "output_type": "display_data"
    }
   ],
   "source": [
    "#### 4. Данные с заполненными средними занчениями пропусками (15 признаков из ANOVA) (kruskal_and_mean_train_df)\n",
    "\n",
    "\n",
    "\n",
    "model2.fit(X_train_kruskal_and_mean,\n",
    "    y_train_kruskal_and_mean,\n",
    "    use_best_model=True,\n",
    "    eval_set=(X_validation_kruskal_and_mean, y_validation_kruskal_and_mean),\n",
    "    verbose=False,\n",
    "    plot=True,\n",
    "    early_stopping_rounds=1000)\n",
    "\n",
    "\n",
    "model2_metrics_df = model2_metrics_df.append({'DataFrame':'kruskal_and_mean_train_df',\\\n",
    "                          'Precision':precision_score(model2.predict(X_test), y_test),\\\n",
    "                          'Recall':recall_score(model2.predict(X_test), y_test),\\\n",
    "                          'AUC':roc_auc_score(model2.predict(X_test), y_test),\\\n",
    "                          'F1':f1_score(model2.predict(X_test), y_test),\\\n",
    "                          'Accuracy':accuracy_score(model2.predict(X_test), y_test)},\\\n",
    "                         ignore_index=True)"
   ]
  },
  {
   "cell_type": "code",
   "execution_count": 248,
   "id": "35e1683e",
   "metadata": {},
   "outputs": [
    {
     "data": {
      "application/vnd.jupyter.widget-view+json": {
       "model_id": "3296733a4e0a479e86bc004710520c30",
       "version_major": 2,
       "version_minor": 0
      },
      "text/plain": [
       "MetricVisualizer(layout=Layout(align_self='stretch', height='500px'))"
      ]
     },
     "metadata": {},
     "output_type": "display_data"
    }
   ],
   "source": [
    "#### 5. Данные с заполненными средними занчениями пропусками (15 признаков из ANOVA) +\n",
    "#### ADASYN (X_ada_means, y_ada_means)\n",
    "\n",
    "model2.fit(X_train_ada_means,\n",
    "    y_train_ada_means,\n",
    "    use_best_model=True,\n",
    "    eval_set=(X_validation_ada_means, y_validation_ada_means),\n",
    "    verbose=False,\n",
    "    plot=True,\n",
    "    early_stopping_rounds=1000)\n",
    "\n",
    "\n",
    "model2_metrics_df = model2_metrics_df.append({'DataFrame':'ADASYN_and_mean_df',\\\n",
    "                          'Precision':precision_score(model2.predict(X_test), y_test),\\\n",
    "                          'Recall':recall_score(model2.predict(X_test), y_test),\\\n",
    "                          'AUC':roc_auc_score(model2.predict(X_test), y_test),\\\n",
    "                          'F1':f1_score(model2.predict(X_test), y_test),\\\n",
    "                          'Accuracy':accuracy_score(model2.predict(X_test), y_test)},\\\n",
    "                         ignore_index=True)"
   ]
  },
  {
   "cell_type": "code",
   "execution_count": 255,
   "id": "761e3fa2",
   "metadata": {},
   "outputs": [
    {
     "data": {
      "application/vnd.jupyter.widget-view+json": {
       "model_id": "a74aed14b1b3472c9fc999f00a64148d",
       "version_major": 2,
       "version_minor": 0
      },
      "text/plain": [
       "MetricVisualizer(layout=Layout(align_self='stretch', height='500px'))"
      ]
     },
     "metadata": {},
     "output_type": "display_data"
    }
   ],
   "source": [
    "#### 6. Данные с заполненными средними занчениями пропусками (только 1 класс) + без дисбаланса классов (small_df)\n",
    "\n",
    "\n",
    "model2.fit(X_train_small,\n",
    "    y_train_small,\n",
    "    use_best_model=True,\n",
    "    eval_set=(X_validation_small, y_validation_small),\n",
    "    verbose=False,\n",
    "    plot=True,\n",
    "    early_stopping_rounds=5000)\n",
    "\n",
    "\n",
    "model2_metrics_df = model2_metrics_df.append({'DataFrame':'small_df_no_disbalance',\\\n",
    "                          'Precision':precision_score(model2.predict(X_test), y_test),\\\n",
    "                          'Recall':recall_score(model2.predict(X_test), y_test),\\\n",
    "                          'AUC':roc_auc_score(model2.predict(X_test), y_test),\\\n",
    "                          'F1':f1_score(model2.predict(X_test), y_test),\\\n",
    "                          'Accuracy':accuracy_score(model2.predict(X_test), y_test)},\\\n",
    "                         ignore_index=True)"
   ]
  },
  {
   "cell_type": "markdown",
   "id": "e8a13243",
   "metadata": {},
   "source": [
    "## Evaluation"
   ]
  },
  {
   "cell_type": "code",
   "execution_count": 269,
   "id": "8d4bce8b",
   "metadata": {},
   "outputs": [
    {
     "data": {
      "text/html": [
       "<div>\n",
       "<style scoped>\n",
       "    .dataframe tbody tr th:only-of-type {\n",
       "        vertical-align: middle;\n",
       "    }\n",
       "\n",
       "    .dataframe tbody tr th {\n",
       "        vertical-align: top;\n",
       "    }\n",
       "\n",
       "    .dataframe thead th {\n",
       "        text-align: right;\n",
       "    }\n",
       "</style>\n",
       "<table border=\"1\" class=\"dataframe\">\n",
       "  <thead>\n",
       "    <tr style=\"text-align: right;\">\n",
       "      <th></th>\n",
       "      <th>DataFrame</th>\n",
       "      <th>Precision</th>\n",
       "      <th>Recall</th>\n",
       "      <th>AUC</th>\n",
       "      <th>F1</th>\n",
       "      <th>Accuracy</th>\n",
       "    </tr>\n",
       "  </thead>\n",
       "  <tbody>\n",
       "    <tr>\n",
       "      <th>0</th>\n",
       "      <td>new_train_df</td>\n",
       "      <td>0.053333</td>\n",
       "      <td>1.000000</td>\n",
       "      <td>0.979372</td>\n",
       "      <td>0.101266</td>\n",
       "      <td>0.958841</td>\n",
       "    </tr>\n",
       "    <tr>\n",
       "      <th>1</th>\n",
       "      <td>new_df with ADASYN</td>\n",
       "      <td>0.773333</td>\n",
       "      <td>0.517857</td>\n",
       "      <td>0.753659</td>\n",
       "      <td>0.620321</td>\n",
       "      <td>0.958841</td>\n",
       "    </tr>\n",
       "    <tr>\n",
       "      <th>2</th>\n",
       "      <td>mean_train_df</td>\n",
       "      <td>0.040000</td>\n",
       "      <td>1.000000</td>\n",
       "      <td>0.979094</td>\n",
       "      <td>0.076923</td>\n",
       "      <td>0.958261</td>\n",
       "    </tr>\n",
       "    <tr>\n",
       "      <th>3</th>\n",
       "      <td>kruskal_and_mean_train_df</td>\n",
       "      <td>0.040000</td>\n",
       "      <td>1.000000</td>\n",
       "      <td>0.979094</td>\n",
       "      <td>0.076923</td>\n",
       "      <td>0.958261</td>\n",
       "    </tr>\n",
       "    <tr>\n",
       "      <th>4</th>\n",
       "      <td>ADASYN_and_mean_df</td>\n",
       "      <td>0.946667</td>\n",
       "      <td>0.312775</td>\n",
       "      <td>0.655053</td>\n",
       "      <td>0.470199</td>\n",
       "      <td>0.907246</td>\n",
       "    </tr>\n",
       "    <tr>\n",
       "      <th>5</th>\n",
       "      <td>small_df_no_disbalance</td>\n",
       "      <td>0.906667</td>\n",
       "      <td>0.045063</td>\n",
       "      <td>0.506328</td>\n",
       "      <td>0.085859</td>\n",
       "      <td>0.160580</td>\n",
       "    </tr>\n",
       "  </tbody>\n",
       "</table>\n",
       "</div>"
      ],
      "text/plain": [
       "                   DataFrame  Precision    Recall       AUC        F1  \\\n",
       "0               new_train_df   0.053333  1.000000  0.979372  0.101266   \n",
       "1         new_df with ADASYN   0.773333  0.517857  0.753659  0.620321   \n",
       "2              mean_train_df   0.040000  1.000000  0.979094  0.076923   \n",
       "3  kruskal_and_mean_train_df   0.040000  1.000000  0.979094  0.076923   \n",
       "4         ADASYN_and_mean_df   0.946667  0.312775  0.655053  0.470199   \n",
       "5     small_df_no_disbalance   0.906667  0.045063  0.506328  0.085859   \n",
       "\n",
       "   Accuracy  \n",
       "0  0.958841  \n",
       "1  0.958841  \n",
       "2  0.958261  \n",
       "3  0.958261  \n",
       "4  0.907246  \n",
       "5  0.160580  "
      ]
     },
     "execution_count": 269,
     "metadata": {},
     "output_type": "execute_result"
    }
   ],
   "source": [
    "model1_metrics_df"
   ]
  },
  {
   "cell_type": "code",
   "execution_count": 271,
   "id": "5cc45944",
   "metadata": {},
   "outputs": [
    {
     "data": {
      "text/html": [
       "<div>\n",
       "<style scoped>\n",
       "    .dataframe tbody tr th:only-of-type {\n",
       "        vertical-align: middle;\n",
       "    }\n",
       "\n",
       "    .dataframe tbody tr th {\n",
       "        vertical-align: top;\n",
       "    }\n",
       "\n",
       "    .dataframe thead th {\n",
       "        text-align: right;\n",
       "    }\n",
       "</style>\n",
       "<table border=\"1\" class=\"dataframe\">\n",
       "  <thead>\n",
       "    <tr style=\"text-align: right;\">\n",
       "      <th></th>\n",
       "      <th>DataFrame</th>\n",
       "      <th>Precision</th>\n",
       "      <th>Recall</th>\n",
       "      <th>AUC</th>\n",
       "      <th>F1</th>\n",
       "      <th>Accuracy</th>\n",
       "    </tr>\n",
       "  </thead>\n",
       "  <tbody>\n",
       "    <tr>\n",
       "      <th>0</th>\n",
       "      <td>new_train_df</td>\n",
       "      <td>0.106667</td>\n",
       "      <td>1.000000</td>\n",
       "      <td>0.980489</td>\n",
       "      <td>0.192771</td>\n",
       "      <td>0.961159</td>\n",
       "    </tr>\n",
       "    <tr>\n",
       "      <th>1</th>\n",
       "      <td>new_df with ADASYN</td>\n",
       "      <td>0.840000</td>\n",
       "      <td>0.642857</td>\n",
       "      <td>0.817741</td>\n",
       "      <td>0.728324</td>\n",
       "      <td>0.972754</td>\n",
       "    </tr>\n",
       "    <tr>\n",
       "      <th>2</th>\n",
       "      <td>mean_train_df</td>\n",
       "      <td>0.080000</td>\n",
       "      <td>1.000000</td>\n",
       "      <td>0.979930</td>\n",
       "      <td>0.148148</td>\n",
       "      <td>0.960000</td>\n",
       "    </tr>\n",
       "    <tr>\n",
       "      <th>3</th>\n",
       "      <td>kruskal_and_mean_train_df</td>\n",
       "      <td>0.013333</td>\n",
       "      <td>1.000000</td>\n",
       "      <td>0.978538</td>\n",
       "      <td>0.026316</td>\n",
       "      <td>0.957101</td>\n",
       "    </tr>\n",
       "    <tr>\n",
       "      <th>4</th>\n",
       "      <td>ADASYN_and_mean_df</td>\n",
       "      <td>0.960000</td>\n",
       "      <td>0.385027</td>\n",
       "      <td>0.691538</td>\n",
       "      <td>0.549618</td>\n",
       "      <td>0.931594</td>\n",
       "    </tr>\n",
       "    <tr>\n",
       "      <th>5</th>\n",
       "      <td>small_df_no_disbalance</td>\n",
       "      <td>0.906667</td>\n",
       "      <td>0.045033</td>\n",
       "      <td>0.506237</td>\n",
       "      <td>0.085804</td>\n",
       "      <td>0.160000</td>\n",
       "    </tr>\n",
       "  </tbody>\n",
       "</table>\n",
       "</div>"
      ],
      "text/plain": [
       "                   DataFrame  Precision    Recall       AUC        F1  \\\n",
       "0               new_train_df   0.106667  1.000000  0.980489  0.192771   \n",
       "1         new_df with ADASYN   0.840000  0.642857  0.817741  0.728324   \n",
       "2              mean_train_df   0.080000  1.000000  0.979930  0.148148   \n",
       "3  kruskal_and_mean_train_df   0.013333  1.000000  0.978538  0.026316   \n",
       "4         ADASYN_and_mean_df   0.960000  0.385027  0.691538  0.549618   \n",
       "5     small_df_no_disbalance   0.906667  0.045033  0.506237  0.085804   \n",
       "\n",
       "   Accuracy  \n",
       "0  0.961159  \n",
       "1  0.972754  \n",
       "2  0.960000  \n",
       "3  0.957101  \n",
       "4  0.931594  \n",
       "5  0.160000  "
      ]
     },
     "execution_count": 271,
     "metadata": {},
     "output_type": "execute_result"
    }
   ],
   "source": [
    "model2_metrics_df"
   ]
  },
  {
   "cell_type": "markdown",
   "id": "559386e9",
   "metadata": {},
   "source": [
    "#### Хорошо заметно, что сильно лучше остальных отработали наборы данных \"new_df with ADASYN\" и \"ADASYN_and_mean_df\"\n",
    "#### Модель 2 , с настроенными вручную параметрами отработала на данных наборах успешнее"
   ]
  },
  {
   "cell_type": "markdown",
   "id": "aa23159d",
   "metadata": {},
   "source": [
    "### Улучшение качества классификации: подбор параметров модели, испытания на лучшем наборе данных \"new_df with ADASYN\""
   ]
  },
  {
   "cell_type": "markdown",
   "id": "f738a987",
   "metadata": {},
   "source": [
    "#### После многочисленных запусков с разными параметрами - максимальное качество классификации было достигнуто на модели tunned_model"
   ]
  },
  {
   "cell_type": "code",
   "execution_count": 286,
   "id": "6ee84376",
   "metadata": {
    "scrolled": false
   },
   "outputs": [
    {
     "name": "stderr",
     "output_type": "stream",
     "text": [
      "Custom logger is already specified. Specify more than one logger at same time is not thread safe."
     ]
    },
    {
     "data": {
      "application/vnd.jupyter.widget-view+json": {
       "model_id": "a61474ebe0f647ae983ac10cf36d2120",
       "version_major": 2,
       "version_minor": 0
      },
      "text/plain": [
       "MetricVisualizer(layout=Layout(align_self='stretch', height='500px'))"
      ]
     },
     "metadata": {},
     "output_type": "display_data"
    },
    {
     "data": {
      "text/plain": [
       "<catboost.core.CatBoostClassifier at 0x7fec62231460>"
      ]
     },
     "execution_count": 286,
     "metadata": {},
     "output_type": "execute_result"
    }
   ],
   "source": [
    "tunned_model = CatBoostClassifier(iterations=10000,\n",
    "                         learning_rate=0.01,\n",
    "                         loss_function='Logloss',\n",
    "                         use_best_model=True,\n",
    "                         verbose=False,\n",
    "                         custom_loss=['AUC', 'Accuracy', 'F1'],\n",
    "                         eval_metric='AUC',\n",
    "                         early_stopping_rounds=500,\n",
    "                        leaf_estimation_method='Newton')\n",
    "\n",
    "tunned_model.fit(X_train_ada,\n",
    "    y_train_ada,\n",
    "    use_best_model=True,\n",
    "    eval_set=(X_validation_ada, y_validation_ada),\n",
    "    verbose=False,\n",
    "    plot=True)"
   ]
  },
  {
   "cell_type": "markdown",
   "id": "95b88225",
   "metadata": {},
   "source": [
    "#### Метрики модели tunned_model (threshold по умолчанию равна 0.5)"
   ]
  },
  {
   "cell_type": "code",
   "execution_count": 288,
   "id": "6cce923e",
   "metadata": {},
   "outputs": [
    {
     "name": "stdout",
     "output_type": "stream",
     "text": [
      "Precision 0.84\n",
      "Recall 0.6428571428571429\n",
      "AUC 0.8177408025287558\n",
      "F1 0.7283236994219654\n",
      "Accuracy 0.9727536231884057\n"
     ]
    }
   ],
   "source": [
    "print('Precision',precision_score(tunned_model.predict(X_test), y_test))\n",
    "print('Recall',recall_score(tunned_model.predict(X_test), y_test))\n",
    "print('AUC',roc_auc_score(tunned_model.predict(X_test), y_test))\n",
    "print('F1',f1_score(tunned_model.predict(X_test), y_test))\n",
    "print('Accuracy',accuracy_score(tunned_model.predict(X_test), y_test))"
   ]
  },
  {
   "cell_type": "markdown",
   "id": "c38ca281",
   "metadata": {},
   "source": [
    "#### Посмотрим, какой подабрать границу принятия решений (threshold) для повышения метрики Recall"
   ]
  },
  {
   "cell_type": "code",
   "execution_count": 298,
   "id": "e74917f0",
   "metadata": {},
   "outputs": [
    {
     "data": {
      "image/png": "[encoded data removed]",
      "text/plain": [
       "<Figure size 576x288 with 1 Axes>"
      ]
     },
     "metadata": {
      "needs_background": "light"
     },
     "output_type": "display_data"
    }
   ],
   "source": [
    "curve = ROC_Curve(X_test, y_test, [], tunned_model)"
   ]
  },
  {
   "cell_type": "code",
   "execution_count": 299,
   "id": "97763046",
   "metadata": {
    "scrolled": true
   },
   "outputs": [
    {
     "data": {
      "image/png": "[encoded data removed]",
      "text/plain": [
       "<Figure size 576x288 with 1 Axes>"
      ]
     },
     "metadata": {
      "needs_background": "light"
     },
     "output_type": "display_data"
    }
   ],
   "source": [
    "FPR_FNR_Curve(curve)"
   ]
  },
  {
   "cell_type": "markdown",
   "id": "e055813f",
   "metadata": {},
   "source": [
    "#### Возьмем threshold = 0.8"
   ]
  },
  {
   "cell_type": "code",
   "execution_count": 339,
   "id": "77a47479",
   "metadata": {},
   "outputs": [],
   "source": [
    "final_metrics = pd.DataFrame(columns = ['Threshold','Precision', 'Recall', 'AUC', 'F1', 'Accuracy'])\n",
    "for threshold in [0.5, 0.55, 0.6, 0.65, 0.7, 0.75, 0.8, 0.85, 0.9]:\n",
    "    result_df = pd.DataFrame()\n",
    "    result_df['outputs'] = list(tunned_model.predict_proba(X_test)[:,1:])\n",
    "    result_df['outputs'] = result_df['outputs'].astype(float)\n",
    "    def rescale(x):\n",
    "        if x < threshold:\n",
    "            return 0\n",
    "        else:\n",
    "            return 1\n",
    "    result_df.outputs = result_df.outputs.map(rescale)\n",
    "    final_metrics = final_metrics.append({'Threshold':threshold,\\\n",
    "                                          'Precision':precision_score(result_df.outputs, y_test),\\\n",
    "                                          'Recall':recall_score(result_df.outputs, y_test),\\\n",
    "                                          'AUC':roc_auc_score(result_df.outputs, y_test),\\\n",
    "                                          'F1':f1_score(result_df.outputs, y_test),\\\n",
    "                                          'Accuracy':accuracy_score(result_df.outputs, y_test)},\\\n",
    "                                         ignore_index=True)"
   ]
  },
  {
   "cell_type": "code",
   "execution_count": 343,
   "id": "0d2b6b46",
   "metadata": {},
   "outputs": [
    {
     "data": {
      "text/html": [
       "<div>\n",
       "<style scoped>\n",
       "    .dataframe tbody tr th:only-of-type {\n",
       "        vertical-align: middle;\n",
       "    }\n",
       "\n",
       "    .dataframe tbody tr th {\n",
       "        vertical-align: top;\n",
       "    }\n",
       "\n",
       "    .dataframe thead th {\n",
       "        text-align: right;\n",
       "    }\n",
       "</style>\n",
       "<table border=\"1\" class=\"dataframe\">\n",
       "  <thead>\n",
       "    <tr style=\"text-align: right;\">\n",
       "      <th></th>\n",
       "      <th>Threshold</th>\n",
       "      <th>Precision</th>\n",
       "      <th>Recall</th>\n",
       "      <th>AUC</th>\n",
       "      <th>F1</th>\n",
       "      <th>Accuracy</th>\n",
       "    </tr>\n",
       "  </thead>\n",
       "  <tbody>\n",
       "    <tr>\n",
       "      <th>3</th>\n",
       "      <td>0.65</td>\n",
       "      <td>0.706667</td>\n",
       "      <td>0.791045</td>\n",
       "      <td>0.888888</td>\n",
       "      <td>0.746479</td>\n",
       "      <td>0.979130</td>\n",
       "    </tr>\n",
       "    <tr>\n",
       "      <th>2</th>\n",
       "      <td>0.60</td>\n",
       "      <td>0.760000</td>\n",
       "      <td>0.750000</td>\n",
       "      <td>0.869542</td>\n",
       "      <td>0.754967</td>\n",
       "      <td>0.978551</td>\n",
       "    </tr>\n",
       "    <tr>\n",
       "      <th>4</th>\n",
       "      <td>0.70</td>\n",
       "      <td>0.613333</td>\n",
       "      <td>0.793103</td>\n",
       "      <td>0.887853</td>\n",
       "      <td>0.691729</td>\n",
       "      <td>0.976232</td>\n",
       "    </tr>\n",
       "    <tr>\n",
       "      <th>1</th>\n",
       "      <td>0.55</td>\n",
       "      <td>0.800000</td>\n",
       "      <td>0.681818</td>\n",
       "      <td>0.836328</td>\n",
       "      <td>0.736196</td>\n",
       "      <td>0.975072</td>\n",
       "    </tr>\n",
       "    <tr>\n",
       "      <th>5</th>\n",
       "      <td>0.75</td>\n",
       "      <td>0.533333</td>\n",
       "      <td>0.816327</td>\n",
       "      <td>0.897722</td>\n",
       "      <td>0.645161</td>\n",
       "      <td>0.974493</td>\n",
       "    </tr>\n",
       "    <tr>\n",
       "      <th>6</th>\n",
       "      <td>0.80</td>\n",
       "      <td>0.440000</td>\n",
       "      <td>0.891892</td>\n",
       "      <td>0.933505</td>\n",
       "      <td>0.589286</td>\n",
       "      <td>0.973333</td>\n",
       "    </tr>\n",
       "    <tr>\n",
       "      <th>0</th>\n",
       "      <td>0.50</td>\n",
       "      <td>0.840000</td>\n",
       "      <td>0.642857</td>\n",
       "      <td>0.817741</td>\n",
       "      <td>0.728324</td>\n",
       "      <td>0.972754</td>\n",
       "    </tr>\n",
       "    <tr>\n",
       "      <th>7</th>\n",
       "      <td>0.85</td>\n",
       "      <td>0.333333</td>\n",
       "      <td>0.892857</td>\n",
       "      <td>0.931697</td>\n",
       "      <td>0.485437</td>\n",
       "      <td>0.969275</td>\n",
       "    </tr>\n",
       "    <tr>\n",
       "      <th>8</th>\n",
       "      <td>0.90</td>\n",
       "      <td>0.253333</td>\n",
       "      <td>0.950000</td>\n",
       "      <td>0.958578</td>\n",
       "      <td>0.400000</td>\n",
       "      <td>0.966957</td>\n",
       "    </tr>\n",
       "  </tbody>\n",
       "</table>\n",
       "</div>"
      ],
      "text/plain": [
       "   Threshold  Precision    Recall       AUC        F1  Accuracy\n",
       "3       0.65   0.706667  0.791045  0.888888  0.746479  0.979130\n",
       "2       0.60   0.760000  0.750000  0.869542  0.754967  0.978551\n",
       "4       0.70   0.613333  0.793103  0.887853  0.691729  0.976232\n",
       "1       0.55   0.800000  0.681818  0.836328  0.736196  0.975072\n",
       "5       0.75   0.533333  0.816327  0.897722  0.645161  0.974493\n",
       "6       0.80   0.440000  0.891892  0.933505  0.589286  0.973333\n",
       "0       0.50   0.840000  0.642857  0.817741  0.728324  0.972754\n",
       "7       0.85   0.333333  0.892857  0.931697  0.485437  0.969275\n",
       "8       0.90   0.253333  0.950000  0.958578  0.400000  0.966957"
      ]
     },
     "execution_count": 343,
     "metadata": {},
     "output_type": "execute_result"
    }
   ],
   "source": [
    "final_metrics.sort_values(['Accuracy', 'F1'], ascending=False)"
   ]
  },
  {
   "cell_type": "markdown",
   "id": "46d927b8",
   "metadata": {},
   "source": [
    "### Вывод: Как видно из таблицы, граница = 0.65 обладает наилучшей комбинацией метрик\n",
    "#### И Precision и Recall на оптимальном среди всех остальных наблюдей уровне"
   ]
  },
  {
   "cell_type": "markdown",
   "id": "5e86ecf7",
   "metadata": {},
   "source": [
    "#### Можно еще ради интереса посмотреть на метрики, убрав в тесте дисбаланс классов"
   ]
  },
  {
   "cell_type": "code",
   "execution_count": 430,
   "id": "b2c05d90",
   "metadata": {},
   "outputs": [],
   "source": [
    "test_no_disb_df = X_test\n",
    "test_no_disb_df['default_12m'] = y_test\n",
    "test_no_disb_df = pd.concat([test_no_disb_df[test_no_disb_df.default_12m == 1],\\\n",
    "                            test_no_disb_df[test_no_disb_df.default_12m == 0]\\\n",
    "                             .head(test_no_disb_df[test_no_disb_df.default_12m == 1].shape[0])])"
   ]
  },
  {
   "cell_type": "code",
   "execution_count": 431,
   "id": "5f83e1b5",
   "metadata": {},
   "outputs": [],
   "source": [
    "result_df = pd.DataFrame()\n",
    "result_df['outputs'] = list(tunned_model.predict_proba(test_no_disb_df.drop('default_12m', axis = 1))[:,1:])\n",
    "result_df['outputs'] = result_df['outputs'].astype(float)\n",
    "result_df['true_vals'] = list(test_no_disb_df.default_12m)\n",
    "def rescale(x):\n",
    "        if x < 0.65:\n",
    "            return 0\n",
    "        else:\n",
    "            return 1\n",
    "result_df.outputs = result_df.outputs.map(rescale)"
   ]
  },
  {
   "cell_type": "markdown",
   "id": "be3a2cff",
   "metadata": {},
   "source": [
    "#### Неплохие результаты. Мы нашли 96% класса 1 (а ошибаться в нем нам крайне нежелательно, учитывая семантику предметной области). И 70% классифицированных нами как объекты класса 1 - действительно являются классом 1\n",
    "#### Точность, при отношении классов 1:1 составила 84%"
   ]
  },
  {
   "cell_type": "code",
   "execution_count": 432,
   "id": "5f1e953f",
   "metadata": {},
   "outputs": [
    {
     "name": "stdout",
     "output_type": "stream",
     "text": [
      "Precision 0.7066666666666667\n",
      "Recall 0.9636363636363636\n",
      "AUC 0.8660287081339713\n",
      "F1 0.8153846153846154\n",
      "Accuracy 0.84\n"
     ]
    }
   ],
   "source": [
    "print('Precision',precision_score(result_df.outputs, result_df.true_vals))\n",
    "print('Recall',recall_score(result_df.outputs, result_df.true_vals))\n",
    "print('AUC',roc_auc_score(result_df.outputs, result_df.true_vals))\n",
    "print('F1',f1_score(result_df.outputs, result_df.true_vals))\n",
    "print('Accuracy',accuracy_score(result_df.outputs, result_df.true_vals))"
   ]
  },
  {
   "cell_type": "code",
   "execution_count": null,
   "id": "437a0ab7",
   "metadata": {},
   "outputs": [],
   "source": []
  },
  {
   "cell_type": "code",
   "execution_count": null,
   "id": "446cde5a",
   "metadata": {},
   "outputs": [],
   "source": []
  },
  {
   "cell_type": "code",
   "execution_count": null,
   "id": "8465dea6",
   "metadata": {},
   "outputs": [],
   "source": []
  },
  {
   "cell_type": "code",
   "execution_count": null,
   "id": "eb2c1527",
   "metadata": {},
   "outputs": [],
   "source": []
  },
  {
   "cell_type": "markdown",
   "id": "d0f70dd4",
   "metadata": {},
   "source": [
    "## Формируем файл с ответом [система почему-то не принемает ответы:(     ]"
   ]
  },
  {
   "cell_type": "code",
   "execution_count": 377,
   "id": "560ff356",
   "metadata": {},
   "outputs": [
    {
     "name": "stderr",
     "output_type": "stream",
     "text": [
      "/var/folders/_z/z5my6rgn7kq2z6xjsdk61qsr0000gn/T/ipykernel_3194/1713649605.py:2: SettingWithCopyWarning: \n",
      "A value is trying to be set on a copy of a slice from a DataFrame.\n",
      "Try using .loc[row_indexer,col_indexer] = value instead\n",
      "\n",
      "See the caveats in the documentation: https://pandas.pydata.org/pandas-docs/stable/user_guide/indexing.html#returning-a-view-versus-a-copy\n",
      "  answ_df['id'] = answ_df['record_id']\n",
      "/opt/anaconda3/lib/python3.9/site-packages/pandas/core/frame.py:4906: SettingWithCopyWarning: \n",
      "A value is trying to be set on a copy of a slice from a DataFrame\n",
      "\n",
      "See the caveats in the documentation: https://pandas.pydata.org/pandas-docs/stable/user_guide/indexing.html#returning-a-view-versus-a-copy\n",
      "  return super().drop(\n"
     ]
    }
   ],
   "source": [
    "answ_df = test_df[['record_id']]\n",
    "answ_df['id'] = answ_df['record_id']\n",
    "answ_df.drop('record_id',axis=1, inplace=True)"
   ]
  },
  {
   "cell_type": "code",
   "execution_count": 378,
   "id": "26ad018c",
   "metadata": {},
   "outputs": [],
   "source": [
    "test_df['ul_staff_range'] = test_df['ul_staff_range'].map(dict_for_ul_staff_range)"
   ]
  },
  {
   "cell_type": "code",
   "execution_count": 379,
   "id": "55edf1aa",
   "metadata": {},
   "outputs": [],
   "source": [
    "result_df = pd.DataFrame()\n",
    "result_df['outputs'] = list(tunned_model.predict_proba(test_df)[:,1:])\n",
    "result_df['outputs'] = result_df['outputs'].astype(float)\n",
    "def rescale(x):\n",
    "        if x < threshold:\n",
    "            return 0\n",
    "        else:\n",
    "            return 1\n",
    "result_df.outputs = result_df.outputs.map(rescale)"
   ]
  },
  {
   "cell_type": "code",
   "execution_count": 386,
   "id": "eef06add",
   "metadata": {},
   "outputs": [
    {
     "name": "stderr",
     "output_type": "stream",
     "text": [
      "/var/folders/_z/z5my6rgn7kq2z6xjsdk61qsr0000gn/T/ipykernel_3194/274947641.py:1: SettingWithCopyWarning: \n",
      "A value is trying to be set on a copy of a slice from a DataFrame.\n",
      "Try using .loc[row_indexer,col_indexer] = value instead\n",
      "\n",
      "See the caveats in the documentation: https://pandas.pydata.org/pandas-docs/stable/user_guide/indexing.html#returning-a-view-versus-a-copy\n",
      "  answ_df['predict'] = result_df.outputs\n"
     ]
    }
   ],
   "source": [
    "answ_df['predict'] = result_df.outputs\n"
   ]
  },
  {
   "cell_type": "code",
   "execution_count": 391,
   "id": "9d97a2e1",
   "metadata": {},
   "outputs": [
    {
     "data": {
      "text/html": [
       "<div>\n",
       "<style scoped>\n",
       "    .dataframe tbody tr th:only-of-type {\n",
       "        vertical-align: middle;\n",
       "    }\n",
       "\n",
       "    .dataframe tbody tr th {\n",
       "        vertical-align: top;\n",
       "    }\n",
       "\n",
       "    .dataframe thead th {\n",
       "        text-align: right;\n",
       "    }\n",
       "</style>\n",
       "<table border=\"1\" class=\"dataframe\">\n",
       "  <thead>\n",
       "    <tr style=\"text-align: right;\">\n",
       "      <th></th>\n",
       "      <th>id</th>\n",
       "      <th>predict</th>\n",
       "    </tr>\n",
       "  </thead>\n",
       "  <tbody>\n",
       "    <tr>\n",
       "      <th>0</th>\n",
       "      <td>196</td>\n",
       "      <td>0</td>\n",
       "    </tr>\n",
       "    <tr>\n",
       "      <th>1</th>\n",
       "      <td>1196</td>\n",
       "      <td>0</td>\n",
       "    </tr>\n",
       "    <tr>\n",
       "      <th>2</th>\n",
       "      <td>2813</td>\n",
       "      <td>0</td>\n",
       "    </tr>\n",
       "    <tr>\n",
       "      <th>3</th>\n",
       "      <td>4385</td>\n",
       "      <td>0</td>\n",
       "    </tr>\n",
       "    <tr>\n",
       "      <th>4</th>\n",
       "      <td>6479</td>\n",
       "      <td>0</td>\n",
       "    </tr>\n",
       "    <tr>\n",
       "      <th>...</th>\n",
       "      <td>...</td>\n",
       "      <td>...</td>\n",
       "    </tr>\n",
       "    <tr>\n",
       "      <th>195</th>\n",
       "      <td>265577</td>\n",
       "      <td>0</td>\n",
       "    </tr>\n",
       "    <tr>\n",
       "      <th>196</th>\n",
       "      <td>266648</td>\n",
       "      <td>0</td>\n",
       "    </tr>\n",
       "    <tr>\n",
       "      <th>197</th>\n",
       "      <td>266849</td>\n",
       "      <td>0</td>\n",
       "    </tr>\n",
       "    <tr>\n",
       "      <th>198</th>\n",
       "      <td>267566</td>\n",
       "      <td>0</td>\n",
       "    </tr>\n",
       "    <tr>\n",
       "      <th>199</th>\n",
       "      <td>271584</td>\n",
       "      <td>0</td>\n",
       "    </tr>\n",
       "  </tbody>\n",
       "</table>\n",
       "<p>200 rows × 2 columns</p>\n",
       "</div>"
      ],
      "text/plain": [
       "         id  predict\n",
       "0       196        0\n",
       "1      1196        0\n",
       "2      2813        0\n",
       "3      4385        0\n",
       "4      6479        0\n",
       "..      ...      ...\n",
       "195  265577        0\n",
       "196  266648        0\n",
       "197  266849        0\n",
       "198  267566        0\n",
       "199  271584        0\n",
       "\n",
       "[200 rows x 2 columns]"
      ]
     },
     "execution_count": 391,
     "metadata": {},
     "output_type": "execute_result"
    }
   ],
   "source": [
    "answ_df"
   ]
  },
  {
   "cell_type": "code",
   "execution_count": 389,
   "id": "081b34e3",
   "metadata": {},
   "outputs": [],
   "source": [
    "answ_df.to_csv('/Users/artemarhipov/Downloads/PD-submit.csv',index=False, sep=';')"
   ]
  },
  {
   "cell_type": "markdown",
   "id": "26930061",
   "metadata": {},
   "source": [
    "#### К сожалению, платформа не принимает сабмиты((((("
   ]
  },
  {
   "cell_type": "code",
   "execution_count": null,
   "id": "8e1e8522",
   "metadata": {},
   "outputs": [],
   "source": []
  }
 ],
 "metadata": {
  "kernelspec": {
   "display_name": "Python 3 (ipykernel)",
   "language": "python",
   "name": "python3"
  },
  "language_info": {
   "codemirror_mode": {
    "name": "ipython",
    "version": 3
   },
   "file_extension": ".py",
   "mimetype": "text/x-python",
   "name": "python",
   "nbconvert_exporter": "python",
   "pygments_lexer": "ipython3",
   "version": "3.9.7"
  }
 },
 "nbformat": 4,
 "nbformat_minor": 5
}
