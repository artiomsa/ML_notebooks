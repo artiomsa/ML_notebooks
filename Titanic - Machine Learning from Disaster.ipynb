{
 "cells": [
  {
   "cell_type": "code",
   "execution_count": 97,
   "id": "4a24583c",
   "metadata": {},
   "outputs": [],
   "source": [
    "import pandas as pd\n",
    "import numpy as np\n",
    "import seaborn as sns\n",
    "from scipy import stats\n",
    "from sklearn.model_selection import train_test_split"
   ]
  },
  {
   "cell_type": "code",
   "execution_count": 2,
   "id": "90786129",
   "metadata": {},
   "outputs": [],
   "source": [
    "def SurviveDistrib(df, column):\n",
    "    temp_df = df.groupby(column).agg({'PassengerId':'count'}).rename(columns={'PassengerId':'PassangerCount'})\n",
    "    temp_df['Survived'] = df[df.Survived == 1].groupby(column)\\\n",
    "        .agg({'PassengerId':'count'}).PassengerId\n",
    "    temp_df['PercentOfSurvived'] = round(temp_df.Survived / temp_df.PassangerCount * 100)\n",
    "    return temp_df"
   ]
  },
  {
   "cell_type": "code",
   "execution_count": 4,
   "id": "d0673330",
   "metadata": {},
   "outputs": [],
   "source": [
    "test_df = pd.read_csv('/Users/artemarhipov/titanic/test.csv')"
   ]
  },
  {
   "cell_type": "code",
   "execution_count": 5,
   "id": "197cf55c",
   "metadata": {},
   "outputs": [],
   "source": [
    "df = pd.read_csv('/Users/artemarhipov/titanic/train.csv')"
   ]
  },
  {
   "cell_type": "code",
   "execution_count": 6,
   "id": "771902ce",
   "metadata": {},
   "outputs": [
    {
     "data": {
      "text/html": [
       "<div>\n",
       "<style scoped>\n",
       "    .dataframe tbody tr th:only-of-type {\n",
       "        vertical-align: middle;\n",
       "    }\n",
       "\n",
       "    .dataframe tbody tr th {\n",
       "        vertical-align: top;\n",
       "    }\n",
       "\n",
       "    .dataframe thead th {\n",
       "        text-align: right;\n",
       "    }\n",
       "</style>\n",
       "<table border=\"1\" class=\"dataframe\">\n",
       "  <thead>\n",
       "    <tr style=\"text-align: right;\">\n",
       "      <th></th>\n",
       "      <th>PassengerId</th>\n",
       "      <th>Survived</th>\n",
       "      <th>Pclass</th>\n",
       "      <th>Name</th>\n",
       "      <th>Sex</th>\n",
       "      <th>Age</th>\n",
       "      <th>SibSp</th>\n",
       "      <th>Parch</th>\n",
       "      <th>Ticket</th>\n",
       "      <th>Fare</th>\n",
       "      <th>Cabin</th>\n",
       "      <th>Embarked</th>\n",
       "    </tr>\n",
       "  </thead>\n",
       "  <tbody>\n",
       "    <tr>\n",
       "      <th>0</th>\n",
       "      <td>1</td>\n",
       "      <td>0</td>\n",
       "      <td>3</td>\n",
       "      <td>Braund, Mr. Owen Harris</td>\n",
       "      <td>male</td>\n",
       "      <td>22.0</td>\n",
       "      <td>1</td>\n",
       "      <td>0</td>\n",
       "      <td>A/5 21171</td>\n",
       "      <td>7.2500</td>\n",
       "      <td>NaN</td>\n",
       "      <td>S</td>\n",
       "    </tr>\n",
       "    <tr>\n",
       "      <th>1</th>\n",
       "      <td>2</td>\n",
       "      <td>1</td>\n",
       "      <td>1</td>\n",
       "      <td>Cumings, Mrs. John Bradley (Florence Briggs Th...</td>\n",
       "      <td>female</td>\n",
       "      <td>38.0</td>\n",
       "      <td>1</td>\n",
       "      <td>0</td>\n",
       "      <td>PC 17599</td>\n",
       "      <td>71.2833</td>\n",
       "      <td>C85</td>\n",
       "      <td>C</td>\n",
       "    </tr>\n",
       "    <tr>\n",
       "      <th>2</th>\n",
       "      <td>3</td>\n",
       "      <td>1</td>\n",
       "      <td>3</td>\n",
       "      <td>Heikkinen, Miss. Laina</td>\n",
       "      <td>female</td>\n",
       "      <td>26.0</td>\n",
       "      <td>0</td>\n",
       "      <td>0</td>\n",
       "      <td>STON/O2. 3101282</td>\n",
       "      <td>7.9250</td>\n",
       "      <td>NaN</td>\n",
       "      <td>S</td>\n",
       "    </tr>\n",
       "    <tr>\n",
       "      <th>3</th>\n",
       "      <td>4</td>\n",
       "      <td>1</td>\n",
       "      <td>1</td>\n",
       "      <td>Futrelle, Mrs. Jacques Heath (Lily May Peel)</td>\n",
       "      <td>female</td>\n",
       "      <td>35.0</td>\n",
       "      <td>1</td>\n",
       "      <td>0</td>\n",
       "      <td>113803</td>\n",
       "      <td>53.1000</td>\n",
       "      <td>C123</td>\n",
       "      <td>S</td>\n",
       "    </tr>\n",
       "    <tr>\n",
       "      <th>4</th>\n",
       "      <td>5</td>\n",
       "      <td>0</td>\n",
       "      <td>3</td>\n",
       "      <td>Allen, Mr. William Henry</td>\n",
       "      <td>male</td>\n",
       "      <td>35.0</td>\n",
       "      <td>0</td>\n",
       "      <td>0</td>\n",
       "      <td>373450</td>\n",
       "      <td>8.0500</td>\n",
       "      <td>NaN</td>\n",
       "      <td>S</td>\n",
       "    </tr>\n",
       "    <tr>\n",
       "      <th>...</th>\n",
       "      <td>...</td>\n",
       "      <td>...</td>\n",
       "      <td>...</td>\n",
       "      <td>...</td>\n",
       "      <td>...</td>\n",
       "      <td>...</td>\n",
       "      <td>...</td>\n",
       "      <td>...</td>\n",
       "      <td>...</td>\n",
       "      <td>...</td>\n",
       "      <td>...</td>\n",
       "      <td>...</td>\n",
       "    </tr>\n",
       "    <tr>\n",
       "      <th>886</th>\n",
       "      <td>887</td>\n",
       "      <td>0</td>\n",
       "      <td>2</td>\n",
       "      <td>Montvila, Rev. Juozas</td>\n",
       "      <td>male</td>\n",
       "      <td>27.0</td>\n",
       "      <td>0</td>\n",
       "      <td>0</td>\n",
       "      <td>211536</td>\n",
       "      <td>13.0000</td>\n",
       "      <td>NaN</td>\n",
       "      <td>S</td>\n",
       "    </tr>\n",
       "    <tr>\n",
       "      <th>887</th>\n",
       "      <td>888</td>\n",
       "      <td>1</td>\n",
       "      <td>1</td>\n",
       "      <td>Graham, Miss. Margaret Edith</td>\n",
       "      <td>female</td>\n",
       "      <td>19.0</td>\n",
       "      <td>0</td>\n",
       "      <td>0</td>\n",
       "      <td>112053</td>\n",
       "      <td>30.0000</td>\n",
       "      <td>B42</td>\n",
       "      <td>S</td>\n",
       "    </tr>\n",
       "    <tr>\n",
       "      <th>888</th>\n",
       "      <td>889</td>\n",
       "      <td>0</td>\n",
       "      <td>3</td>\n",
       "      <td>Johnston, Miss. Catherine Helen \"Carrie\"</td>\n",
       "      <td>female</td>\n",
       "      <td>NaN</td>\n",
       "      <td>1</td>\n",
       "      <td>2</td>\n",
       "      <td>W./C. 6607</td>\n",
       "      <td>23.4500</td>\n",
       "      <td>NaN</td>\n",
       "      <td>S</td>\n",
       "    </tr>\n",
       "    <tr>\n",
       "      <th>889</th>\n",
       "      <td>890</td>\n",
       "      <td>1</td>\n",
       "      <td>1</td>\n",
       "      <td>Behr, Mr. Karl Howell</td>\n",
       "      <td>male</td>\n",
       "      <td>26.0</td>\n",
       "      <td>0</td>\n",
       "      <td>0</td>\n",
       "      <td>111369</td>\n",
       "      <td>30.0000</td>\n",
       "      <td>C148</td>\n",
       "      <td>C</td>\n",
       "    </tr>\n",
       "    <tr>\n",
       "      <th>890</th>\n",
       "      <td>891</td>\n",
       "      <td>0</td>\n",
       "      <td>3</td>\n",
       "      <td>Dooley, Mr. Patrick</td>\n",
       "      <td>male</td>\n",
       "      <td>32.0</td>\n",
       "      <td>0</td>\n",
       "      <td>0</td>\n",
       "      <td>370376</td>\n",
       "      <td>7.7500</td>\n",
       "      <td>NaN</td>\n",
       "      <td>Q</td>\n",
       "    </tr>\n",
       "  </tbody>\n",
       "</table>\n",
       "<p>891 rows × 12 columns</p>\n",
       "</div>"
      ],
      "text/plain": [
       "     PassengerId  Survived  Pclass  \\\n",
       "0              1         0       3   \n",
       "1              2         1       1   \n",
       "2              3         1       3   \n",
       "3              4         1       1   \n",
       "4              5         0       3   \n",
       "..           ...       ...     ...   \n",
       "886          887         0       2   \n",
       "887          888         1       1   \n",
       "888          889         0       3   \n",
       "889          890         1       1   \n",
       "890          891         0       3   \n",
       "\n",
       "                                                  Name     Sex   Age  SibSp  \\\n",
       "0                              Braund, Mr. Owen Harris    male  22.0      1   \n",
       "1    Cumings, Mrs. John Bradley (Florence Briggs Th...  female  38.0      1   \n",
       "2                               Heikkinen, Miss. Laina  female  26.0      0   \n",
       "3         Futrelle, Mrs. Jacques Heath (Lily May Peel)  female  35.0      1   \n",
       "4                             Allen, Mr. William Henry    male  35.0      0   \n",
       "..                                                 ...     ...   ...    ...   \n",
       "886                              Montvila, Rev. Juozas    male  27.0      0   \n",
       "887                       Graham, Miss. Margaret Edith  female  19.0      0   \n",
       "888           Johnston, Miss. Catherine Helen \"Carrie\"  female   NaN      1   \n",
       "889                              Behr, Mr. Karl Howell    male  26.0      0   \n",
       "890                                Dooley, Mr. Patrick    male  32.0      0   \n",
       "\n",
       "     Parch            Ticket     Fare Cabin Embarked  \n",
       "0        0         A/5 21171   7.2500   NaN        S  \n",
       "1        0          PC 17599  71.2833   C85        C  \n",
       "2        0  STON/O2. 3101282   7.9250   NaN        S  \n",
       "3        0            113803  53.1000  C123        S  \n",
       "4        0            373450   8.0500   NaN        S  \n",
       "..     ...               ...      ...   ...      ...  \n",
       "886      0            211536  13.0000   NaN        S  \n",
       "887      0            112053  30.0000   B42        S  \n",
       "888      2        W./C. 6607  23.4500   NaN        S  \n",
       "889      0            111369  30.0000  C148        C  \n",
       "890      0            370376   7.7500   NaN        Q  \n",
       "\n",
       "[891 rows x 12 columns]"
      ]
     },
     "execution_count": 6,
     "metadata": {},
     "output_type": "execute_result"
    }
   ],
   "source": [
    "df"
   ]
  },
  {
   "cell_type": "markdown",
   "id": "043cdcc4",
   "metadata": {},
   "source": [
    "# Data Observing"
   ]
  },
  {
   "cell_type": "code",
   "execution_count": 7,
   "id": "9d786395",
   "metadata": {},
   "outputs": [
    {
     "data": {
      "text/plain": [
       "PassengerId      0\n",
       "Survived         0\n",
       "Pclass           0\n",
       "Name             0\n",
       "Sex              0\n",
       "Age            177\n",
       "SibSp            0\n",
       "Parch            0\n",
       "Ticket           0\n",
       "Fare             0\n",
       "Cabin          687\n",
       "Embarked         2\n",
       "dtype: int64"
      ]
     },
     "execution_count": 7,
     "metadata": {},
     "output_type": "execute_result"
    }
   ],
   "source": [
    "df.isna().sum()"
   ]
  },
  {
   "cell_type": "markdown",
   "id": "755c7468",
   "metadata": {},
   "source": [
    "### Survived"
   ]
  },
  {
   "cell_type": "code",
   "execution_count": 8,
   "id": "06671e88",
   "metadata": {
    "scrolled": true
   },
   "outputs": [
    {
     "data": {
      "text/html": [
       "<div>\n",
       "<style scoped>\n",
       "    .dataframe tbody tr th:only-of-type {\n",
       "        vertical-align: middle;\n",
       "    }\n",
       "\n",
       "    .dataframe tbody tr th {\n",
       "        vertical-align: top;\n",
       "    }\n",
       "\n",
       "    .dataframe thead th {\n",
       "        text-align: right;\n",
       "    }\n",
       "</style>\n",
       "<table border=\"1\" class=\"dataframe\">\n",
       "  <thead>\n",
       "    <tr style=\"text-align: right;\">\n",
       "      <th></th>\n",
       "      <th>PassangerCount</th>\n",
       "      <th>Percent</th>\n",
       "    </tr>\n",
       "    <tr>\n",
       "      <th>Survived</th>\n",
       "      <th></th>\n",
       "      <th></th>\n",
       "    </tr>\n",
       "  </thead>\n",
       "  <tbody>\n",
       "    <tr>\n",
       "      <th>0</th>\n",
       "      <td>549</td>\n",
       "      <td>62.0</td>\n",
       "    </tr>\n",
       "    <tr>\n",
       "      <th>1</th>\n",
       "      <td>342</td>\n",
       "      <td>38.0</td>\n",
       "    </tr>\n",
       "  </tbody>\n",
       "</table>\n",
       "</div>"
      ],
      "text/plain": [
       "          PassangerCount  Percent\n",
       "Survived                         \n",
       "0                    549     62.0\n",
       "1                    342     38.0"
      ]
     },
     "execution_count": 8,
     "metadata": {},
     "output_type": "execute_result"
    }
   ],
   "source": [
    "temp_df = df.groupby('Survived').agg({'PassengerId':'count'}).rename(columns={'PassengerId':'PassangerCount'})\n",
    "temp_df['Percent'] = round((temp_df.PassangerCount / df.shape[0] * 100))\n",
    "temp_df"
   ]
  },
  {
   "cell_type": "markdown",
   "id": "c438176f",
   "metadata": {},
   "source": [
    "### Pclass"
   ]
  },
  {
   "cell_type": "code",
   "execution_count": 9,
   "id": "3063fff7",
   "metadata": {},
   "outputs": [
    {
     "data": {
      "text/html": [
       "<div>\n",
       "<style scoped>\n",
       "    .dataframe tbody tr th:only-of-type {\n",
       "        vertical-align: middle;\n",
       "    }\n",
       "\n",
       "    .dataframe tbody tr th {\n",
       "        vertical-align: top;\n",
       "    }\n",
       "\n",
       "    .dataframe thead th {\n",
       "        text-align: right;\n",
       "    }\n",
       "</style>\n",
       "<table border=\"1\" class=\"dataframe\">\n",
       "  <thead>\n",
       "    <tr style=\"text-align: right;\">\n",
       "      <th></th>\n",
       "      <th>PassangerCount</th>\n",
       "      <th>Percent</th>\n",
       "    </tr>\n",
       "    <tr>\n",
       "      <th>Pclass</th>\n",
       "      <th></th>\n",
       "      <th></th>\n",
       "    </tr>\n",
       "  </thead>\n",
       "  <tbody>\n",
       "    <tr>\n",
       "      <th>1</th>\n",
       "      <td>216</td>\n",
       "      <td>24.0</td>\n",
       "    </tr>\n",
       "    <tr>\n",
       "      <th>2</th>\n",
       "      <td>184</td>\n",
       "      <td>21.0</td>\n",
       "    </tr>\n",
       "    <tr>\n",
       "      <th>3</th>\n",
       "      <td>491</td>\n",
       "      <td>55.0</td>\n",
       "    </tr>\n",
       "  </tbody>\n",
       "</table>\n",
       "</div>"
      ],
      "text/plain": [
       "        PassangerCount  Percent\n",
       "Pclass                         \n",
       "1                  216     24.0\n",
       "2                  184     21.0\n",
       "3                  491     55.0"
      ]
     },
     "execution_count": 9,
     "metadata": {},
     "output_type": "execute_result"
    }
   ],
   "source": [
    "temp_df = df.groupby('Pclass').agg({'PassengerId':'count'}).rename(columns={'PassengerId':'PassangerCount'})\n",
    "temp_df['Percent'] = round((temp_df.PassangerCount / df.shape[0] * 100))\n",
    "temp_df"
   ]
  },
  {
   "cell_type": "code",
   "execution_count": 10,
   "id": "f5e62763",
   "metadata": {},
   "outputs": [
    {
     "data": {
      "text/html": [
       "<div>\n",
       "<style scoped>\n",
       "    .dataframe tbody tr th:only-of-type {\n",
       "        vertical-align: middle;\n",
       "    }\n",
       "\n",
       "    .dataframe tbody tr th {\n",
       "        vertical-align: top;\n",
       "    }\n",
       "\n",
       "    .dataframe thead th {\n",
       "        text-align: right;\n",
       "    }\n",
       "</style>\n",
       "<table border=\"1\" class=\"dataframe\">\n",
       "  <thead>\n",
       "    <tr style=\"text-align: right;\">\n",
       "      <th></th>\n",
       "      <th>PassangerCount</th>\n",
       "      <th>Survived</th>\n",
       "      <th>PercentOfSurvived</th>\n",
       "    </tr>\n",
       "    <tr>\n",
       "      <th>Pclass</th>\n",
       "      <th></th>\n",
       "      <th></th>\n",
       "      <th></th>\n",
       "    </tr>\n",
       "  </thead>\n",
       "  <tbody>\n",
       "    <tr>\n",
       "      <th>1</th>\n",
       "      <td>216</td>\n",
       "      <td>136</td>\n",
       "      <td>63.0</td>\n",
       "    </tr>\n",
       "    <tr>\n",
       "      <th>2</th>\n",
       "      <td>184</td>\n",
       "      <td>87</td>\n",
       "      <td>47.0</td>\n",
       "    </tr>\n",
       "    <tr>\n",
       "      <th>3</th>\n",
       "      <td>491</td>\n",
       "      <td>119</td>\n",
       "      <td>24.0</td>\n",
       "    </tr>\n",
       "  </tbody>\n",
       "</table>\n",
       "</div>"
      ],
      "text/plain": [
       "        PassangerCount  Survived  PercentOfSurvived\n",
       "Pclass                                             \n",
       "1                  216       136               63.0\n",
       "2                  184        87               47.0\n",
       "3                  491       119               24.0"
      ]
     },
     "execution_count": 10,
     "metadata": {},
     "output_type": "execute_result"
    }
   ],
   "source": [
    "SurviveDistrib(df, 'Pclass')"
   ]
  },
  {
   "cell_type": "markdown",
   "id": "ad43d998",
   "metadata": {},
   "source": [
    "### Name"
   ]
  },
  {
   "cell_type": "code",
   "execution_count": 11,
   "id": "6a167ac1",
   "metadata": {},
   "outputs": [
    {
     "data": {
      "text/html": [
       "<div>\n",
       "<style scoped>\n",
       "    .dataframe tbody tr th:only-of-type {\n",
       "        vertical-align: middle;\n",
       "    }\n",
       "\n",
       "    .dataframe tbody tr th {\n",
       "        vertical-align: top;\n",
       "    }\n",
       "\n",
       "    .dataframe thead th {\n",
       "        text-align: right;\n",
       "    }\n",
       "</style>\n",
       "<table border=\"1\" class=\"dataframe\">\n",
       "  <thead>\n",
       "    <tr style=\"text-align: right;\">\n",
       "      <th></th>\n",
       "      <th>PeopleCount</th>\n",
       "      <th>SurvivedCount</th>\n",
       "      <th>SurvivedPercent</th>\n",
       "    </tr>\n",
       "    <tr>\n",
       "      <th>Teg</th>\n",
       "      <th></th>\n",
       "      <th></th>\n",
       "      <th></th>\n",
       "    </tr>\n",
       "  </thead>\n",
       "  <tbody>\n",
       "    <tr>\n",
       "      <th>the Countess</th>\n",
       "      <td>1</td>\n",
       "      <td>1</td>\n",
       "      <td>100.0</td>\n",
       "    </tr>\n",
       "    <tr>\n",
       "      <th>Mlle</th>\n",
       "      <td>2</td>\n",
       "      <td>2</td>\n",
       "      <td>100.0</td>\n",
       "    </tr>\n",
       "    <tr>\n",
       "      <th>Sir</th>\n",
       "      <td>1</td>\n",
       "      <td>1</td>\n",
       "      <td>100.0</td>\n",
       "    </tr>\n",
       "    <tr>\n",
       "      <th>Ms</th>\n",
       "      <td>1</td>\n",
       "      <td>1</td>\n",
       "      <td>100.0</td>\n",
       "    </tr>\n",
       "    <tr>\n",
       "      <th>Lady</th>\n",
       "      <td>1</td>\n",
       "      <td>1</td>\n",
       "      <td>100.0</td>\n",
       "    </tr>\n",
       "    <tr>\n",
       "      <th>Mme</th>\n",
       "      <td>1</td>\n",
       "      <td>1</td>\n",
       "      <td>100.0</td>\n",
       "    </tr>\n",
       "    <tr>\n",
       "      <th>Mrs</th>\n",
       "      <td>125</td>\n",
       "      <td>99</td>\n",
       "      <td>79.0</td>\n",
       "    </tr>\n",
       "    <tr>\n",
       "      <th>Miss</th>\n",
       "      <td>182</td>\n",
       "      <td>127</td>\n",
       "      <td>70.0</td>\n",
       "    </tr>\n",
       "    <tr>\n",
       "      <th>Master</th>\n",
       "      <td>40</td>\n",
       "      <td>23</td>\n",
       "      <td>57.0</td>\n",
       "    </tr>\n",
       "    <tr>\n",
       "      <th>Col</th>\n",
       "      <td>2</td>\n",
       "      <td>1</td>\n",
       "      <td>50.0</td>\n",
       "    </tr>\n",
       "    <tr>\n",
       "      <th>Major</th>\n",
       "      <td>2</td>\n",
       "      <td>1</td>\n",
       "      <td>50.0</td>\n",
       "    </tr>\n",
       "    <tr>\n",
       "      <th>Dr</th>\n",
       "      <td>7</td>\n",
       "      <td>3</td>\n",
       "      <td>43.0</td>\n",
       "    </tr>\n",
       "    <tr>\n",
       "      <th>Mr</th>\n",
       "      <td>517</td>\n",
       "      <td>81</td>\n",
       "      <td>16.0</td>\n",
       "    </tr>\n",
       "    <tr>\n",
       "      <th>Jonkheer</th>\n",
       "      <td>1</td>\n",
       "      <td>0</td>\n",
       "      <td>0.0</td>\n",
       "    </tr>\n",
       "    <tr>\n",
       "      <th>Rev</th>\n",
       "      <td>6</td>\n",
       "      <td>0</td>\n",
       "      <td>0.0</td>\n",
       "    </tr>\n",
       "    <tr>\n",
       "      <th>Don</th>\n",
       "      <td>1</td>\n",
       "      <td>0</td>\n",
       "      <td>0.0</td>\n",
       "    </tr>\n",
       "    <tr>\n",
       "      <th>Capt</th>\n",
       "      <td>1</td>\n",
       "      <td>0</td>\n",
       "      <td>0.0</td>\n",
       "    </tr>\n",
       "  </tbody>\n",
       "</table>\n",
       "</div>"
      ],
      "text/plain": [
       "              PeopleCount  SurvivedCount  SurvivedPercent\n",
       "Teg                                                      \n",
       "the Countess            1              1            100.0\n",
       "Mlle                    2              2            100.0\n",
       "Sir                     1              1            100.0\n",
       "Ms                      1              1            100.0\n",
       "Lady                    1              1            100.0\n",
       "Mme                     1              1            100.0\n",
       "Mrs                   125             99             79.0\n",
       "Miss                  182            127             70.0\n",
       "Master                 40             23             57.0\n",
       "Col                     2              1             50.0\n",
       "Major                   2              1             50.0\n",
       "Dr                      7              3             43.0\n",
       "Mr                    517             81             16.0\n",
       "Jonkheer                1              0              0.0\n",
       "Rev                     6              0              0.0\n",
       "Don                     1              0              0.0\n",
       "Capt                    1              0              0.0"
      ]
     },
     "execution_count": 11,
     "metadata": {},
     "output_type": "execute_result"
    }
   ],
   "source": [
    "tegs = []\n",
    "survived = []\n",
    "for i in range(df.shape[0]):\n",
    "    p1 = df.iloc[i].Name.find(', ')\n",
    "    p2 = df.iloc[i].Name.find('.')\n",
    "    tegs.append(df.iloc[i].Name[p1+2:p2])\n",
    "    survived.append(df.iloc[i].Survived)\n",
    "\n",
    "temp_df = pd.DataFrame()\n",
    "temp_df['Teg'] = tegs\n",
    "temp_df['Survived'] = survived\n",
    "tegs_gr_df = temp_df.groupby('Teg').agg({'Survived':'count'}).rename(columns={'Survived':'PeopleCount'})\n",
    "tegs_gr_df['SurvivedCount'] = temp_df.groupby('Teg').agg({'Survived':'sum'}).Survived\n",
    "tegs_gr_df['SurvivedPercent'] = round(tegs_gr_df.SurvivedCount / tegs_gr_df.PeopleCount * 100)\n",
    "tegs_gr_df.sort_values('SurvivedPercent', ascending=False)"
   ]
  },
  {
   "cell_type": "markdown",
   "id": "3039e97c",
   "metadata": {},
   "source": [
    "##### perhaps, it makes sense to add a feature : \"the percentage of survival\", based on the abbreviation"
   ]
  },
  {
   "cell_type": "markdown",
   "id": "eff74f1a",
   "metadata": {},
   "source": [
    "### Sex"
   ]
  },
  {
   "cell_type": "code",
   "execution_count": 12,
   "id": "9cdb5572",
   "metadata": {},
   "outputs": [
    {
     "data": {
      "text/html": [
       "<div>\n",
       "<style scoped>\n",
       "    .dataframe tbody tr th:only-of-type {\n",
       "        vertical-align: middle;\n",
       "    }\n",
       "\n",
       "    .dataframe tbody tr th {\n",
       "        vertical-align: top;\n",
       "    }\n",
       "\n",
       "    .dataframe thead th {\n",
       "        text-align: right;\n",
       "    }\n",
       "</style>\n",
       "<table border=\"1\" class=\"dataframe\">\n",
       "  <thead>\n",
       "    <tr style=\"text-align: right;\">\n",
       "      <th></th>\n",
       "      <th>PassangerCount</th>\n",
       "      <th>Survived</th>\n",
       "      <th>PercentOfSurvived</th>\n",
       "    </tr>\n",
       "    <tr>\n",
       "      <th>Sex</th>\n",
       "      <th></th>\n",
       "      <th></th>\n",
       "      <th></th>\n",
       "    </tr>\n",
       "  </thead>\n",
       "  <tbody>\n",
       "    <tr>\n",
       "      <th>female</th>\n",
       "      <td>314</td>\n",
       "      <td>233</td>\n",
       "      <td>74.0</td>\n",
       "    </tr>\n",
       "    <tr>\n",
       "      <th>male</th>\n",
       "      <td>577</td>\n",
       "      <td>109</td>\n",
       "      <td>19.0</td>\n",
       "    </tr>\n",
       "  </tbody>\n",
       "</table>\n",
       "</div>"
      ],
      "text/plain": [
       "        PassangerCount  Survived  PercentOfSurvived\n",
       "Sex                                                \n",
       "female             314       233               74.0\n",
       "male               577       109               19.0"
      ]
     },
     "execution_count": 12,
     "metadata": {},
     "output_type": "execute_result"
    }
   ],
   "source": [
    "SurviveDistrib(df, 'Sex')"
   ]
  },
  {
   "cell_type": "markdown",
   "id": "e055e13c",
   "metadata": {},
   "source": [
    "### Age"
   ]
  },
  {
   "cell_type": "code",
   "execution_count": 13,
   "id": "93129386",
   "metadata": {},
   "outputs": [
    {
     "data": {
      "text/plain": [
       "<AxesSubplot:title={'center':'Age distribution'}, xlabel='Age'>"
      ]
     },
     "execution_count": 13,
     "metadata": {},
     "output_type": "execute_result"
    },
    {
     "data": {
      "image/png": "[encoded data removed]",
      "text/plain": [
       "<Figure size 432x288 with 1 Axes>"
      ]
     },
     "metadata": {
      "needs_background": "light"
     },
     "output_type": "display_data"
    }
   ],
   "source": [
    "df.groupby('Age').agg({'PassengerId':'count'}).rename(columns={'PassengerId':'CountPeople'})\\\n",
    ".plot(title = 'Age distribution')"
   ]
  },
  {
   "cell_type": "code",
   "execution_count": 14,
   "id": "dd99c1e3",
   "metadata": {},
   "outputs": [
    {
     "data": {
      "text/plain": [
       "<AxesSubplot:title={'center':'Age distribution'}, xlabel='Age'>"
      ]
     },
     "execution_count": 14,
     "metadata": {},
     "output_type": "execute_result"
    },
    {
     "data": {
      "image/png": "[encoded data removed]",
      "text/plain": [
       "<Figure size 432x288 with 1 Axes>"
      ]
     },
     "metadata": {
      "needs_background": "light"
     },
     "output_type": "display_data"
    }
   ],
   "source": [
    "df[df.Survived == 1].groupby('Age').agg({'PassengerId':'count'}).rename(columns={'PassengerId':'CountPeople'})\\\n",
    ".plot(title = 'Age distribution')"
   ]
  },
  {
   "cell_type": "code",
   "execution_count": 15,
   "id": "be5fca33",
   "metadata": {},
   "outputs": [
    {
     "data": {
      "text/plain": [
       "<AxesSubplot:title={'center':'Age distribution'}, xlabel='Age'>"
      ]
     },
     "execution_count": 15,
     "metadata": {},
     "output_type": "execute_result"
    },
    {
     "data": {
      "image/png": "[encoded data removed]",
      "text/plain": [
       "<Figure size 432x288 with 1 Axes>"
      ]
     },
     "metadata": {
      "needs_background": "light"
     },
     "output_type": "display_data"
    }
   ],
   "source": [
    "df[df.Survived == 0].groupby('Age').agg({'PassengerId':'count'}).rename(columns={'PassengerId':'CountPeople'})\\\n",
    ".plot(title = 'Age distribution')"
   ]
  },
  {
   "cell_type": "code",
   "execution_count": 16,
   "id": "fd3dbc55",
   "metadata": {},
   "outputs": [
    {
     "data": {
      "text/plain": [
       "count    290.000000\n",
       "mean      28.343690\n",
       "std       14.950952\n",
       "min        0.420000\n",
       "25%       19.000000\n",
       "50%       28.000000\n",
       "75%       36.000000\n",
       "max       80.000000\n",
       "Name: Age, dtype: float64"
      ]
     },
     "execution_count": 16,
     "metadata": {},
     "output_type": "execute_result"
    }
   ],
   "source": [
    "df[df.Survived == 1].Age.describe()"
   ]
  },
  {
   "cell_type": "code",
   "execution_count": 17,
   "id": "19049997",
   "metadata": {},
   "outputs": [
    {
     "data": {
      "text/plain": [
       "count    424.000000\n",
       "mean      30.626179\n",
       "std       14.172110\n",
       "min        1.000000\n",
       "25%       21.000000\n",
       "50%       28.000000\n",
       "75%       39.000000\n",
       "max       74.000000\n",
       "Name: Age, dtype: float64"
      ]
     },
     "execution_count": 17,
     "metadata": {},
     "output_type": "execute_result"
    }
   ],
   "source": [
    "df[df.Survived ==0].Age.describe()"
   ]
  },
  {
   "cell_type": "code",
   "execution_count": 18,
   "id": "b59912b7",
   "metadata": {},
   "outputs": [
    {
     "data": {
      "text/plain": [
       "F_onewayResult(statistic=4.271194933815904, pvalue=0.03912465401348333)"
      ]
     },
     "execution_count": 18,
     "metadata": {},
     "output_type": "execute_result"
    }
   ],
   "source": [
    "stats.f_oneway(df[(df.Survived == 1) & (df.Age.notna())].Age, df[(df.Survived == 0) & (df.Age.notna())].Age)\n",
    "#for means of n-ddistributions"
   ]
  },
  {
   "cell_type": "code",
   "execution_count": 19,
   "id": "c3318ad5",
   "metadata": {},
   "outputs": [
    {
     "data": {
      "text/plain": [
       "KruskalResult(statistic=1.970097978146391, pvalue=0.16043746252207006)"
      ]
     },
     "execution_count": 19,
     "metadata": {},
     "output_type": "execute_result"
    }
   ],
   "source": [
    "stats.kruskal(df[(df.Survived == 1) & (df.Age.notna())].Age, df[(df.Survived == 0) & (df.Age.notna())].Age)\n",
    "# for medians"
   ]
  },
  {
   "cell_type": "markdown",
   "id": "3581ba6f",
   "metadata": {},
   "source": [
    "### SibSp"
   ]
  },
  {
   "cell_type": "code",
   "execution_count": 20,
   "id": "fe1a9de5",
   "metadata": {},
   "outputs": [
    {
     "data": {
      "text/html": [
       "<div>\n",
       "<style scoped>\n",
       "    .dataframe tbody tr th:only-of-type {\n",
       "        vertical-align: middle;\n",
       "    }\n",
       "\n",
       "    .dataframe tbody tr th {\n",
       "        vertical-align: top;\n",
       "    }\n",
       "\n",
       "    .dataframe thead th {\n",
       "        text-align: right;\n",
       "    }\n",
       "</style>\n",
       "<table border=\"1\" class=\"dataframe\">\n",
       "  <thead>\n",
       "    <tr style=\"text-align: right;\">\n",
       "      <th></th>\n",
       "      <th>PassengerId</th>\n",
       "    </tr>\n",
       "    <tr>\n",
       "      <th>SibSp</th>\n",
       "      <th></th>\n",
       "    </tr>\n",
       "  </thead>\n",
       "  <tbody>\n",
       "    <tr>\n",
       "      <th>0</th>\n",
       "      <td>608</td>\n",
       "    </tr>\n",
       "    <tr>\n",
       "      <th>1</th>\n",
       "      <td>209</td>\n",
       "    </tr>\n",
       "    <tr>\n",
       "      <th>2</th>\n",
       "      <td>28</td>\n",
       "    </tr>\n",
       "    <tr>\n",
       "      <th>3</th>\n",
       "      <td>16</td>\n",
       "    </tr>\n",
       "    <tr>\n",
       "      <th>4</th>\n",
       "      <td>18</td>\n",
       "    </tr>\n",
       "    <tr>\n",
       "      <th>5</th>\n",
       "      <td>5</td>\n",
       "    </tr>\n",
       "    <tr>\n",
       "      <th>8</th>\n",
       "      <td>7</td>\n",
       "    </tr>\n",
       "  </tbody>\n",
       "</table>\n",
       "</div>"
      ],
      "text/plain": [
       "       PassengerId\n",
       "SibSp             \n",
       "0              608\n",
       "1              209\n",
       "2               28\n",
       "3               16\n",
       "4               18\n",
       "5                5\n",
       "8                7"
      ]
     },
     "execution_count": 20,
     "metadata": {},
     "output_type": "execute_result"
    }
   ],
   "source": [
    "df.groupby('SibSp').agg({'PassengerId':'count'})"
   ]
  },
  {
   "cell_type": "code",
   "execution_count": 21,
   "id": "bc24ed46",
   "metadata": {},
   "outputs": [
    {
     "data": {
      "text/html": [
       "<div>\n",
       "<style scoped>\n",
       "    .dataframe tbody tr th:only-of-type {\n",
       "        vertical-align: middle;\n",
       "    }\n",
       "\n",
       "    .dataframe tbody tr th {\n",
       "        vertical-align: top;\n",
       "    }\n",
       "\n",
       "    .dataframe thead th {\n",
       "        text-align: right;\n",
       "    }\n",
       "</style>\n",
       "<table border=\"1\" class=\"dataframe\">\n",
       "  <thead>\n",
       "    <tr style=\"text-align: right;\">\n",
       "      <th></th>\n",
       "      <th>PassangerCount</th>\n",
       "      <th>Survived</th>\n",
       "      <th>PercentOfSurvived</th>\n",
       "    </tr>\n",
       "    <tr>\n",
       "      <th>SibSp</th>\n",
       "      <th></th>\n",
       "      <th></th>\n",
       "      <th></th>\n",
       "    </tr>\n",
       "  </thead>\n",
       "  <tbody>\n",
       "    <tr>\n",
       "      <th>0</th>\n",
       "      <td>608</td>\n",
       "      <td>210.0</td>\n",
       "      <td>35.0</td>\n",
       "    </tr>\n",
       "    <tr>\n",
       "      <th>1</th>\n",
       "      <td>209</td>\n",
       "      <td>112.0</td>\n",
       "      <td>54.0</td>\n",
       "    </tr>\n",
       "    <tr>\n",
       "      <th>2</th>\n",
       "      <td>28</td>\n",
       "      <td>13.0</td>\n",
       "      <td>46.0</td>\n",
       "    </tr>\n",
       "    <tr>\n",
       "      <th>3</th>\n",
       "      <td>16</td>\n",
       "      <td>4.0</td>\n",
       "      <td>25.0</td>\n",
       "    </tr>\n",
       "    <tr>\n",
       "      <th>4</th>\n",
       "      <td>18</td>\n",
       "      <td>3.0</td>\n",
       "      <td>17.0</td>\n",
       "    </tr>\n",
       "    <tr>\n",
       "      <th>5</th>\n",
       "      <td>5</td>\n",
       "      <td>NaN</td>\n",
       "      <td>NaN</td>\n",
       "    </tr>\n",
       "    <tr>\n",
       "      <th>8</th>\n",
       "      <td>7</td>\n",
       "      <td>NaN</td>\n",
       "      <td>NaN</td>\n",
       "    </tr>\n",
       "  </tbody>\n",
       "</table>\n",
       "</div>"
      ],
      "text/plain": [
       "       PassangerCount  Survived  PercentOfSurvived\n",
       "SibSp                                             \n",
       "0                 608     210.0               35.0\n",
       "1                 209     112.0               54.0\n",
       "2                  28      13.0               46.0\n",
       "3                  16       4.0               25.0\n",
       "4                  18       3.0               17.0\n",
       "5                   5       NaN                NaN\n",
       "8                   7       NaN                NaN"
      ]
     },
     "execution_count": 21,
     "metadata": {},
     "output_type": "execute_result"
    }
   ],
   "source": [
    "SurviveDistrib(df,'SibSp')"
   ]
  },
  {
   "cell_type": "code",
   "execution_count": 22,
   "id": "38ac32a5",
   "metadata": {},
   "outputs": [
    {
     "data": {
      "text/html": [
       "<div>\n",
       "<style scoped>\n",
       "    .dataframe tbody tr th:only-of-type {\n",
       "        vertical-align: middle;\n",
       "    }\n",
       "\n",
       "    .dataframe tbody tr th {\n",
       "        vertical-align: top;\n",
       "    }\n",
       "\n",
       "    .dataframe thead th {\n",
       "        text-align: right;\n",
       "    }\n",
       "</style>\n",
       "<table border=\"1\" class=\"dataframe\">\n",
       "  <thead>\n",
       "    <tr style=\"text-align: right;\">\n",
       "      <th></th>\n",
       "      <th>PassengerId</th>\n",
       "      <th>Survived</th>\n",
       "      <th>Pclass</th>\n",
       "      <th>Name</th>\n",
       "      <th>Sex</th>\n",
       "      <th>Age</th>\n",
       "      <th>SibSp</th>\n",
       "      <th>Parch</th>\n",
       "      <th>Ticket</th>\n",
       "      <th>Fare</th>\n",
       "      <th>Cabin</th>\n",
       "      <th>Embarked</th>\n",
       "    </tr>\n",
       "  </thead>\n",
       "  <tbody>\n",
       "    <tr>\n",
       "      <th>59</th>\n",
       "      <td>60</td>\n",
       "      <td>0</td>\n",
       "      <td>3</td>\n",
       "      <td>Goodwin, Master. William Frederick</td>\n",
       "      <td>male</td>\n",
       "      <td>11.0</td>\n",
       "      <td>5</td>\n",
       "      <td>2</td>\n",
       "      <td>CA 2144</td>\n",
       "      <td>46.9</td>\n",
       "      <td>NaN</td>\n",
       "      <td>S</td>\n",
       "    </tr>\n",
       "    <tr>\n",
       "      <th>71</th>\n",
       "      <td>72</td>\n",
       "      <td>0</td>\n",
       "      <td>3</td>\n",
       "      <td>Goodwin, Miss. Lillian Amy</td>\n",
       "      <td>female</td>\n",
       "      <td>16.0</td>\n",
       "      <td>5</td>\n",
       "      <td>2</td>\n",
       "      <td>CA 2144</td>\n",
       "      <td>46.9</td>\n",
       "      <td>NaN</td>\n",
       "      <td>S</td>\n",
       "    </tr>\n",
       "    <tr>\n",
       "      <th>386</th>\n",
       "      <td>387</td>\n",
       "      <td>0</td>\n",
       "      <td>3</td>\n",
       "      <td>Goodwin, Master. Sidney Leonard</td>\n",
       "      <td>male</td>\n",
       "      <td>1.0</td>\n",
       "      <td>5</td>\n",
       "      <td>2</td>\n",
       "      <td>CA 2144</td>\n",
       "      <td>46.9</td>\n",
       "      <td>NaN</td>\n",
       "      <td>S</td>\n",
       "    </tr>\n",
       "    <tr>\n",
       "      <th>480</th>\n",
       "      <td>481</td>\n",
       "      <td>0</td>\n",
       "      <td>3</td>\n",
       "      <td>Goodwin, Master. Harold Victor</td>\n",
       "      <td>male</td>\n",
       "      <td>9.0</td>\n",
       "      <td>5</td>\n",
       "      <td>2</td>\n",
       "      <td>CA 2144</td>\n",
       "      <td>46.9</td>\n",
       "      <td>NaN</td>\n",
       "      <td>S</td>\n",
       "    </tr>\n",
       "    <tr>\n",
       "      <th>683</th>\n",
       "      <td>684</td>\n",
       "      <td>0</td>\n",
       "      <td>3</td>\n",
       "      <td>Goodwin, Mr. Charles Edward</td>\n",
       "      <td>male</td>\n",
       "      <td>14.0</td>\n",
       "      <td>5</td>\n",
       "      <td>2</td>\n",
       "      <td>CA 2144</td>\n",
       "      <td>46.9</td>\n",
       "      <td>NaN</td>\n",
       "      <td>S</td>\n",
       "    </tr>\n",
       "  </tbody>\n",
       "</table>\n",
       "</div>"
      ],
      "text/plain": [
       "     PassengerId  Survived  Pclass                                Name  \\\n",
       "59            60         0       3  Goodwin, Master. William Frederick   \n",
       "71            72         0       3          Goodwin, Miss. Lillian Amy   \n",
       "386          387         0       3     Goodwin, Master. Sidney Leonard   \n",
       "480          481         0       3      Goodwin, Master. Harold Victor   \n",
       "683          684         0       3         Goodwin, Mr. Charles Edward   \n",
       "\n",
       "        Sex   Age  SibSp  Parch   Ticket  Fare Cabin Embarked  \n",
       "59     male  11.0      5      2  CA 2144  46.9   NaN        S  \n",
       "71   female  16.0      5      2  CA 2144  46.9   NaN        S  \n",
       "386    male   1.0      5      2  CA 2144  46.9   NaN        S  \n",
       "480    male   9.0      5      2  CA 2144  46.9   NaN        S  \n",
       "683    male  14.0      5      2  CA 2144  46.9   NaN        S  "
      ]
     },
     "execution_count": 22,
     "metadata": {},
     "output_type": "execute_result"
    }
   ],
   "source": [
    "df[df.SibSp == 5]"
   ]
  },
  {
   "cell_type": "code",
   "execution_count": 23,
   "id": "b220f96d",
   "metadata": {},
   "outputs": [
    {
     "data": {
      "text/html": [
       "<div>\n",
       "<style scoped>\n",
       "    .dataframe tbody tr th:only-of-type {\n",
       "        vertical-align: middle;\n",
       "    }\n",
       "\n",
       "    .dataframe tbody tr th {\n",
       "        vertical-align: top;\n",
       "    }\n",
       "\n",
       "    .dataframe thead th {\n",
       "        text-align: right;\n",
       "    }\n",
       "</style>\n",
       "<table border=\"1\" class=\"dataframe\">\n",
       "  <thead>\n",
       "    <tr style=\"text-align: right;\">\n",
       "      <th></th>\n",
       "      <th>PassengerId</th>\n",
       "      <th>Survived</th>\n",
       "      <th>Pclass</th>\n",
       "      <th>Name</th>\n",
       "      <th>Sex</th>\n",
       "      <th>Age</th>\n",
       "      <th>SibSp</th>\n",
       "      <th>Parch</th>\n",
       "      <th>Ticket</th>\n",
       "      <th>Fare</th>\n",
       "      <th>Cabin</th>\n",
       "      <th>Embarked</th>\n",
       "    </tr>\n",
       "  </thead>\n",
       "  <tbody>\n",
       "    <tr>\n",
       "      <th>159</th>\n",
       "      <td>160</td>\n",
       "      <td>0</td>\n",
       "      <td>3</td>\n",
       "      <td>Sage, Master. Thomas Henry</td>\n",
       "      <td>male</td>\n",
       "      <td>NaN</td>\n",
       "      <td>8</td>\n",
       "      <td>2</td>\n",
       "      <td>CA. 2343</td>\n",
       "      <td>69.55</td>\n",
       "      <td>NaN</td>\n",
       "      <td>S</td>\n",
       "    </tr>\n",
       "    <tr>\n",
       "      <th>180</th>\n",
       "      <td>181</td>\n",
       "      <td>0</td>\n",
       "      <td>3</td>\n",
       "      <td>Sage, Miss. Constance Gladys</td>\n",
       "      <td>female</td>\n",
       "      <td>NaN</td>\n",
       "      <td>8</td>\n",
       "      <td>2</td>\n",
       "      <td>CA. 2343</td>\n",
       "      <td>69.55</td>\n",
       "      <td>NaN</td>\n",
       "      <td>S</td>\n",
       "    </tr>\n",
       "    <tr>\n",
       "      <th>201</th>\n",
       "      <td>202</td>\n",
       "      <td>0</td>\n",
       "      <td>3</td>\n",
       "      <td>Sage, Mr. Frederick</td>\n",
       "      <td>male</td>\n",
       "      <td>NaN</td>\n",
       "      <td>8</td>\n",
       "      <td>2</td>\n",
       "      <td>CA. 2343</td>\n",
       "      <td>69.55</td>\n",
       "      <td>NaN</td>\n",
       "      <td>S</td>\n",
       "    </tr>\n",
       "    <tr>\n",
       "      <th>324</th>\n",
       "      <td>325</td>\n",
       "      <td>0</td>\n",
       "      <td>3</td>\n",
       "      <td>Sage, Mr. George John Jr</td>\n",
       "      <td>male</td>\n",
       "      <td>NaN</td>\n",
       "      <td>8</td>\n",
       "      <td>2</td>\n",
       "      <td>CA. 2343</td>\n",
       "      <td>69.55</td>\n",
       "      <td>NaN</td>\n",
       "      <td>S</td>\n",
       "    </tr>\n",
       "    <tr>\n",
       "      <th>792</th>\n",
       "      <td>793</td>\n",
       "      <td>0</td>\n",
       "      <td>3</td>\n",
       "      <td>Sage, Miss. Stella Anna</td>\n",
       "      <td>female</td>\n",
       "      <td>NaN</td>\n",
       "      <td>8</td>\n",
       "      <td>2</td>\n",
       "      <td>CA. 2343</td>\n",
       "      <td>69.55</td>\n",
       "      <td>NaN</td>\n",
       "      <td>S</td>\n",
       "    </tr>\n",
       "    <tr>\n",
       "      <th>846</th>\n",
       "      <td>847</td>\n",
       "      <td>0</td>\n",
       "      <td>3</td>\n",
       "      <td>Sage, Mr. Douglas Bullen</td>\n",
       "      <td>male</td>\n",
       "      <td>NaN</td>\n",
       "      <td>8</td>\n",
       "      <td>2</td>\n",
       "      <td>CA. 2343</td>\n",
       "      <td>69.55</td>\n",
       "      <td>NaN</td>\n",
       "      <td>S</td>\n",
       "    </tr>\n",
       "    <tr>\n",
       "      <th>863</th>\n",
       "      <td>864</td>\n",
       "      <td>0</td>\n",
       "      <td>3</td>\n",
       "      <td>Sage, Miss. Dorothy Edith \"Dolly\"</td>\n",
       "      <td>female</td>\n",
       "      <td>NaN</td>\n",
       "      <td>8</td>\n",
       "      <td>2</td>\n",
       "      <td>CA. 2343</td>\n",
       "      <td>69.55</td>\n",
       "      <td>NaN</td>\n",
       "      <td>S</td>\n",
       "    </tr>\n",
       "  </tbody>\n",
       "</table>\n",
       "</div>"
      ],
      "text/plain": [
       "     PassengerId  Survived  Pclass                               Name     Sex  \\\n",
       "159          160         0       3         Sage, Master. Thomas Henry    male   \n",
       "180          181         0       3       Sage, Miss. Constance Gladys  female   \n",
       "201          202         0       3                Sage, Mr. Frederick    male   \n",
       "324          325         0       3           Sage, Mr. George John Jr    male   \n",
       "792          793         0       3            Sage, Miss. Stella Anna  female   \n",
       "846          847         0       3           Sage, Mr. Douglas Bullen    male   \n",
       "863          864         0       3  Sage, Miss. Dorothy Edith \"Dolly\"  female   \n",
       "\n",
       "     Age  SibSp  Parch    Ticket   Fare Cabin Embarked  \n",
       "159  NaN      8      2  CA. 2343  69.55   NaN        S  \n",
       "180  NaN      8      2  CA. 2343  69.55   NaN        S  \n",
       "201  NaN      8      2  CA. 2343  69.55   NaN        S  \n",
       "324  NaN      8      2  CA. 2343  69.55   NaN        S  \n",
       "792  NaN      8      2  CA. 2343  69.55   NaN        S  \n",
       "846  NaN      8      2  CA. 2343  69.55   NaN        S  \n",
       "863  NaN      8      2  CA. 2343  69.55   NaN        S  "
      ]
     },
     "execution_count": 23,
     "metadata": {},
     "output_type": "execute_result"
    }
   ],
   "source": [
    "df[df.SibSp == 8]"
   ]
  },
  {
   "cell_type": "markdown",
   "id": "8b900862",
   "metadata": {},
   "source": [
    "### Parch"
   ]
  },
  {
   "cell_type": "code",
   "execution_count": 24,
   "id": "786579ba",
   "metadata": {},
   "outputs": [
    {
     "data": {
      "text/html": [
       "<div>\n",
       "<style scoped>\n",
       "    .dataframe tbody tr th:only-of-type {\n",
       "        vertical-align: middle;\n",
       "    }\n",
       "\n",
       "    .dataframe tbody tr th {\n",
       "        vertical-align: top;\n",
       "    }\n",
       "\n",
       "    .dataframe thead th {\n",
       "        text-align: right;\n",
       "    }\n",
       "</style>\n",
       "<table border=\"1\" class=\"dataframe\">\n",
       "  <thead>\n",
       "    <tr style=\"text-align: right;\">\n",
       "      <th></th>\n",
       "      <th>PassangerCount</th>\n",
       "      <th>Survived</th>\n",
       "      <th>PercentOfSurvived</th>\n",
       "    </tr>\n",
       "    <tr>\n",
       "      <th>Parch</th>\n",
       "      <th></th>\n",
       "      <th></th>\n",
       "      <th></th>\n",
       "    </tr>\n",
       "  </thead>\n",
       "  <tbody>\n",
       "    <tr>\n",
       "      <th>0</th>\n",
       "      <td>678</td>\n",
       "      <td>233.0</td>\n",
       "      <td>34.0</td>\n",
       "    </tr>\n",
       "    <tr>\n",
       "      <th>1</th>\n",
       "      <td>118</td>\n",
       "      <td>65.0</td>\n",
       "      <td>55.0</td>\n",
       "    </tr>\n",
       "    <tr>\n",
       "      <th>2</th>\n",
       "      <td>80</td>\n",
       "      <td>40.0</td>\n",
       "      <td>50.0</td>\n",
       "    </tr>\n",
       "    <tr>\n",
       "      <th>3</th>\n",
       "      <td>5</td>\n",
       "      <td>3.0</td>\n",
       "      <td>60.0</td>\n",
       "    </tr>\n",
       "    <tr>\n",
       "      <th>4</th>\n",
       "      <td>4</td>\n",
       "      <td>NaN</td>\n",
       "      <td>NaN</td>\n",
       "    </tr>\n",
       "    <tr>\n",
       "      <th>5</th>\n",
       "      <td>5</td>\n",
       "      <td>1.0</td>\n",
       "      <td>20.0</td>\n",
       "    </tr>\n",
       "    <tr>\n",
       "      <th>6</th>\n",
       "      <td>1</td>\n",
       "      <td>NaN</td>\n",
       "      <td>NaN</td>\n",
       "    </tr>\n",
       "  </tbody>\n",
       "</table>\n",
       "</div>"
      ],
      "text/plain": [
       "       PassangerCount  Survived  PercentOfSurvived\n",
       "Parch                                             \n",
       "0                 678     233.0               34.0\n",
       "1                 118      65.0               55.0\n",
       "2                  80      40.0               50.0\n",
       "3                   5       3.0               60.0\n",
       "4                   4       NaN                NaN\n",
       "5                   5       1.0               20.0\n",
       "6                   1       NaN                NaN"
      ]
     },
     "execution_count": 24,
     "metadata": {},
     "output_type": "execute_result"
    }
   ],
   "source": [
    "SurviveDistrib(df, 'Parch')"
   ]
  },
  {
   "cell_type": "code",
   "execution_count": 25,
   "id": "e5aa5974",
   "metadata": {},
   "outputs": [
    {
     "data": {
      "text/html": [
       "<div>\n",
       "<style scoped>\n",
       "    .dataframe tbody tr th:only-of-type {\n",
       "        vertical-align: middle;\n",
       "    }\n",
       "\n",
       "    .dataframe tbody tr th {\n",
       "        vertical-align: top;\n",
       "    }\n",
       "\n",
       "    .dataframe thead th {\n",
       "        text-align: right;\n",
       "    }\n",
       "</style>\n",
       "<table border=\"1\" class=\"dataframe\">\n",
       "  <thead>\n",
       "    <tr style=\"text-align: right;\">\n",
       "      <th></th>\n",
       "      <th>PassangerCount</th>\n",
       "      <th>Survived</th>\n",
       "      <th>PercentOfSurvived</th>\n",
       "    </tr>\n",
       "    <tr>\n",
       "      <th>allfam</th>\n",
       "      <th></th>\n",
       "      <th></th>\n",
       "      <th></th>\n",
       "    </tr>\n",
       "  </thead>\n",
       "  <tbody>\n",
       "    <tr>\n",
       "      <th>0</th>\n",
       "      <td>749</td>\n",
       "      <td>280.0</td>\n",
       "      <td>37.0</td>\n",
       "    </tr>\n",
       "    <tr>\n",
       "      <th>1</th>\n",
       "      <td>57</td>\n",
       "      <td>34.0</td>\n",
       "      <td>60.0</td>\n",
       "    </tr>\n",
       "    <tr>\n",
       "      <th>2</th>\n",
       "      <td>26</td>\n",
       "      <td>18.0</td>\n",
       "      <td>69.0</td>\n",
       "    </tr>\n",
       "    <tr>\n",
       "      <th>3</th>\n",
       "      <td>10</td>\n",
       "      <td>1.0</td>\n",
       "      <td>10.0</td>\n",
       "    </tr>\n",
       "    <tr>\n",
       "      <th>4</th>\n",
       "      <td>16</td>\n",
       "      <td>2.0</td>\n",
       "      <td>12.0</td>\n",
       "    </tr>\n",
       "    <tr>\n",
       "      <th>5</th>\n",
       "      <td>3</td>\n",
       "      <td>1.0</td>\n",
       "      <td>33.0</td>\n",
       "    </tr>\n",
       "    <tr>\n",
       "      <th>6</th>\n",
       "      <td>9</td>\n",
       "      <td>3.0</td>\n",
       "      <td>33.0</td>\n",
       "    </tr>\n",
       "    <tr>\n",
       "      <th>8</th>\n",
       "      <td>9</td>\n",
       "      <td>3.0</td>\n",
       "      <td>33.0</td>\n",
       "    </tr>\n",
       "    <tr>\n",
       "      <th>10</th>\n",
       "      <td>5</td>\n",
       "      <td>NaN</td>\n",
       "      <td>NaN</td>\n",
       "    </tr>\n",
       "    <tr>\n",
       "      <th>16</th>\n",
       "      <td>7</td>\n",
       "      <td>NaN</td>\n",
       "      <td>NaN</td>\n",
       "    </tr>\n",
       "  </tbody>\n",
       "</table>\n",
       "</div>"
      ],
      "text/plain": [
       "        PassangerCount  Survived  PercentOfSurvived\n",
       "allfam                                             \n",
       "0                  749     280.0               37.0\n",
       "1                   57      34.0               60.0\n",
       "2                   26      18.0               69.0\n",
       "3                   10       1.0               10.0\n",
       "4                   16       2.0               12.0\n",
       "5                    3       1.0               33.0\n",
       "6                    9       3.0               33.0\n",
       "8                    9       3.0               33.0\n",
       "10                   5       NaN                NaN\n",
       "16                   7       NaN                NaN"
      ]
     },
     "execution_count": 25,
     "metadata": {},
     "output_type": "execute_result"
    }
   ],
   "source": [
    "temp_df = df.copy()\n",
    "temp_df['allfam'] = temp_df.Parch * temp_df.SibSp\n",
    "SurviveDistrib(temp_df, 'allfam')\n",
    "# may be good new feature"
   ]
  },
  {
   "cell_type": "markdown",
   "id": "ac9c233c",
   "metadata": {},
   "source": [
    "### Fare"
   ]
  },
  {
   "cell_type": "code",
   "execution_count": 26,
   "id": "c7dabe11",
   "metadata": {},
   "outputs": [
    {
     "data": {
      "text/plain": [
       "<AxesSubplot:title={'center':'Fare distribution'}, xlabel='Fare'>"
      ]
     },
     "execution_count": 26,
     "metadata": {},
     "output_type": "execute_result"
    },
    {
     "data": {
      "image/png": "[encoded data removed]",
      "text/plain": [
       "<Figure size 432x288 with 1 Axes>"
      ]
     },
     "metadata": {
      "needs_background": "light"
     },
     "output_type": "display_data"
    }
   ],
   "source": [
    "df.groupby('Fare').agg({'PassengerId':'count'}).rename(columns={'PassengerId':'CountPeople'})\\\n",
    ".plot(title = 'Fare distribution')"
   ]
  },
  {
   "cell_type": "code",
   "execution_count": 27,
   "id": "239e14fa",
   "metadata": {},
   "outputs": [
    {
     "data": {
      "text/plain": [
       "<AxesSubplot:title={'center':'Fare distribution'}, xlabel='Fare'>"
      ]
     },
     "execution_count": 27,
     "metadata": {},
     "output_type": "execute_result"
    },
    {
     "data": {
      "image/png": "[encoded data removed]",
      "text/plain": [
       "<Figure size 432x288 with 1 Axes>"
      ]
     },
     "metadata": {
      "needs_background": "light"
     },
     "output_type": "display_data"
    }
   ],
   "source": [
    "df[df.Survived == 0].groupby('Fare').agg({'PassengerId':'count'}).rename(columns={'PassengerId':'CountPeople'})\\\n",
    ".plot(title = 'Fare distribution')"
   ]
  },
  {
   "cell_type": "code",
   "execution_count": 28,
   "id": "d8b4c01b",
   "metadata": {},
   "outputs": [
    {
     "data": {
      "text/plain": [
       "<AxesSubplot:title={'center':'Fare distribution'}, xlabel='Fare'>"
      ]
     },
     "execution_count": 28,
     "metadata": {},
     "output_type": "execute_result"
    },
    {
     "data": {
      "image/png": "[encoded data removed]",
      "text/plain": [
       "<Figure size 432x288 with 1 Axes>"
      ]
     },
     "metadata": {
      "needs_background": "light"
     },
     "output_type": "display_data"
    }
   ],
   "source": [
    "df[df.Survived == 1].groupby('Fare').agg({'PassengerId':'count'}).rename(columns={'PassengerId':'CountPeople'})\\\n",
    ".plot(title = 'Fare distribution')"
   ]
  },
  {
   "cell_type": "markdown",
   "id": "5a40e93a",
   "metadata": {},
   "source": [
    "### Cabin"
   ]
  },
  {
   "cell_type": "code",
   "execution_count": 29,
   "id": "9f8090a0",
   "metadata": {},
   "outputs": [],
   "source": [
    "cabins = []\n",
    "survived = []\n",
    "temp_df = df[df.Cabin.notna()][['Cabin', 'Survived']].reset_index()\n",
    "for i in range(temp_df.shape[0]):\n",
    "    cabins.append(temp_df.iloc[i].Cabin[0])\n",
    "    survived.append(temp_df.iloc[i].Survived)\n",
    "temp_df = pd.DataFrame()\n",
    "temp_df['Cabin'] = cabins\n",
    "temp_df['Survived'] = survived"
   ]
  },
  {
   "cell_type": "code",
   "execution_count": 30,
   "id": "8069d4eb",
   "metadata": {},
   "outputs": [
    {
     "data": {
      "text/html": [
       "<div>\n",
       "<style scoped>\n",
       "    .dataframe tbody tr th:only-of-type {\n",
       "        vertical-align: middle;\n",
       "    }\n",
       "\n",
       "    .dataframe tbody tr th {\n",
       "        vertical-align: top;\n",
       "    }\n",
       "\n",
       "    .dataframe thead th {\n",
       "        text-align: right;\n",
       "    }\n",
       "</style>\n",
       "<table border=\"1\" class=\"dataframe\">\n",
       "  <thead>\n",
       "    <tr style=\"text-align: right;\">\n",
       "      <th></th>\n",
       "      <th>Survived</th>\n",
       "    </tr>\n",
       "    <tr>\n",
       "      <th>Cabin</th>\n",
       "      <th></th>\n",
       "    </tr>\n",
       "  </thead>\n",
       "  <tbody>\n",
       "    <tr>\n",
       "      <th>T</th>\n",
       "      <td>0.000000</td>\n",
       "    </tr>\n",
       "    <tr>\n",
       "      <th>A</th>\n",
       "      <td>0.466667</td>\n",
       "    </tr>\n",
       "    <tr>\n",
       "      <th>G</th>\n",
       "      <td>0.500000</td>\n",
       "    </tr>\n",
       "    <tr>\n",
       "      <th>C</th>\n",
       "      <td>0.593220</td>\n",
       "    </tr>\n",
       "    <tr>\n",
       "      <th>F</th>\n",
       "      <td>0.615385</td>\n",
       "    </tr>\n",
       "    <tr>\n",
       "      <th>B</th>\n",
       "      <td>0.744681</td>\n",
       "    </tr>\n",
       "    <tr>\n",
       "      <th>E</th>\n",
       "      <td>0.750000</td>\n",
       "    </tr>\n",
       "    <tr>\n",
       "      <th>D</th>\n",
       "      <td>0.757576</td>\n",
       "    </tr>\n",
       "  </tbody>\n",
       "</table>\n",
       "</div>"
      ],
      "text/plain": [
       "       Survived\n",
       "Cabin          \n",
       "T      0.000000\n",
       "A      0.466667\n",
       "G      0.500000\n",
       "C      0.593220\n",
       "F      0.615385\n",
       "B      0.744681\n",
       "E      0.750000\n",
       "D      0.757576"
      ]
     },
     "execution_count": 30,
     "metadata": {},
     "output_type": "execute_result"
    }
   ],
   "source": [
    "temp_df.groupby('Cabin').agg({'Survived':'mean'}).sort_values('Survived')\n",
    "# may be good new feature"
   ]
  },
  {
   "cell_type": "markdown",
   "id": "a105aed1",
   "metadata": {},
   "source": [
    "### Embarked"
   ]
  },
  {
   "cell_type": "code",
   "execution_count": 31,
   "id": "bb2dae89",
   "metadata": {},
   "outputs": [
    {
     "data": {
      "text/html": [
       "<div>\n",
       "<style scoped>\n",
       "    .dataframe tbody tr th:only-of-type {\n",
       "        vertical-align: middle;\n",
       "    }\n",
       "\n",
       "    .dataframe tbody tr th {\n",
       "        vertical-align: top;\n",
       "    }\n",
       "\n",
       "    .dataframe thead th {\n",
       "        text-align: right;\n",
       "    }\n",
       "</style>\n",
       "<table border=\"1\" class=\"dataframe\">\n",
       "  <thead>\n",
       "    <tr style=\"text-align: right;\">\n",
       "      <th></th>\n",
       "      <th>PassangerCount</th>\n",
       "      <th>Survived</th>\n",
       "      <th>PercentOfSurvived</th>\n",
       "    </tr>\n",
       "    <tr>\n",
       "      <th>Embarked</th>\n",
       "      <th></th>\n",
       "      <th></th>\n",
       "      <th></th>\n",
       "    </tr>\n",
       "  </thead>\n",
       "  <tbody>\n",
       "    <tr>\n",
       "      <th>C</th>\n",
       "      <td>168</td>\n",
       "      <td>93</td>\n",
       "      <td>55.0</td>\n",
       "    </tr>\n",
       "    <tr>\n",
       "      <th>Q</th>\n",
       "      <td>77</td>\n",
       "      <td>30</td>\n",
       "      <td>39.0</td>\n",
       "    </tr>\n",
       "    <tr>\n",
       "      <th>S</th>\n",
       "      <td>644</td>\n",
       "      <td>217</td>\n",
       "      <td>34.0</td>\n",
       "    </tr>\n",
       "  </tbody>\n",
       "</table>\n",
       "</div>"
      ],
      "text/plain": [
       "          PassangerCount  Survived  PercentOfSurvived\n",
       "Embarked                                             \n",
       "C                    168        93               55.0\n",
       "Q                     77        30               39.0\n",
       "S                    644       217               34.0"
      ]
     },
     "execution_count": 31,
     "metadata": {},
     "output_type": "execute_result"
    }
   ],
   "source": [
    "SurviveDistrib(df, 'Embarked')"
   ]
  },
  {
   "cell_type": "markdown",
   "id": "c46a0f70",
   "metadata": {},
   "source": [
    "# Feature engineering"
   ]
  },
  {
   "cell_type": "code",
   "execution_count": 186,
   "id": "4ac31367",
   "metadata": {},
   "outputs": [],
   "source": [
    "new_df = df.copy()"
   ]
  },
  {
   "cell_type": "markdown",
   "id": "308cf14e",
   "metadata": {},
   "source": [
    "### On names"
   ]
  },
  {
   "cell_type": "code",
   "execution_count": 187,
   "id": "aff0f250",
   "metadata": {},
   "outputs": [],
   "source": [
    "names = list(tegs_gr_df[tegs_gr_df.PeopleCount > 30].index)\n",
    "perc = list(tegs_gr_df[tegs_gr_df.PeopleCount > 30].SurvivedPercent)\n",
    "dictionary_names = {}\n",
    "for i in range(len(names)):\n",
    "    dictionary_names[names[i]] = perc[i]"
   ]
  },
  {
   "cell_type": "code",
   "execution_count": 188,
   "id": "7c8cd621",
   "metadata": {},
   "outputs": [
    {
     "data": {
      "text/plain": [
       "{'Master': 57.0, 'Miss': 70.0, 'Mr': 16.0, 'Mrs': 79.0}"
      ]
     },
     "execution_count": 188,
     "metadata": {},
     "output_type": "execute_result"
    }
   ],
   "source": [
    "dictionary_names"
   ]
  },
  {
   "cell_type": "code",
   "execution_count": 189,
   "id": "49d4c579",
   "metadata": {},
   "outputs": [],
   "source": [
    "tegs = []\n",
    "for i in range(df.shape[0]):\n",
    "    p1 = df.iloc[i].Name.find(', ')\n",
    "    p2 = df.iloc[i].Name.find('.')\n",
    "    tegs.append(df.iloc[i].Name[p1+2:p2])\n",
    "new_df['AbrPercSurv'] = tegs\n",
    "new_df['AbrPercSurv'] = new_df['AbrPercSurv'].map(dictionary_names)"
   ]
  },
  {
   "cell_type": "code",
   "execution_count": 190,
   "id": "38317929",
   "metadata": {},
   "outputs": [
    {
     "data": {
      "text/html": [
       "<div>\n",
       "<style scoped>\n",
       "    .dataframe tbody tr th:only-of-type {\n",
       "        vertical-align: middle;\n",
       "    }\n",
       "\n",
       "    .dataframe tbody tr th {\n",
       "        vertical-align: top;\n",
       "    }\n",
       "\n",
       "    .dataframe thead th {\n",
       "        text-align: right;\n",
       "    }\n",
       "</style>\n",
       "<table border=\"1\" class=\"dataframe\">\n",
       "  <thead>\n",
       "    <tr style=\"text-align: right;\">\n",
       "      <th></th>\n",
       "      <th>PassengerId</th>\n",
       "      <th>Survived</th>\n",
       "      <th>Pclass</th>\n",
       "      <th>Name</th>\n",
       "      <th>Sex</th>\n",
       "      <th>Age</th>\n",
       "      <th>SibSp</th>\n",
       "      <th>Parch</th>\n",
       "      <th>Ticket</th>\n",
       "      <th>Fare</th>\n",
       "      <th>Cabin</th>\n",
       "      <th>Embarked</th>\n",
       "      <th>AbrPercSurv</th>\n",
       "    </tr>\n",
       "  </thead>\n",
       "  <tbody>\n",
       "    <tr>\n",
       "      <th>0</th>\n",
       "      <td>1</td>\n",
       "      <td>0</td>\n",
       "      <td>3</td>\n",
       "      <td>Braund, Mr. Owen Harris</td>\n",
       "      <td>male</td>\n",
       "      <td>22.0</td>\n",
       "      <td>1</td>\n",
       "      <td>0</td>\n",
       "      <td>A/5 21171</td>\n",
       "      <td>7.25</td>\n",
       "      <td>NaN</td>\n",
       "      <td>S</td>\n",
       "      <td>16.0</td>\n",
       "    </tr>\n",
       "  </tbody>\n",
       "</table>\n",
       "</div>"
      ],
      "text/plain": [
       "   PassengerId  Survived  Pclass                     Name   Sex   Age  SibSp  \\\n",
       "0            1         0       3  Braund, Mr. Owen Harris  male  22.0      1   \n",
       "\n",
       "   Parch     Ticket  Fare Cabin Embarked  AbrPercSurv  \n",
       "0      0  A/5 21171  7.25   NaN        S         16.0  "
      ]
     },
     "execution_count": 190,
     "metadata": {},
     "output_type": "execute_result"
    }
   ],
   "source": [
    "new_df.head(1)"
   ]
  },
  {
   "cell_type": "markdown",
   "id": "4b6f5b04",
   "metadata": {},
   "source": [
    "### On Parch and SibSp"
   ]
  },
  {
   "cell_type": "code",
   "execution_count": 191,
   "id": "fd054b1a",
   "metadata": {},
   "outputs": [],
   "source": [
    "new_df['Family'] = new_df.Parch * new_df.SibSp"
   ]
  },
  {
   "cell_type": "code",
   "execution_count": 192,
   "id": "fdae7bee",
   "metadata": {},
   "outputs": [
    {
     "data": {
      "text/html": [
       "<div>\n",
       "<style scoped>\n",
       "    .dataframe tbody tr th:only-of-type {\n",
       "        vertical-align: middle;\n",
       "    }\n",
       "\n",
       "    .dataframe tbody tr th {\n",
       "        vertical-align: top;\n",
       "    }\n",
       "\n",
       "    .dataframe thead th {\n",
       "        text-align: right;\n",
       "    }\n",
       "</style>\n",
       "<table border=\"1\" class=\"dataframe\">\n",
       "  <thead>\n",
       "    <tr style=\"text-align: right;\">\n",
       "      <th></th>\n",
       "      <th>PassengerId</th>\n",
       "      <th>Survived</th>\n",
       "      <th>Pclass</th>\n",
       "      <th>Name</th>\n",
       "      <th>Sex</th>\n",
       "      <th>Age</th>\n",
       "      <th>SibSp</th>\n",
       "      <th>Parch</th>\n",
       "      <th>Ticket</th>\n",
       "      <th>Fare</th>\n",
       "      <th>Cabin</th>\n",
       "      <th>Embarked</th>\n",
       "      <th>AbrPercSurv</th>\n",
       "      <th>Family</th>\n",
       "    </tr>\n",
       "  </thead>\n",
       "  <tbody>\n",
       "    <tr>\n",
       "      <th>0</th>\n",
       "      <td>1</td>\n",
       "      <td>0</td>\n",
       "      <td>3</td>\n",
       "      <td>Braund, Mr. Owen Harris</td>\n",
       "      <td>male</td>\n",
       "      <td>22.0</td>\n",
       "      <td>1</td>\n",
       "      <td>0</td>\n",
       "      <td>A/5 21171</td>\n",
       "      <td>7.25</td>\n",
       "      <td>NaN</td>\n",
       "      <td>S</td>\n",
       "      <td>16.0</td>\n",
       "      <td>0</td>\n",
       "    </tr>\n",
       "  </tbody>\n",
       "</table>\n",
       "</div>"
      ],
      "text/plain": [
       "   PassengerId  Survived  Pclass                     Name   Sex   Age  SibSp  \\\n",
       "0            1         0       3  Braund, Mr. Owen Harris  male  22.0      1   \n",
       "\n",
       "   Parch     Ticket  Fare Cabin Embarked  AbrPercSurv  Family  \n",
       "0      0  A/5 21171  7.25   NaN        S         16.0       0  "
      ]
     },
     "execution_count": 192,
     "metadata": {},
     "output_type": "execute_result"
    }
   ],
   "source": [
    "new_df.head(1)"
   ]
  },
  {
   "cell_type": "markdown",
   "id": "dfdb6f74",
   "metadata": {},
   "source": [
    "### On Cabin"
   ]
  },
  {
   "cell_type": "code",
   "execution_count": 193,
   "id": "cac6b479",
   "metadata": {},
   "outputs": [],
   "source": [
    "cabins = []\n",
    "for cabin in new_df.Cabin.apply(str):\n",
    "    cabins.append(cabin[0])\n",
    "new_df['CabinType'] = cabins\n",
    "new_df['CabinType'] = new_df['CabinType'].replace('n', np.nan)"
   ]
  },
  {
   "cell_type": "code",
   "execution_count": 194,
   "id": "8c2dc1a0",
   "metadata": {},
   "outputs": [
    {
     "data": {
      "text/html": [
       "<div>\n",
       "<style scoped>\n",
       "    .dataframe tbody tr th:only-of-type {\n",
       "        vertical-align: middle;\n",
       "    }\n",
       "\n",
       "    .dataframe tbody tr th {\n",
       "        vertical-align: top;\n",
       "    }\n",
       "\n",
       "    .dataframe thead th {\n",
       "        text-align: right;\n",
       "    }\n",
       "</style>\n",
       "<table border=\"1\" class=\"dataframe\">\n",
       "  <thead>\n",
       "    <tr style=\"text-align: right;\">\n",
       "      <th></th>\n",
       "      <th>PassengerId</th>\n",
       "      <th>Survived</th>\n",
       "      <th>Pclass</th>\n",
       "      <th>Name</th>\n",
       "      <th>Sex</th>\n",
       "      <th>Age</th>\n",
       "      <th>SibSp</th>\n",
       "      <th>Parch</th>\n",
       "      <th>Ticket</th>\n",
       "      <th>Fare</th>\n",
       "      <th>Cabin</th>\n",
       "      <th>Embarked</th>\n",
       "      <th>AbrPercSurv</th>\n",
       "      <th>Family</th>\n",
       "      <th>CabinType</th>\n",
       "    </tr>\n",
       "  </thead>\n",
       "  <tbody>\n",
       "    <tr>\n",
       "      <th>0</th>\n",
       "      <td>1</td>\n",
       "      <td>0</td>\n",
       "      <td>3</td>\n",
       "      <td>Braund, Mr. Owen Harris</td>\n",
       "      <td>male</td>\n",
       "      <td>22.0</td>\n",
       "      <td>1</td>\n",
       "      <td>0</td>\n",
       "      <td>A/5 21171</td>\n",
       "      <td>7.2500</td>\n",
       "      <td>NaN</td>\n",
       "      <td>S</td>\n",
       "      <td>16.0</td>\n",
       "      <td>0</td>\n",
       "      <td>NaN</td>\n",
       "    </tr>\n",
       "    <tr>\n",
       "      <th>1</th>\n",
       "      <td>2</td>\n",
       "      <td>1</td>\n",
       "      <td>1</td>\n",
       "      <td>Cumings, Mrs. John Bradley (Florence Briggs Th...</td>\n",
       "      <td>female</td>\n",
       "      <td>38.0</td>\n",
       "      <td>1</td>\n",
       "      <td>0</td>\n",
       "      <td>PC 17599</td>\n",
       "      <td>71.2833</td>\n",
       "      <td>C85</td>\n",
       "      <td>C</td>\n",
       "      <td>79.0</td>\n",
       "      <td>0</td>\n",
       "      <td>C</td>\n",
       "    </tr>\n",
       "    <tr>\n",
       "      <th>2</th>\n",
       "      <td>3</td>\n",
       "      <td>1</td>\n",
       "      <td>3</td>\n",
       "      <td>Heikkinen, Miss. Laina</td>\n",
       "      <td>female</td>\n",
       "      <td>26.0</td>\n",
       "      <td>0</td>\n",
       "      <td>0</td>\n",
       "      <td>STON/O2. 3101282</td>\n",
       "      <td>7.9250</td>\n",
       "      <td>NaN</td>\n",
       "      <td>S</td>\n",
       "      <td>70.0</td>\n",
       "      <td>0</td>\n",
       "      <td>NaN</td>\n",
       "    </tr>\n",
       "    <tr>\n",
       "      <th>3</th>\n",
       "      <td>4</td>\n",
       "      <td>1</td>\n",
       "      <td>1</td>\n",
       "      <td>Futrelle, Mrs. Jacques Heath (Lily May Peel)</td>\n",
       "      <td>female</td>\n",
       "      <td>35.0</td>\n",
       "      <td>1</td>\n",
       "      <td>0</td>\n",
       "      <td>113803</td>\n",
       "      <td>53.1000</td>\n",
       "      <td>C123</td>\n",
       "      <td>S</td>\n",
       "      <td>79.0</td>\n",
       "      <td>0</td>\n",
       "      <td>C</td>\n",
       "    </tr>\n",
       "    <tr>\n",
       "      <th>4</th>\n",
       "      <td>5</td>\n",
       "      <td>0</td>\n",
       "      <td>3</td>\n",
       "      <td>Allen, Mr. William Henry</td>\n",
       "      <td>male</td>\n",
       "      <td>35.0</td>\n",
       "      <td>0</td>\n",
       "      <td>0</td>\n",
       "      <td>373450</td>\n",
       "      <td>8.0500</td>\n",
       "      <td>NaN</td>\n",
       "      <td>S</td>\n",
       "      <td>16.0</td>\n",
       "      <td>0</td>\n",
       "      <td>NaN</td>\n",
       "    </tr>\n",
       "  </tbody>\n",
       "</table>\n",
       "</div>"
      ],
      "text/plain": [
       "   PassengerId  Survived  Pclass  \\\n",
       "0            1         0       3   \n",
       "1            2         1       1   \n",
       "2            3         1       3   \n",
       "3            4         1       1   \n",
       "4            5         0       3   \n",
       "\n",
       "                                                Name     Sex   Age  SibSp  \\\n",
       "0                            Braund, Mr. Owen Harris    male  22.0      1   \n",
       "1  Cumings, Mrs. John Bradley (Florence Briggs Th...  female  38.0      1   \n",
       "2                             Heikkinen, Miss. Laina  female  26.0      0   \n",
       "3       Futrelle, Mrs. Jacques Heath (Lily May Peel)  female  35.0      1   \n",
       "4                           Allen, Mr. William Henry    male  35.0      0   \n",
       "\n",
       "   Parch            Ticket     Fare Cabin Embarked  AbrPercSurv  Family  \\\n",
       "0      0         A/5 21171   7.2500   NaN        S         16.0       0   \n",
       "1      0          PC 17599  71.2833   C85        C         79.0       0   \n",
       "2      0  STON/O2. 3101282   7.9250   NaN        S         70.0       0   \n",
       "3      0            113803  53.1000  C123        S         79.0       0   \n",
       "4      0            373450   8.0500   NaN        S         16.0       0   \n",
       "\n",
       "  CabinType  \n",
       "0       NaN  \n",
       "1         C  \n",
       "2       NaN  \n",
       "3         C  \n",
       "4       NaN  "
      ]
     },
     "execution_count": 194,
     "metadata": {},
     "output_type": "execute_result"
    }
   ],
   "source": [
    "new_df.head()"
   ]
  },
  {
   "cell_type": "markdown",
   "id": "caaa5e7e",
   "metadata": {},
   "source": [
    "## Replacing str-values to numeric"
   ]
  },
  {
   "cell_type": "code",
   "execution_count": 195,
   "id": "2c4a9a84",
   "metadata": {},
   "outputs": [],
   "source": [
    "new_df.Sex = new_df.Sex.map({'male':1, 'female':0})\n",
    "new_df.Embarked = new_df.Embarked.map({'S':0, 'C':1, 'Q':2})\n",
    "new_df.CabinType = new_df.CabinType.map({'C':0, 'E':1, 'G':2, 'D':3, 'A':4, 'B':5, 'F':6, 'T':7})"
   ]
  },
  {
   "cell_type": "markdown",
   "id": "a878657d",
   "metadata": {},
   "source": [
    "## Droping not-infomative features"
   ]
  },
  {
   "cell_type": "code",
   "execution_count": 196,
   "id": "e667bbd5",
   "metadata": {},
   "outputs": [],
   "source": [
    "new_df = new_df.drop(['PassengerId', 'Name', 'Ticket', 'Cabin'], axis = 1)"
   ]
  },
  {
   "cell_type": "code",
   "execution_count": 197,
   "id": "18bfcdfe",
   "metadata": {},
   "outputs": [],
   "source": [
    "X_train, X_test, y_train, y_test = train_test_split(new_df.drop('Survived', axis = 1), \\\n",
    "                                                    new_df.Survived, test_size=0.2, random_state=23)"
   ]
  },
  {
   "cell_type": "code",
   "execution_count": 198,
   "id": "d447762a",
   "metadata": {},
   "outputs": [],
   "source": [
    "new_df = X_train.copy()\n",
    "new_df['Survived'] = y_train"
   ]
  },
  {
   "cell_type": "markdown",
   "id": "06f7fedb",
   "metadata": {},
   "source": [
    "## Eliminating NaN-values"
   ]
  },
  {
   "cell_type": "code",
   "execution_count": 199,
   "id": "d29419d0",
   "metadata": {},
   "outputs": [
    {
     "data": {
      "text/plain": [
       "Pclass           0\n",
       "Sex              0\n",
       "Age             95\n",
       "SibSp            0\n",
       "Parch            0\n",
       "Fare             0\n",
       "Embarked         0\n",
       "AbrPercSurv     12\n",
       "Family           0\n",
       "CabinType      379\n",
       "Survived         0\n",
       "dtype: int64"
      ]
     },
     "execution_count": 199,
     "metadata": {},
     "output_type": "execute_result"
    }
   ],
   "source": [
    "new_df[new_df.Survived == 0].isna().sum()"
   ]
  },
  {
   "cell_type": "code",
   "execution_count": 200,
   "id": "7c1bdd2f",
   "metadata": {},
   "outputs": [
    {
     "data": {
      "text/plain": [
       "Pclass           0\n",
       "Sex              0\n",
       "Age             40\n",
       "SibSp            0\n",
       "Parch            0\n",
       "Fare             0\n",
       "Embarked         1\n",
       "AbrPercSurv     10\n",
       "Family           0\n",
       "CabinType      169\n",
       "Survived         0\n",
       "dtype: int64"
      ]
     },
     "execution_count": 200,
     "metadata": {},
     "output_type": "execute_result"
    }
   ],
   "source": [
    "new_df[new_df.Survived == 1].isna().sum()"
   ]
  },
  {
   "cell_type": "markdown",
   "id": "d6c1fa5e",
   "metadata": {},
   "source": [
    "#### Let's fiil NaN in Age with mean class values and in CabinType with class modes\n",
    "#### AbrPercSurv will filed by mean values too"
   ]
  },
  {
   "cell_type": "code",
   "execution_count": 201,
   "id": "fdceb202",
   "metadata": {},
   "outputs": [],
   "source": [
    "mean_filled_df = new_df.copy()\n",
    "\n",
    "mean_filled_df.loc[(mean_filled_df.Survived == 1) & (mean_filled_df.Age.isna()), 'Age'] = \\\n",
    "mean_filled_df[mean_filled_df.Survived == 1].Age.mean()  \n",
    "\n",
    "mean_filled_df.loc[(mean_filled_df.Survived == 0) & (mean_filled_df.Age.isna()), 'Age'] = \\\n",
    "mean_filled_df[mean_filled_df.Survived == 0].Age.mean() \n",
    "\n",
    "\n",
    "mean_filled_df.loc[(mean_filled_df.Survived == 1) & (mean_filled_df.CabinType.isna()), 'CabinType'] = \\\n",
    "mean_filled_df[mean_filled_df.Survived == 1].CabinType.mode()[0]  \n",
    "\n",
    "mean_filled_df.loc[(mean_filled_df.Survived == 0) & (mean_filled_df.CabinType.isna()), 'CabinType'] = \\\n",
    "mean_filled_df[mean_filled_df.Survived == 0].CabinType.mode()[0]\n",
    "\n",
    "\n",
    "mean_filled_df.loc[(mean_filled_df.Survived == 1) & (mean_filled_df.AbrPercSurv.isna()), 'AbrPercSurv'] = \\\n",
    "mean_filled_df[mean_filled_df.Survived == 1].AbrPercSurv.mean()\n",
    "\n",
    "mean_filled_df.loc[(mean_filled_df.Survived == 0) & (mean_filled_df.AbrPercSurv.isna()), 'AbrPercSurv'] = \\\n",
    "mean_filled_df[mean_filled_df.Survived == 0].AbrPercSurv.mean()\n",
    "\n",
    "\n",
    "mean_filled_df.loc[(mean_filled_df.Survived == 1) & (mean_filled_df.Embarked.isna()), 'Embarked'] = \\\n",
    "mean_filled_df[mean_filled_df.Survived == 1].Embarked.mode()[0]\n",
    "\n",
    "mean_filled_df.loc[(mean_filled_df.Survived == 0) & (mean_filled_df.Embarked.isna()), 'Embarked'] = \\\n",
    "mean_filled_df[mean_filled_df.Survived == 0].Embarked.mode()[0]"
   ]
  },
  {
   "cell_type": "markdown",
   "id": "74d641d4",
   "metadata": {},
   "source": [
    "## Eliminating classes imbalance\n",
    "#### We will use ADASYN, like most powerfull tool"
   ]
  },
  {
   "cell_type": "code",
   "execution_count": 202,
   "id": "1b99f9f2",
   "metadata": {},
   "outputs": [],
   "source": [
    "from imblearn.over_sampling import ADASYN"
   ]
  },
  {
   "cell_type": "code",
   "execution_count": 203,
   "id": "8b6ae558",
   "metadata": {},
   "outputs": [],
   "source": [
    "ada = ADASYN(random_state=23)"
   ]
  },
  {
   "cell_type": "code",
   "execution_count": 204,
   "id": "0d831f5a",
   "metadata": {},
   "outputs": [],
   "source": [
    "X_new_ada, y_new_ada = ada.fit_resample(new_df.dropna().drop('Survived', axis = 1), new_df.dropna().Survived)\n",
    "\n",
    "\n",
    "X_train_new_ada, X_validation_new_ada, y_train_new_ada, y_validation_new_ada =\\\n",
    "    train_test_split(X_new_ada, y_new_ada, train_size=0.8, random_state=23)"
   ]
  },
  {
   "cell_type": "code",
   "execution_count": 205,
   "id": "1c18071e",
   "metadata": {},
   "outputs": [],
   "source": [
    "X_mean_ada, y_mean_ada = ada.fit_resample(mean_filled_df.drop('Survived', axis = 1), mean_filled_df.Survived)\n",
    "\n",
    "\n",
    "X_train_mean_ada, X_validation_mean_ada, y_train_mean_ada, y_validation_mean_ada =\\\n",
    "    train_test_split(X_mean_ada, y_mean_ada, train_size=0.8, random_state=23)"
   ]
  },
  {
   "cell_type": "markdown",
   "id": "70a8dbb6",
   "metadata": {},
   "source": [
    "## Model training"
   ]
  },
  {
   "cell_type": "code",
   "execution_count": 206,
   "id": "8c06172d",
   "metadata": {},
   "outputs": [],
   "source": [
    "from catboost import CatBoostClassifier\n",
    "from sklearn.metrics import *"
   ]
  },
  {
   "cell_type": "markdown",
   "id": "7e9e1938",
   "metadata": {},
   "source": [
    "#### Now we have 4 different frames, let's test it on 2 models: model1 and model2"
   ]
  },
  {
   "cell_type": "code",
   "execution_count": 219,
   "id": "c283bcb5",
   "metadata": {},
   "outputs": [],
   "source": [
    "model1 = CatBoostClassifier(custom_loss=['AUC', 'Accuracy'], eval_metric='AUC')"
   ]
  },
  {
   "cell_type": "code",
   "execution_count": 220,
   "id": "78b722ab",
   "metadata": {},
   "outputs": [],
   "source": [
    "metric = ['DataFrame','Precision', 'Recall', 'AUC', 'F1', 'Accuracy']\n",
    "model1_metrics_df = pd.DataFrame(columns = metric)"
   ]
  },
  {
   "cell_type": "code",
   "execution_count": 221,
   "id": "bc1cda19",
   "metadata": {},
   "outputs": [],
   "source": [
    "#### 1. new_df\n",
    "X_train_new, X_validation_new, y_train_new, y_validation_new =\\\n",
    "    train_test_split(new_df.drop('Survived', axis = 1), \\\n",
    "                     new_df.Survived, train_size=0.8, random_state=23)\n",
    "\n",
    "\n",
    "model1.fit(X_train_new,\n",
    "    y_train_new,\n",
    "    use_best_model=True,\n",
    "    eval_set=(X_validation_new, y_validation_new),\n",
    "    verbose=False,\n",
    "    plot=False,\n",
    "    early_stopping_rounds=1000)\n",
    "\n",
    "\n",
    "model1_metrics_df = model1_metrics_df.append({'DataFrame':'new_df',\\\n",
    "                          'Precision':precision_score(model1.predict(X_test), y_test),\\\n",
    "                          'Recall':recall_score(model1.predict(X_test), y_test),\\\n",
    "                          'AUC':roc_auc_score(model1.predict(X_test), y_test),\\\n",
    "                          'F1':f1_score(model1.predict(X_test), y_test),\\\n",
    "                          'Accuracy':accuracy_score(model1.predict(X_test), y_test)},\\\n",
    "                         ignore_index=True)"
   ]
  },
  {
   "cell_type": "code",
   "execution_count": 222,
   "id": "a8f70486",
   "metadata": {},
   "outputs": [],
   "source": [
    "#### 2. mean_filled_df\n",
    "X_train_mean, X_validation_mean, y_train_mean, y_validation_mean =\\\n",
    "    train_test_split(mean_filled_df.drop('Survived', axis = 1), \\\n",
    "                     mean_filled_df.Survived, train_size=0.8, random_state=23)\n",
    "\n",
    "\n",
    "model1.fit(X_train_mean,\n",
    "    y_train_mean,\n",
    "    use_best_model=True,\n",
    "    eval_set=(X_validation_mean, y_validation_mean),\n",
    "    verbose=False,\n",
    "    plot=False,\n",
    "    early_stopping_rounds=1000)\n",
    "\n",
    "\n",
    "model1_metrics_df = model1_metrics_df.append({'DataFrame':'mean_filled_df',\\\n",
    "                          'Precision':precision_score(model1.predict(X_test), y_test),\\\n",
    "                          'Recall':recall_score(model1.predict(X_test), y_test),\\\n",
    "                          'AUC':roc_auc_score(model1.predict(X_test), y_test),\\\n",
    "                          'F1':f1_score(model1.predict(X_test), y_test),\\\n",
    "                          'Accuracy':accuracy_score(model1.predict(X_test), y_test)},\\\n",
    "                         ignore_index=True)"
   ]
  },
  {
   "cell_type": "code",
   "execution_count": 224,
   "id": "3d2b1fcb",
   "metadata": {},
   "outputs": [],
   "source": [
    "#### 3. train_new_ada_df\n",
    "\n",
    "\n",
    "model1.fit(X_train_new_ada,\n",
    "    y_train_new_ada,\n",
    "    use_best_model=True,\n",
    "    eval_set=(X_validation_new_ada, y_validation_new_ada),\n",
    "    verbose=False,\n",
    "    plot=False,\n",
    "    early_stopping_rounds=1000)\n",
    "\n",
    "\n",
    "model1_metrics_df = model1_metrics_df.append({'DataFrame':'train_new_ada_df',\\\n",
    "                          'Precision':precision_score(model1.predict(X_test), y_test),\\\n",
    "                          'Recall':recall_score(model1.predict(X_test), y_test),\\\n",
    "                          'AUC':roc_auc_score(model1.predict(X_test), y_test),\\\n",
    "                          'F1':f1_score(model1.predict(X_test), y_test),\\\n",
    "                          'Accuracy':accuracy_score(model1.predict(X_test), y_test)},\\\n",
    "                         ignore_index=True)"
   ]
  },
  {
   "cell_type": "code",
   "execution_count": 226,
   "id": "c4caa16a",
   "metadata": {},
   "outputs": [],
   "source": [
    "#### 4. train_mean_ada_df\n",
    "\n",
    "\n",
    "model1.fit(X_train_mean_ada,\n",
    "    y_train_mean_ada,\n",
    "    use_best_model=True,\n",
    "    eval_set=(X_validation_mean_ada, y_validation_mean_ada),\n",
    "    verbose=False,\n",
    "    plot=False,\n",
    "    early_stopping_rounds=1000)\n",
    "\n",
    "\n",
    "model1_metrics_df = model1_metrics_df.append({'DataFrame':'train_new_ada_df',\\\n",
    "                          'Precision':precision_score(model1.predict(X_test), y_test),\\\n",
    "                          'Recall':recall_score(model1.predict(X_test), y_test),\\\n",
    "                          'AUC':roc_auc_score(model1.predict(X_test), y_test),\\\n",
    "                          'F1':f1_score(model1.predict(X_test), y_test),\\\n",
    "                          'Accuracy':accuracy_score(model1.predict(X_test), y_test)},\\\n",
    "                         ignore_index=True)"
   ]
  },
  {
   "cell_type": "code",
   "execution_count": 227,
   "id": "a1e1cf16",
   "metadata": {},
   "outputs": [
    {
     "data": {
      "text/html": [
       "<div>\n",
       "<style scoped>\n",
       "    .dataframe tbody tr th:only-of-type {\n",
       "        vertical-align: middle;\n",
       "    }\n",
       "\n",
       "    .dataframe tbody tr th {\n",
       "        vertical-align: top;\n",
       "    }\n",
       "\n",
       "    .dataframe thead th {\n",
       "        text-align: right;\n",
       "    }\n",
       "</style>\n",
       "<table border=\"1\" class=\"dataframe\">\n",
       "  <thead>\n",
       "    <tr style=\"text-align: right;\">\n",
       "      <th></th>\n",
       "      <th>DataFrame</th>\n",
       "      <th>Precision</th>\n",
       "      <th>Recall</th>\n",
       "      <th>AUC</th>\n",
       "      <th>F1</th>\n",
       "      <th>Accuracy</th>\n",
       "    </tr>\n",
       "  </thead>\n",
       "  <tbody>\n",
       "    <tr>\n",
       "      <th>0</th>\n",
       "      <td>new_df</td>\n",
       "      <td>0.687500</td>\n",
       "      <td>0.814815</td>\n",
       "      <td>0.827407</td>\n",
       "      <td>0.745763</td>\n",
       "      <td>0.832402</td>\n",
       "    </tr>\n",
       "    <tr>\n",
       "      <th>1</th>\n",
       "      <td>mean_filled_df</td>\n",
       "      <td>0.640625</td>\n",
       "      <td>0.732143</td>\n",
       "      <td>0.772575</td>\n",
       "      <td>0.683333</td>\n",
       "      <td>0.787709</td>\n",
       "    </tr>\n",
       "    <tr>\n",
       "      <th>2</th>\n",
       "      <td>train_new_ada_df</td>\n",
       "      <td>0.500000</td>\n",
       "      <td>0.780488</td>\n",
       "      <td>0.774302</td>\n",
       "      <td>0.609524</td>\n",
       "      <td>0.770950</td>\n",
       "    </tr>\n",
       "    <tr>\n",
       "      <th>3</th>\n",
       "      <td>train_new_ada_df</td>\n",
       "      <td>0.781250</td>\n",
       "      <td>0.549451</td>\n",
       "      <td>0.695180</td>\n",
       "      <td>0.645161</td>\n",
       "      <td>0.692737</td>\n",
       "    </tr>\n",
       "  </tbody>\n",
       "</table>\n",
       "</div>"
      ],
      "text/plain": [
       "          DataFrame  Precision    Recall       AUC        F1  Accuracy\n",
       "0            new_df   0.687500  0.814815  0.827407  0.745763  0.832402\n",
       "1    mean_filled_df   0.640625  0.732143  0.772575  0.683333  0.787709\n",
       "2  train_new_ada_df   0.500000  0.780488  0.774302  0.609524  0.770950\n",
       "3  train_new_ada_df   0.781250  0.549451  0.695180  0.645161  0.692737"
      ]
     },
     "execution_count": 227,
     "metadata": {},
     "output_type": "execute_result"
    }
   ],
   "source": [
    "model1_metrics_df"
   ]
  },
  {
   "cell_type": "code",
   "execution_count": null,
   "id": "d2a2ac51",
   "metadata": {},
   "outputs": [],
   "source": []
  },
  {
   "cell_type": "code",
   "execution_count": 249,
   "id": "382e7934",
   "metadata": {},
   "outputs": [],
   "source": [
    "model2 = CatBoostClassifier(iterations=10000,\n",
    "                         learning_rate=0.001,\n",
    "                         loss_function='Logloss',\n",
    "                         use_best_model=True,\n",
    "                         verbose=False,\n",
    "                         custom_loss=['AUC', 'Accuracy'],\n",
    "                         custom_metric=None,\n",
    "                         boosting_type=None,\n",
    "                         bootstrap_type=None,\n",
    "                         max_depth=None,\n",
    "                         n_estimators=None,\n",
    "                         random_state=None,\n",
    "                         #cat_features=cat_features,\n",
    "                         )"
   ]
  },
  {
   "cell_type": "code",
   "execution_count": 260,
   "id": "82658329",
   "metadata": {},
   "outputs": [],
   "source": [
    "model2_metrics_df = pd.DataFrame(columns = metric)"
   ]
  },
  {
   "cell_type": "code",
   "execution_count": 261,
   "id": "bd2133f7",
   "metadata": {},
   "outputs": [
    {
     "data": {
      "application/vnd.jupyter.widget-view+json": {
       "model_id": "e6d45f9b8b8942968bb90df68209ff6f",
       "version_major": 2,
       "version_minor": 0
      },
      "text/plain": [
       "MetricVisualizer(layout=Layout(align_self='stretch', height='500px'))"
      ]
     },
     "metadata": {},
     "output_type": "display_data"
    }
   ],
   "source": [
    "#### 1. new_df\n",
    "\n",
    "\n",
    "model2.fit(X_train_new,\n",
    "    y_train_new,\n",
    "    use_best_model=True,\n",
    "    eval_set=(X_validation_new, y_validation_new),\n",
    "    verbose=False,\n",
    "    plot=True)\n",
    "\n",
    "\n",
    "model2_metrics_df = model2_metrics_df.append({'DataFrame':'new_df',\\\n",
    "                          'Precision':precision_score(model2.predict(X_test), y_test),\\\n",
    "                          'Recall':recall_score(model2.predict(X_test), y_test),\\\n",
    "                          'AUC':roc_auc_score(model2.predict(X_test), y_test),\\\n",
    "                          'F1':f1_score(model2.predict(X_test), y_test),\\\n",
    "                          'Accuracy':accuracy_score(model2.predict(X_test), y_test)},\\\n",
    "                         ignore_index=True)"
   ]
  },
  {
   "cell_type": "code",
   "execution_count": 262,
   "id": "48e5f51c",
   "metadata": {},
   "outputs": [
    {
     "data": {
      "application/vnd.jupyter.widget-view+json": {
       "model_id": "b407792d24494427b2742b78103c9d5b",
       "version_major": 2,
       "version_minor": 0
      },
      "text/plain": [
       "MetricVisualizer(layout=Layout(align_self='stretch', height='500px'))"
      ]
     },
     "metadata": {},
     "output_type": "display_data"
    }
   ],
   "source": [
    "#### 2. mean_filled_df\n",
    "\n",
    "\n",
    "model2.fit(X_train_mean,\n",
    "    y_train_mean,\n",
    "    use_best_model=True,\n",
    "    eval_set=(X_validation_mean, y_validation_mean),\n",
    "    verbose=False,\n",
    "    plot=True,\n",
    "    early_stopping_rounds=1000)\n",
    "\n",
    "\n",
    "model2_metrics_df = model2_metrics_df.append({'DataFrame':'mean_filled_df',\\\n",
    "                          'Precision':precision_score(model2.predict(X_test), y_test),\\\n",
    "                          'Recall':recall_score(model2.predict(X_test), y_test),\\\n",
    "                          'AUC':roc_auc_score(model2.predict(X_test), y_test),\\\n",
    "                          'F1':f1_score(model2.predict(X_test), y_test),\\\n",
    "                          'Accuracy':accuracy_score(model2.predict(X_test), y_test)},\\\n",
    "                         ignore_index=True)"
   ]
  },
  {
   "cell_type": "code",
   "execution_count": 263,
   "id": "734da224",
   "metadata": {},
   "outputs": [
    {
     "data": {
      "application/vnd.jupyter.widget-view+json": {
       "model_id": "da78dcae4ff34bffaa54566c1a541335",
       "version_major": 2,
       "version_minor": 0
      },
      "text/plain": [
       "MetricVisualizer(layout=Layout(align_self='stretch', height='500px'))"
      ]
     },
     "metadata": {},
     "output_type": "display_data"
    }
   ],
   "source": [
    "#### 3. train_new_ada_df\n",
    "\n",
    "\n",
    "model2.fit(X_train_new_ada,\n",
    "    y_train_new_ada,\n",
    "    use_best_model=True,\n",
    "    eval_set=(X_validation_new_ada, y_validation_new_ada),\n",
    "    verbose=False,\n",
    "    plot=True,\n",
    "    early_stopping_rounds=1000)\n",
    "\n",
    "\n",
    "model2_metrics_df = model2_metrics_df.append({'DataFrame':'train_new_ada_df',\\\n",
    "                          'Precision':precision_score(model2.predict(X_test), y_test),\\\n",
    "                          'Recall':recall_score(model2.predict(X_test), y_test),\\\n",
    "                          'AUC':roc_auc_score(model2.predict(X_test), y_test),\\\n",
    "                          'F1':f1_score(model2.predict(X_test), y_test),\\\n",
    "                          'Accuracy':accuracy_score(model2.predict(X_test), y_test)},\\\n",
    "                         ignore_index=True)"
   ]
  },
  {
   "cell_type": "code",
   "execution_count": 264,
   "id": "d652fd18",
   "metadata": {},
   "outputs": [
    {
     "data": {
      "application/vnd.jupyter.widget-view+json": {
       "model_id": "3846abc2310240cea1b2174bb4bbba90",
       "version_major": 2,
       "version_minor": 0
      },
      "text/plain": [
       "MetricVisualizer(layout=Layout(align_self='stretch', height='500px'))"
      ]
     },
     "metadata": {},
     "output_type": "display_data"
    }
   ],
   "source": [
    "#### 4. train_mean_ada_df\n",
    "\n",
    "\n",
    "model2.fit(X_train_mean_ada,\n",
    "    y_train_mean_ada,\n",
    "    use_best_model=True,\n",
    "    eval_set=(X_validation_mean_ada, y_validation_mean_ada),\n",
    "    verbose=False,\n",
    "    plot=True,\n",
    "    early_stopping_rounds=1000)\n",
    "\n",
    "\n",
    "model2_metrics_df = model2_metrics_df.append({'DataFrame':'train_mean_ada_df',\\\n",
    "                          'Precision':precision_score(model2.predict(X_test), y_test),\\\n",
    "                          'Recall':recall_score(model2.predict(X_test), y_test),\\\n",
    "                          'AUC':roc_auc_score(model2.predict(X_test), y_test),\\\n",
    "                          'F1':f1_score(model2.predict(X_test), y_test),\\\n",
    "                          'Accuracy':accuracy_score(model2.predict(X_test), y_test)},\\\n",
    "                         ignore_index=True)"
   ]
  },
  {
   "cell_type": "code",
   "execution_count": 265,
   "id": "87292365",
   "metadata": {},
   "outputs": [
    {
     "data": {
      "text/html": [
       "<div>\n",
       "<style scoped>\n",
       "    .dataframe tbody tr th:only-of-type {\n",
       "        vertical-align: middle;\n",
       "    }\n",
       "\n",
       "    .dataframe tbody tr th {\n",
       "        vertical-align: top;\n",
       "    }\n",
       "\n",
       "    .dataframe thead th {\n",
       "        text-align: right;\n",
       "    }\n",
       "</style>\n",
       "<table border=\"1\" class=\"dataframe\">\n",
       "  <thead>\n",
       "    <tr style=\"text-align: right;\">\n",
       "      <th></th>\n",
       "      <th>DataFrame</th>\n",
       "      <th>Precision</th>\n",
       "      <th>Recall</th>\n",
       "      <th>AUC</th>\n",
       "      <th>F1</th>\n",
       "      <th>Accuracy</th>\n",
       "    </tr>\n",
       "  </thead>\n",
       "  <tbody>\n",
       "    <tr>\n",
       "      <th>0</th>\n",
       "      <td>new_df</td>\n",
       "      <td>0.609375</td>\n",
       "      <td>0.829787</td>\n",
       "      <td>0.820197</td>\n",
       "      <td>0.702703</td>\n",
       "      <td>0.815642</td>\n",
       "    </tr>\n",
       "    <tr>\n",
       "      <th>1</th>\n",
       "      <td>mean_filled_df</td>\n",
       "      <td>0.640625</td>\n",
       "      <td>0.694915</td>\n",
       "      <td>0.751624</td>\n",
       "      <td>0.666667</td>\n",
       "      <td>0.770950</td>\n",
       "    </tr>\n",
       "    <tr>\n",
       "      <th>2</th>\n",
       "      <td>train_new_ada_df</td>\n",
       "      <td>0.734375</td>\n",
       "      <td>0.382114</td>\n",
       "      <td>0.539271</td>\n",
       "      <td>0.502674</td>\n",
       "      <td>0.480447</td>\n",
       "    </tr>\n",
       "    <tr>\n",
       "      <th>3</th>\n",
       "      <td>train_mean_ada_df</td>\n",
       "      <td>0.750000</td>\n",
       "      <td>0.615385</td>\n",
       "      <td>0.728484</td>\n",
       "      <td>0.676056</td>\n",
       "      <td>0.743017</td>\n",
       "    </tr>\n",
       "  </tbody>\n",
       "</table>\n",
       "</div>"
      ],
      "text/plain": [
       "           DataFrame  Precision    Recall       AUC        F1  Accuracy\n",
       "0             new_df   0.609375  0.829787  0.820197  0.702703  0.815642\n",
       "1     mean_filled_df   0.640625  0.694915  0.751624  0.666667  0.770950\n",
       "2   train_new_ada_df   0.734375  0.382114  0.539271  0.502674  0.480447\n",
       "3  train_mean_ada_df   0.750000  0.615385  0.728484  0.676056  0.743017"
      ]
     },
     "execution_count": 265,
     "metadata": {},
     "output_type": "execute_result"
    }
   ],
   "source": [
    "model2_metrics_df"
   ]
  },
  {
   "cell_type": "code",
   "execution_count": 266,
   "id": "130c4f19",
   "metadata": {},
   "outputs": [
    {
     "data": {
      "text/html": [
       "<div>\n",
       "<style scoped>\n",
       "    .dataframe tbody tr th:only-of-type {\n",
       "        vertical-align: middle;\n",
       "    }\n",
       "\n",
       "    .dataframe tbody tr th {\n",
       "        vertical-align: top;\n",
       "    }\n",
       "\n",
       "    .dataframe thead th {\n",
       "        text-align: right;\n",
       "    }\n",
       "</style>\n",
       "<table border=\"1\" class=\"dataframe\">\n",
       "  <thead>\n",
       "    <tr style=\"text-align: right;\">\n",
       "      <th></th>\n",
       "      <th>DataFrame</th>\n",
       "      <th>Precision</th>\n",
       "      <th>Recall</th>\n",
       "      <th>AUC</th>\n",
       "      <th>F1</th>\n",
       "      <th>Accuracy</th>\n",
       "    </tr>\n",
       "  </thead>\n",
       "  <tbody>\n",
       "    <tr>\n",
       "      <th>0</th>\n",
       "      <td>new_df</td>\n",
       "      <td>0.687500</td>\n",
       "      <td>0.814815</td>\n",
       "      <td>0.827407</td>\n",
       "      <td>0.745763</td>\n",
       "      <td>0.832402</td>\n",
       "    </tr>\n",
       "    <tr>\n",
       "      <th>1</th>\n",
       "      <td>mean_filled_df</td>\n",
       "      <td>0.640625</td>\n",
       "      <td>0.732143</td>\n",
       "      <td>0.772575</td>\n",
       "      <td>0.683333</td>\n",
       "      <td>0.787709</td>\n",
       "    </tr>\n",
       "    <tr>\n",
       "      <th>2</th>\n",
       "      <td>train_new_ada_df</td>\n",
       "      <td>0.500000</td>\n",
       "      <td>0.780488</td>\n",
       "      <td>0.774302</td>\n",
       "      <td>0.609524</td>\n",
       "      <td>0.770950</td>\n",
       "    </tr>\n",
       "    <tr>\n",
       "      <th>3</th>\n",
       "      <td>train_new_ada_df</td>\n",
       "      <td>0.781250</td>\n",
       "      <td>0.549451</td>\n",
       "      <td>0.695180</td>\n",
       "      <td>0.645161</td>\n",
       "      <td>0.692737</td>\n",
       "    </tr>\n",
       "  </tbody>\n",
       "</table>\n",
       "</div>"
      ],
      "text/plain": [
       "          DataFrame  Precision    Recall       AUC        F1  Accuracy\n",
       "0            new_df   0.687500  0.814815  0.827407  0.745763  0.832402\n",
       "1    mean_filled_df   0.640625  0.732143  0.772575  0.683333  0.787709\n",
       "2  train_new_ada_df   0.500000  0.780488  0.774302  0.609524  0.770950\n",
       "3  train_new_ada_df   0.781250  0.549451  0.695180  0.645161  0.692737"
      ]
     },
     "execution_count": 266,
     "metadata": {},
     "output_type": "execute_result"
    }
   ],
   "source": [
    "model1_metrics_df"
   ]
  },
  {
   "cell_type": "markdown",
   "id": "41750b8f",
   "metadata": {},
   "source": [
    "#### model1 showed the best result on dataset \"new_df\"\n",
    "#### Let's tune it!"
   ]
  },
  {
   "cell_type": "code",
   "execution_count": 267,
   "id": "793af116",
   "metadata": {},
   "outputs": [],
   "source": [
    "model1 = CatBoostClassifier(custom_loss=['AUC', 'Accuracy'], eval_metric='AUC')"
   ]
  },
  {
   "cell_type": "code",
   "execution_count": 272,
   "id": "760a7a5c",
   "metadata": {},
   "outputs": [
    {
     "name": "stderr",
     "output_type": "stream",
     "text": [
      "Custom logger is already specified. Specify more than one logger at same time is not thread safe."
     ]
    },
    {
     "data": {
      "application/vnd.jupyter.widget-view+json": {
       "model_id": "824da73081e4436589e2c687ce8f6598",
       "version_major": 2,
       "version_minor": 0
      },
      "text/plain": [
       "MetricVisualizer(layout=Layout(align_self='stretch', height='500px'))"
      ]
     },
     "metadata": {},
     "output_type": "display_data"
    },
    {
     "data": {
      "text/plain": [
       "<catboost.core.CatBoostClassifier at 0x7fc7b2d08e50>"
      ]
     },
     "execution_count": 272,
     "metadata": {},
     "output_type": "execute_result"
    }
   ],
   "source": [
    "model1.fit(X_train_new,\n",
    "    y_train_new,\n",
    "    use_best_model=True,\n",
    "    eval_set=(X_validation_new, y_validation_new),\n",
    "    verbose=False,\n",
    "    plot=True,\n",
    "    early_stopping_rounds=1000)\n"
   ]
  },
  {
   "cell_type": "code",
   "execution_count": 276,
   "id": "5bd13d5e",
   "metadata": {},
   "outputs": [
    {
     "data": {
      "application/vnd.jupyter.widget-view+json": {
       "model_id": "a823215411fe4b7dbca5752b746e53af",
       "version_major": 2,
       "version_minor": 0
      },
      "text/plain": [
       "MetricVisualizer(layout=Layout(align_self='stretch', height='500px'))"
      ]
     },
     "metadata": {},
     "output_type": "display_data"
    },
    {
     "data": {
      "text/plain": [
       "<catboost.core.CatBoostClassifier at 0x7fc7b246cfd0>"
      ]
     },
     "execution_count": 276,
     "metadata": {},
     "output_type": "execute_result"
    }
   ],
   "source": [
    "tunned_model = CatBoostClassifier(iterations=10000,\n",
    "                         learning_rate=0.01,\n",
    "                         loss_function='Logloss',\n",
    "                         use_best_model=True,\n",
    "                         verbose=False,\n",
    "                         custom_loss=['AUC', 'Accuracy', 'F1'],\n",
    "                         eval_metric='Logloss',\n",
    "                         early_stopping_rounds=500,\n",
    "                        leaf_estimation_method='Newton')\n",
    "\n",
    "tunned_model.fit(X_train_new,\n",
    "    y_train_new,\n",
    "    use_best_model=True,\n",
    "    eval_set=(X_validation_new, y_validation_new),\n",
    "    verbose=False,\n",
    "    plot=True)"
   ]
  },
  {
   "cell_type": "code",
   "execution_count": 279,
   "id": "df287f18",
   "metadata": {},
   "outputs": [
    {
     "name": "stdout",
     "output_type": "stream",
     "text": [
      "model1\n",
      "Precision 0.6875\n",
      "Recall 0.8148148148148148\n",
      "AUC 0.8274074074074074\n",
      "F1 0.7457627118644067\n",
      "Accuracy 0.8324022346368715\n"
     ]
    }
   ],
   "source": [
    "print('model1')\n",
    "print('Precision',precision_score(model1.predict(X_test), y_test))\n",
    "print('Recall',recall_score(model1.predict(X_test), y_test))\n",
    "print('AUC',roc_auc_score(model1.predict(X_test), y_test))\n",
    "print('F1',f1_score(model1.predict(X_test), y_test))\n",
    "print('Accuracy',accuracy_score(model1.predict(X_test), y_test))"
   ]
  },
  {
   "cell_type": "code",
   "execution_count": 280,
   "id": "849aee86",
   "metadata": {},
   "outputs": [
    {
     "name": "stdout",
     "output_type": "stream",
     "text": [
      "tunned_model\n",
      "Precision 0.625\n",
      "Recall 0.8333333333333334\n",
      "AUC 0.8250636132315523\n",
      "F1 0.7142857142857143\n",
      "Accuracy 0.8212290502793296\n"
     ]
    }
   ],
   "source": [
    "print('tunned_model')\n",
    "print('Precision',precision_score(tunned_model.predict(X_test), y_test))\n",
    "print('Recall',recall_score(tunned_model.predict(X_test), y_test))\n",
    "print('AUC',roc_auc_score(tunned_model.predict(X_test), y_test))\n",
    "print('F1',f1_score(tunned_model.predict(X_test), y_test))\n",
    "print('Accuracy',accuracy_score(tunned_model.predict(X_test), y_test))"
   ]
  },
  {
   "cell_type": "markdown",
   "id": "e32e7b31",
   "metadata": {},
   "source": [
    "#### model1 is still the best....."
   ]
  },
  {
   "cell_type": "markdown",
   "id": "5f5f10eb",
   "metadata": {},
   "source": [
    "#### Make Kaggle submission"
   ]
  },
  {
   "cell_type": "code",
   "execution_count": 294,
   "id": "b6a83391",
   "metadata": {},
   "outputs": [],
   "source": [
    "new_test_df = test_df.copy()"
   ]
  },
  {
   "cell_type": "code",
   "execution_count": 295,
   "id": "7c6424be",
   "metadata": {},
   "outputs": [],
   "source": [
    "names = list(tegs_gr_df[tegs_gr_df.PeopleCount > 30].index)\n",
    "perc = list(tegs_gr_df[tegs_gr_df.PeopleCount > 30].SurvivedPercent)\n",
    "dictionary_names = {}\n",
    "for i in range(len(names)):\n",
    "    dictionary_names[names[i]] = perc[i]"
   ]
  },
  {
   "cell_type": "code",
   "execution_count": 296,
   "id": "864c5efd",
   "metadata": {},
   "outputs": [],
   "source": [
    "tegs = []\n",
    "for i in range(new_test_df.shape[0]):\n",
    "    p1 = new_test_df.iloc[i].Name.find(', ')\n",
    "    p2 = new_test_df.iloc[i].Name.find('.')\n",
    "    tegs.append(new_test_df.iloc[i].Name[p1+2:p2])\n",
    "new_test_df['AbrPercSurv'] = tegs\n",
    "new_test_df['AbrPercSurv'] = new_test_df['AbrPercSurv'].map(dictionary_names)"
   ]
  },
  {
   "cell_type": "code",
   "execution_count": 297,
   "id": "4b81d106",
   "metadata": {},
   "outputs": [],
   "source": [
    "new_test_df['Family'] = new_test_df.Parch * new_test_df.SibSp"
   ]
  },
  {
   "cell_type": "code",
   "execution_count": 298,
   "id": "41c81b23",
   "metadata": {},
   "outputs": [],
   "source": [
    "cabins = []\n",
    "for cabin in new_test_df.Cabin.apply(str):\n",
    "    cabins.append(cabin[0])\n",
    "new_test_df['CabinType'] = cabins\n",
    "new_test_df['CabinType'] = new_test_df['CabinType'].replace('n', np.nan)"
   ]
  },
  {
   "cell_type": "code",
   "execution_count": 299,
   "id": "d65306e9",
   "metadata": {},
   "outputs": [],
   "source": [
    "new_test_df.Sex = new_test_df.Sex.map({'male':1, 'female':0})\n",
    "new_test_df.Embarked = new_test_df.Embarked.map({'S':0, 'C':1, 'Q':2})\n",
    "new_test_df.CabinType = new_test_df.CabinType.map({'C':0, 'E':1, 'G':2, 'D':3, 'A':4, 'B':5, 'F':6, 'T':7})"
   ]
  },
  {
   "cell_type": "code",
   "execution_count": 300,
   "id": "a1029a08",
   "metadata": {},
   "outputs": [],
   "source": [
    "new_test_df = new_test_df.drop(['Name', 'Ticket', 'Cabin'], axis = 1)"
   ]
  },
  {
   "cell_type": "code",
   "execution_count": 304,
   "id": "82181a4f",
   "metadata": {},
   "outputs": [],
   "source": [
    "submission_df = pd.DataFrame(index = new_test_df.PassengerId)\n",
    "submission_df['Survived'] = model1.predict(new_test_df)"
   ]
  },
  {
   "cell_type": "code",
   "execution_count": 305,
   "id": "48e8064a",
   "metadata": {},
   "outputs": [
    {
     "data": {
      "text/html": [
       "<div>\n",
       "<style scoped>\n",
       "    .dataframe tbody tr th:only-of-type {\n",
       "        vertical-align: middle;\n",
       "    }\n",
       "\n",
       "    .dataframe tbody tr th {\n",
       "        vertical-align: top;\n",
       "    }\n",
       "\n",
       "    .dataframe thead th {\n",
       "        text-align: right;\n",
       "    }\n",
       "</style>\n",
       "<table border=\"1\" class=\"dataframe\">\n",
       "  <thead>\n",
       "    <tr style=\"text-align: right;\">\n",
       "      <th></th>\n",
       "      <th>Survived</th>\n",
       "    </tr>\n",
       "    <tr>\n",
       "      <th>PassengerId</th>\n",
       "      <th></th>\n",
       "    </tr>\n",
       "  </thead>\n",
       "  <tbody>\n",
       "    <tr>\n",
       "      <th>892</th>\n",
       "      <td>0</td>\n",
       "    </tr>\n",
       "    <tr>\n",
       "      <th>893</th>\n",
       "      <td>0</td>\n",
       "    </tr>\n",
       "    <tr>\n",
       "      <th>894</th>\n",
       "      <td>0</td>\n",
       "    </tr>\n",
       "    <tr>\n",
       "      <th>895</th>\n",
       "      <td>0</td>\n",
       "    </tr>\n",
       "    <tr>\n",
       "      <th>896</th>\n",
       "      <td>1</td>\n",
       "    </tr>\n",
       "    <tr>\n",
       "      <th>...</th>\n",
       "      <td>...</td>\n",
       "    </tr>\n",
       "    <tr>\n",
       "      <th>1305</th>\n",
       "      <td>0</td>\n",
       "    </tr>\n",
       "    <tr>\n",
       "      <th>1306</th>\n",
       "      <td>1</td>\n",
       "    </tr>\n",
       "    <tr>\n",
       "      <th>1307</th>\n",
       "      <td>0</td>\n",
       "    </tr>\n",
       "    <tr>\n",
       "      <th>1308</th>\n",
       "      <td>0</td>\n",
       "    </tr>\n",
       "    <tr>\n",
       "      <th>1309</th>\n",
       "      <td>1</td>\n",
       "    </tr>\n",
       "  </tbody>\n",
       "</table>\n",
       "<p>418 rows × 1 columns</p>\n",
       "</div>"
      ],
      "text/plain": [
       "             Survived\n",
       "PassengerId          \n",
       "892                 0\n",
       "893                 0\n",
       "894                 0\n",
       "895                 0\n",
       "896                 1\n",
       "...               ...\n",
       "1305                0\n",
       "1306                1\n",
       "1307                0\n",
       "1308                0\n",
       "1309                1\n",
       "\n",
       "[418 rows x 1 columns]"
      ]
     },
     "execution_count": 305,
     "metadata": {},
     "output_type": "execute_result"
    }
   ],
   "source": [
    "submission_df"
   ]
  },
  {
   "cell_type": "code",
   "execution_count": 306,
   "id": "07481547",
   "metadata": {},
   "outputs": [],
   "source": [
    "submission_df.to_csv('/Users/artemarhipov/Downloads/titanic_submission.csv')"
   ]
  },
  {
   "cell_type": "markdown",
   "id": "1625d4a7",
   "metadata": {},
   "source": [
    "## score: Accuracy = 0.75598"
   ]
  }
 ],
 "metadata": {
  "kernelspec": {
   "display_name": "Python 3 (ipykernel)",
   "language": "python",
   "name": "python3"
  },
  "language_info": {
   "codemirror_mode": {
    "name": "ipython",
    "version": 3
   },
   "file_extension": ".py",
   "mimetype": "text/x-python",
   "name": "python",
   "nbconvert_exporter": "python",
   "pygments_lexer": "ipython3",
   "version": "3.9.7"
  }
 },
 "nbformat": 4,
 "nbformat_minor": 5
}
